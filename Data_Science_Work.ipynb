{
 "cells": [
  {
   "cell_type": "markdown",
   "metadata": {},
   "source": [
    "# 1- Definning Problem"
   ]
  },
  {
   "cell_type": "markdown",
   "metadata": {},
   "source": [
    "### A cofe shop is suffering from daily (1- Out of stock 2-Over Stock), which cosig increasing in wastage cost and decreasing in profit so I decided to help them by building a Daily demand forecasting for their products consumption "
   ]
  },
  {
   "cell_type": "code",
   "execution_count": null,
   "metadata": {},
   "outputs": [],
   "source": []
  },
  {
   "cell_type": "markdown",
   "metadata": {},
   "source": [
    "# 2- Collecting Data"
   ]
  },
  {
   "cell_type": "markdown",
   "metadata": {},
   "source": [
    "### The data has been collected from their POS system \n",
    "### using Octoparse web scraping tool I collected the data for daily customers bills (recipetes) which results in almost 100k bills"
   ]
  },
  {
   "cell_type": "markdown",
   "metadata": {},
   "source": [
    "# 3- Preapring Data"
   ]
  },
  {
   "cell_type": "code",
   "execution_count": 1,
   "metadata": {},
   "outputs": [],
   "source": [
    "# Reading Data\n",
    "import pandas as pd\n",
    "df = pd.read_csv(\"Sales 2023.csv\", low_memory=False)"
   ]
  },
  {
   "cell_type": "code",
   "execution_count": 2,
   "metadata": {},
   "outputs": [
    {
     "data": {
      "text/html": [
       "<div>\n",
       "<style scoped>\n",
       "    .dataframe tbody tr th:only-of-type {\n",
       "        vertical-align: middle;\n",
       "    }\n",
       "\n",
       "    .dataframe tbody tr th {\n",
       "        vertical-align: top;\n",
       "    }\n",
       "\n",
       "    .dataframe thead th {\n",
       "        text-align: right;\n",
       "    }\n",
       "</style>\n",
       "<table border=\"1\" class=\"dataframe\">\n",
       "  <thead>\n",
       "    <tr style=\"text-align: right;\">\n",
       "      <th></th>\n",
       "      <th>Date</th>\n",
       "      <th>Receipt number</th>\n",
       "      <th>Receipt type</th>\n",
       "      <th>Category</th>\n",
       "      <th>SKU</th>\n",
       "      <th>Item</th>\n",
       "      <th>Variant</th>\n",
       "      <th>Modifiers applied</th>\n",
       "      <th>Quantity</th>\n",
       "      <th>Gross sales</th>\n",
       "      <th>...</th>\n",
       "      <th>Gross profit</th>\n",
       "      <th>Taxes</th>\n",
       "      <th>Dining option</th>\n",
       "      <th>POS</th>\n",
       "      <th>Store</th>\n",
       "      <th>Cashier name</th>\n",
       "      <th>Customer name</th>\n",
       "      <th>Customer contacts</th>\n",
       "      <th>Comment</th>\n",
       "      <th>Status</th>\n",
       "    </tr>\n",
       "  </thead>\n",
       "  <tbody>\n",
       "    <tr>\n",
       "      <th>0</th>\n",
       "      <td>01/01/2024 23:54</td>\n",
       "      <td>4-63916</td>\n",
       "      <td>Sale</td>\n",
       "      <td>قهوة</td>\n",
       "      <td>10013</td>\n",
       "      <td>قهوة اليوم (بارد)</td>\n",
       "      <td>كبير</td>\n",
       "      <td>NaN</td>\n",
       "      <td>1.0</td>\n",
       "      <td>12.0</td>\n",
       "      <td>...</td>\n",
       "      <td>8.94</td>\n",
       "      <td>1.57</td>\n",
       "      <td>Dine in</td>\n",
       "      <td>آسن! - الفرع الثاني</td>\n",
       "      <td>آســـن!Assin - فرع الدائري</td>\n",
       "      <td>a_nasef94@hotmail.com</td>\n",
       "      <td>NaN</td>\n",
       "      <td>NaN</td>\n",
       "      <td>NaN</td>\n",
       "      <td>Closed</td>\n",
       "    </tr>\n",
       "    <tr>\n",
       "      <th>1</th>\n",
       "      <td>01/01/2024 23:54</td>\n",
       "      <td>4-63916</td>\n",
       "      <td>Sale</td>\n",
       "      <td>مشاريب</td>\n",
       "      <td>10011</td>\n",
       "      <td>بروتي</td>\n",
       "      <td>NaN</td>\n",
       "      <td>NaN</td>\n",
       "      <td>1.0</td>\n",
       "      <td>20.0</td>\n",
       "      <td>...</td>\n",
       "      <td>14.43</td>\n",
       "      <td>2.60</td>\n",
       "      <td>Dine in</td>\n",
       "      <td>آسن! - الفرع الثاني</td>\n",
       "      <td>آســـن!Assin - فرع الدائري</td>\n",
       "      <td>a_nasef94@hotmail.com</td>\n",
       "      <td>NaN</td>\n",
       "      <td>NaN</td>\n",
       "      <td>NaN</td>\n",
       "      <td>Closed</td>\n",
       "    </tr>\n",
       "    <tr>\n",
       "      <th>2</th>\n",
       "      <td>01/01/2024 23:49</td>\n",
       "      <td>4-63915</td>\n",
       "      <td>Sale</td>\n",
       "      <td>قهوة</td>\n",
       "      <td>10019</td>\n",
       "      <td>مكياتو</td>\n",
       "      <td>NaN</td>\n",
       "      <td>NaN</td>\n",
       "      <td>1.0</td>\n",
       "      <td>15.0</td>\n",
       "      <td>...</td>\n",
       "      <td>12.87</td>\n",
       "      <td>1.96</td>\n",
       "      <td>Dine in</td>\n",
       "      <td>آسن! - الفرع الثاني</td>\n",
       "      <td>آســـن!Assin - فرع الدائري</td>\n",
       "      <td>a_nasef94@hotmail.com</td>\n",
       "      <td>NaN</td>\n",
       "      <td>NaN</td>\n",
       "      <td>NaN</td>\n",
       "      <td>Closed</td>\n",
       "    </tr>\n",
       "    <tr>\n",
       "      <th>3</th>\n",
       "      <td>01/01/2024 23:44</td>\n",
       "      <td>4-63914</td>\n",
       "      <td>Sale</td>\n",
       "      <td>قهوة</td>\n",
       "      <td>10007</td>\n",
       "      <td>قهوة اليوم (بارد)</td>\n",
       "      <td>صغير</td>\n",
       "      <td>NaN</td>\n",
       "      <td>2.0</td>\n",
       "      <td>20.0</td>\n",
       "      <td>...</td>\n",
       "      <td>14.94</td>\n",
       "      <td>2.61</td>\n",
       "      <td>Dine in</td>\n",
       "      <td>آسن! - الفرع الثاني</td>\n",
       "      <td>آســـن!Assin - فرع الدائري</td>\n",
       "      <td>a_nasef94@hotmail.com</td>\n",
       "      <td>NaN</td>\n",
       "      <td>NaN</td>\n",
       "      <td>NaN</td>\n",
       "      <td>Closed</td>\n",
       "    </tr>\n",
       "    <tr>\n",
       "      <th>4</th>\n",
       "      <td>01/01/2024 23:43</td>\n",
       "      <td>4-63913</td>\n",
       "      <td>Sale</td>\n",
       "      <td>قهوة</td>\n",
       "      <td>10013</td>\n",
       "      <td>قهوة اليوم (بارد)</td>\n",
       "      <td>كبير</td>\n",
       "      <td>NaN</td>\n",
       "      <td>1.0</td>\n",
       "      <td>12.0</td>\n",
       "      <td>...</td>\n",
       "      <td>8.94</td>\n",
       "      <td>1.57</td>\n",
       "      <td>Dine in</td>\n",
       "      <td>آسن! - الفرع الثاني</td>\n",
       "      <td>آســـن!Assin - فرع الدائري</td>\n",
       "      <td>a_nasef94@hotmail.com</td>\n",
       "      <td>NaN</td>\n",
       "      <td>NaN</td>\n",
       "      <td>NaN</td>\n",
       "      <td>Closed</td>\n",
       "    </tr>\n",
       "    <tr>\n",
       "      <th>...</th>\n",
       "      <td>...</td>\n",
       "      <td>...</td>\n",
       "      <td>...</td>\n",
       "      <td>...</td>\n",
       "      <td>...</td>\n",
       "      <td>...</td>\n",
       "      <td>...</td>\n",
       "      <td>...</td>\n",
       "      <td>...</td>\n",
       "      <td>...</td>\n",
       "      <td>...</td>\n",
       "      <td>...</td>\n",
       "      <td>...</td>\n",
       "      <td>...</td>\n",
       "      <td>...</td>\n",
       "      <td>...</td>\n",
       "      <td>...</td>\n",
       "      <td>...</td>\n",
       "      <td>...</td>\n",
       "      <td>...</td>\n",
       "      <td>...</td>\n",
       "    </tr>\n",
       "    <tr>\n",
       "      <th>95212</th>\n",
       "      <td>01/01/2023 07:17</td>\n",
       "      <td>1-12290</td>\n",
       "      <td>Sale</td>\n",
       "      <td>قهوة</td>\n",
       "      <td>10009</td>\n",
       "      <td>قهوة اليوم (حار)</td>\n",
       "      <td>صغير</td>\n",
       "      <td>NaN</td>\n",
       "      <td>1.0</td>\n",
       "      <td>10.0</td>\n",
       "      <td>...</td>\n",
       "      <td>7.00</td>\n",
       "      <td>0.00</td>\n",
       "      <td>NaN</td>\n",
       "      <td>آسن! - الفرع الأول</td>\n",
       "      <td>آســـن!Assin - فرع الجرف</td>\n",
       "      <td>a_nasef94@hotmail.com</td>\n",
       "      <td>NaN</td>\n",
       "      <td>NaN</td>\n",
       "      <td>NaN</td>\n",
       "      <td>Closed</td>\n",
       "    </tr>\n",
       "    <tr>\n",
       "      <th>95213</th>\n",
       "      <td>01/01/2023 07:16</td>\n",
       "      <td>1-12289</td>\n",
       "      <td>Sale</td>\n",
       "      <td>قهوة</td>\n",
       "      <td>10013</td>\n",
       "      <td>قهوة اليوم (بارد)</td>\n",
       "      <td>كبير</td>\n",
       "      <td>NaN</td>\n",
       "      <td>1.0</td>\n",
       "      <td>11.0</td>\n",
       "      <td>...</td>\n",
       "      <td>8.00</td>\n",
       "      <td>0.00</td>\n",
       "      <td>NaN</td>\n",
       "      <td>آسن! - الفرع الأول</td>\n",
       "      <td>آســـن!Assin - فرع الجرف</td>\n",
       "      <td>a_nasef94@hotmail.com</td>\n",
       "      <td>NaN</td>\n",
       "      <td>NaN</td>\n",
       "      <td>NaN</td>\n",
       "      <td>Closed</td>\n",
       "    </tr>\n",
       "    <tr>\n",
       "      <th>95214</th>\n",
       "      <td>01/01/2023 00:27</td>\n",
       "      <td>1-12288</td>\n",
       "      <td>Sale</td>\n",
       "      <td>حلا</td>\n",
       "      <td>10002</td>\n",
       "      <td>اكلير</td>\n",
       "      <td>NaN</td>\n",
       "      <td>NaN</td>\n",
       "      <td>1.0</td>\n",
       "      <td>12.0</td>\n",
       "      <td>...</td>\n",
       "      <td>7.50</td>\n",
       "      <td>0.00</td>\n",
       "      <td>NaN</td>\n",
       "      <td>آسن! - الفرع الأول</td>\n",
       "      <td>آســـن!Assin - فرع الجرف</td>\n",
       "      <td>a_nasef94@hotmail.com</td>\n",
       "      <td>NaN</td>\n",
       "      <td>NaN</td>\n",
       "      <td>NaN</td>\n",
       "      <td>Closed</td>\n",
       "    </tr>\n",
       "    <tr>\n",
       "      <th>95215</th>\n",
       "      <td>01/01/2023 00:21</td>\n",
       "      <td>1-12287</td>\n",
       "      <td>Sale</td>\n",
       "      <td>مشاريب</td>\n",
       "      <td>10005</td>\n",
       "      <td>شاي مثلج - توت ورمان</td>\n",
       "      <td>NaN</td>\n",
       "      <td>NaN</td>\n",
       "      <td>1.0</td>\n",
       "      <td>15.0</td>\n",
       "      <td>...</td>\n",
       "      <td>11.50</td>\n",
       "      <td>0.00</td>\n",
       "      <td>NaN</td>\n",
       "      <td>آسن! - الفرع الأول</td>\n",
       "      <td>آســـن!Assin - فرع الجرف</td>\n",
       "      <td>a_nasef94@hotmail.com</td>\n",
       "      <td>NaN</td>\n",
       "      <td>NaN</td>\n",
       "      <td>NaN</td>\n",
       "      <td>Closed</td>\n",
       "    </tr>\n",
       "    <tr>\n",
       "      <th>95216</th>\n",
       "      <td>01/01/2023 00:21</td>\n",
       "      <td>1-12287</td>\n",
       "      <td>Sale</td>\n",
       "      <td>مشاريب</td>\n",
       "      <td>10016</td>\n",
       "      <td>كرك</td>\n",
       "      <td>10 / 8</td>\n",
       "      <td>NaN</td>\n",
       "      <td>1.0</td>\n",
       "      <td>8.0</td>\n",
       "      <td>...</td>\n",
       "      <td>8.00</td>\n",
       "      <td>0.00</td>\n",
       "      <td>NaN</td>\n",
       "      <td>آسن! - الفرع الأول</td>\n",
       "      <td>آســـن!Assin - فرع الجرف</td>\n",
       "      <td>a_nasef94@hotmail.com</td>\n",
       "      <td>NaN</td>\n",
       "      <td>NaN</td>\n",
       "      <td>NaN</td>\n",
       "      <td>Closed</td>\n",
       "    </tr>\n",
       "  </tbody>\n",
       "</table>\n",
       "<p>95217 rows × 23 columns</p>\n",
       "</div>"
      ],
      "text/plain": [
       "                   Date Receipt number Receipt type Category    SKU  \\\n",
       "0      01/01/2024 23:54        4-63916         Sale     قهوة  10013   \n",
       "1      01/01/2024 23:54        4-63916         Sale   مشاريب  10011   \n",
       "2      01/01/2024 23:49        4-63915         Sale     قهوة  10019   \n",
       "3      01/01/2024 23:44        4-63914         Sale     قهوة  10007   \n",
       "4      01/01/2024 23:43        4-63913         Sale     قهوة  10013   \n",
       "...                 ...            ...          ...      ...    ...   \n",
       "95212  01/01/2023 07:17        1-12290         Sale     قهوة  10009   \n",
       "95213  01/01/2023 07:16        1-12289         Sale     قهوة  10013   \n",
       "95214  01/01/2023 00:27        1-12288         Sale      حلا  10002   \n",
       "95215  01/01/2023 00:21        1-12287         Sale   مشاريب  10005   \n",
       "95216  01/01/2023 00:21        1-12287         Sale   مشاريب  10016   \n",
       "\n",
       "                       Item Variant Modifiers applied  Quantity  Gross sales  \\\n",
       "0         قهوة اليوم (بارد)    كبير               NaN       1.0         12.0   \n",
       "1                     بروتي     NaN               NaN       1.0         20.0   \n",
       "2                    مكياتو     NaN               NaN       1.0         15.0   \n",
       "3         قهوة اليوم (بارد)    صغير               NaN       2.0         20.0   \n",
       "4         قهوة اليوم (بارد)    كبير               NaN       1.0         12.0   \n",
       "...                     ...     ...               ...       ...          ...   \n",
       "95212      قهوة اليوم (حار)    صغير               NaN       1.0         10.0   \n",
       "95213     قهوة اليوم (بارد)    كبير               NaN       1.0         11.0   \n",
       "95214                 اكلير     NaN               NaN       1.0         12.0   \n",
       "95215  شاي مثلج - توت ورمان     NaN               NaN       1.0         15.0   \n",
       "95216                   كرك  10 / 8               NaN       1.0          8.0   \n",
       "\n",
       "       ...  Gross profit  Taxes  Dining option                  POS  \\\n",
       "0      ...          8.94   1.57        Dine in  آسن! - الفرع الثاني   \n",
       "1      ...         14.43   2.60        Dine in  آسن! - الفرع الثاني   \n",
       "2      ...         12.87   1.96        Dine in  آسن! - الفرع الثاني   \n",
       "3      ...         14.94   2.61        Dine in  آسن! - الفرع الثاني   \n",
       "4      ...          8.94   1.57        Dine in  آسن! - الفرع الثاني   \n",
       "...    ...           ...    ...            ...                  ...   \n",
       "95212  ...          7.00   0.00            NaN   آسن! - الفرع الأول   \n",
       "95213  ...          8.00   0.00            NaN   آسن! - الفرع الأول   \n",
       "95214  ...          7.50   0.00            NaN   آسن! - الفرع الأول   \n",
       "95215  ...         11.50   0.00            NaN   آسن! - الفرع الأول   \n",
       "95216  ...          8.00   0.00            NaN   آسن! - الفرع الأول   \n",
       "\n",
       "                            Store           Cashier name Customer name  \\\n",
       "0      آســـن!Assin - فرع الدائري  a_nasef94@hotmail.com           NaN   \n",
       "1      آســـن!Assin - فرع الدائري  a_nasef94@hotmail.com           NaN   \n",
       "2      آســـن!Assin - فرع الدائري  a_nasef94@hotmail.com           NaN   \n",
       "3      آســـن!Assin - فرع الدائري  a_nasef94@hotmail.com           NaN   \n",
       "4      آســـن!Assin - فرع الدائري  a_nasef94@hotmail.com           NaN   \n",
       "...                           ...                    ...           ...   \n",
       "95212    آســـن!Assin - فرع الجرف  a_nasef94@hotmail.com           NaN   \n",
       "95213    آســـن!Assin - فرع الجرف  a_nasef94@hotmail.com           NaN   \n",
       "95214    آســـن!Assin - فرع الجرف  a_nasef94@hotmail.com           NaN   \n",
       "95215    آســـن!Assin - فرع الجرف  a_nasef94@hotmail.com           NaN   \n",
       "95216    آســـن!Assin - فرع الجرف  a_nasef94@hotmail.com           NaN   \n",
       "\n",
       "      Customer contacts Comment  Status  \n",
       "0                   NaN     NaN  Closed  \n",
       "1                   NaN     NaN  Closed  \n",
       "2                   NaN     NaN  Closed  \n",
       "3                   NaN     NaN  Closed  \n",
       "4                   NaN     NaN  Closed  \n",
       "...                 ...     ...     ...  \n",
       "95212               NaN     NaN  Closed  \n",
       "95213               NaN     NaN  Closed  \n",
       "95214               NaN     NaN  Closed  \n",
       "95215               NaN     NaN  Closed  \n",
       "95216               NaN     NaN  Closed  \n",
       "\n",
       "[95217 rows x 23 columns]"
      ]
     },
     "execution_count": 2,
     "metadata": {},
     "output_type": "execute_result"
    }
   ],
   "source": [
    "df"
   ]
  },
  {
   "cell_type": "code",
   "execution_count": 3,
   "metadata": {},
   "outputs": [],
   "source": [
    "# Dropping unused columns since we are focusing on demand forecasting\n",
    "df = df.drop([\"Receipt type\", \"SKU\",\"Modifiers applied\",\"Discounts\",\"Taxes\",\"Dining option\", \"POS\",\"Store\",\"Gross sales\", \"Cashier name\" , \"Customer name\", \"Customer contacts\", \"Comment\", \"Status\"], axis=1)"
   ]
  },
  {
   "cell_type": "code",
   "execution_count": 4,
   "metadata": {},
   "outputs": [
    {
     "data": {
      "text/html": [
       "<div>\n",
       "<style scoped>\n",
       "    .dataframe tbody tr th:only-of-type {\n",
       "        vertical-align: middle;\n",
       "    }\n",
       "\n",
       "    .dataframe tbody tr th {\n",
       "        vertical-align: top;\n",
       "    }\n",
       "\n",
       "    .dataframe thead th {\n",
       "        text-align: right;\n",
       "    }\n",
       "</style>\n",
       "<table border=\"1\" class=\"dataframe\">\n",
       "  <thead>\n",
       "    <tr style=\"text-align: right;\">\n",
       "      <th></th>\n",
       "      <th>Date</th>\n",
       "      <th>Receipt number</th>\n",
       "      <th>Category</th>\n",
       "      <th>Item</th>\n",
       "      <th>Variant</th>\n",
       "      <th>Quantity</th>\n",
       "      <th>Net sales</th>\n",
       "      <th>Cost of goods</th>\n",
       "      <th>Gross profit</th>\n",
       "    </tr>\n",
       "  </thead>\n",
       "  <tbody>\n",
       "    <tr>\n",
       "      <th>0</th>\n",
       "      <td>01/01/2024 23:54</td>\n",
       "      <td>4-63916</td>\n",
       "      <td>قهوة</td>\n",
       "      <td>قهوة اليوم (بارد)</td>\n",
       "      <td>كبير</td>\n",
       "      <td>1.0</td>\n",
       "      <td>12.0</td>\n",
       "      <td>3.06</td>\n",
       "      <td>8.94</td>\n",
       "    </tr>\n",
       "    <tr>\n",
       "      <th>1</th>\n",
       "      <td>01/01/2024 23:54</td>\n",
       "      <td>4-63916</td>\n",
       "      <td>مشاريب</td>\n",
       "      <td>بروتي</td>\n",
       "      <td>NaN</td>\n",
       "      <td>1.0</td>\n",
       "      <td>20.0</td>\n",
       "      <td>5.57</td>\n",
       "      <td>14.43</td>\n",
       "    </tr>\n",
       "    <tr>\n",
       "      <th>2</th>\n",
       "      <td>01/01/2024 23:49</td>\n",
       "      <td>4-63915</td>\n",
       "      <td>قهوة</td>\n",
       "      <td>مكياتو</td>\n",
       "      <td>NaN</td>\n",
       "      <td>1.0</td>\n",
       "      <td>15.0</td>\n",
       "      <td>2.13</td>\n",
       "      <td>12.87</td>\n",
       "    </tr>\n",
       "    <tr>\n",
       "      <th>3</th>\n",
       "      <td>01/01/2024 23:44</td>\n",
       "      <td>4-63914</td>\n",
       "      <td>قهوة</td>\n",
       "      <td>قهوة اليوم (بارد)</td>\n",
       "      <td>صغير</td>\n",
       "      <td>2.0</td>\n",
       "      <td>20.0</td>\n",
       "      <td>5.06</td>\n",
       "      <td>14.94</td>\n",
       "    </tr>\n",
       "    <tr>\n",
       "      <th>4</th>\n",
       "      <td>01/01/2024 23:43</td>\n",
       "      <td>4-63913</td>\n",
       "      <td>قهوة</td>\n",
       "      <td>قهوة اليوم (بارد)</td>\n",
       "      <td>كبير</td>\n",
       "      <td>1.0</td>\n",
       "      <td>12.0</td>\n",
       "      <td>3.06</td>\n",
       "      <td>8.94</td>\n",
       "    </tr>\n",
       "    <tr>\n",
       "      <th>...</th>\n",
       "      <td>...</td>\n",
       "      <td>...</td>\n",
       "      <td>...</td>\n",
       "      <td>...</td>\n",
       "      <td>...</td>\n",
       "      <td>...</td>\n",
       "      <td>...</td>\n",
       "      <td>...</td>\n",
       "      <td>...</td>\n",
       "    </tr>\n",
       "    <tr>\n",
       "      <th>95212</th>\n",
       "      <td>01/01/2023 07:17</td>\n",
       "      <td>1-12290</td>\n",
       "      <td>قهوة</td>\n",
       "      <td>قهوة اليوم (حار)</td>\n",
       "      <td>صغير</td>\n",
       "      <td>1.0</td>\n",
       "      <td>10.0</td>\n",
       "      <td>3.00</td>\n",
       "      <td>7.00</td>\n",
       "    </tr>\n",
       "    <tr>\n",
       "      <th>95213</th>\n",
       "      <td>01/01/2023 07:16</td>\n",
       "      <td>1-12289</td>\n",
       "      <td>قهوة</td>\n",
       "      <td>قهوة اليوم (بارد)</td>\n",
       "      <td>كبير</td>\n",
       "      <td>1.0</td>\n",
       "      <td>11.0</td>\n",
       "      <td>3.00</td>\n",
       "      <td>8.00</td>\n",
       "    </tr>\n",
       "    <tr>\n",
       "      <th>95214</th>\n",
       "      <td>01/01/2023 00:27</td>\n",
       "      <td>1-12288</td>\n",
       "      <td>حلا</td>\n",
       "      <td>اكلير</td>\n",
       "      <td>NaN</td>\n",
       "      <td>1.0</td>\n",
       "      <td>12.0</td>\n",
       "      <td>4.50</td>\n",
       "      <td>7.50</td>\n",
       "    </tr>\n",
       "    <tr>\n",
       "      <th>95215</th>\n",
       "      <td>01/01/2023 00:21</td>\n",
       "      <td>1-12287</td>\n",
       "      <td>مشاريب</td>\n",
       "      <td>شاي مثلج - توت ورمان</td>\n",
       "      <td>NaN</td>\n",
       "      <td>1.0</td>\n",
       "      <td>15.0</td>\n",
       "      <td>3.50</td>\n",
       "      <td>11.50</td>\n",
       "    </tr>\n",
       "    <tr>\n",
       "      <th>95216</th>\n",
       "      <td>01/01/2023 00:21</td>\n",
       "      <td>1-12287</td>\n",
       "      <td>مشاريب</td>\n",
       "      <td>كرك</td>\n",
       "      <td>10 / 8</td>\n",
       "      <td>1.0</td>\n",
       "      <td>8.0</td>\n",
       "      <td>0.00</td>\n",
       "      <td>8.00</td>\n",
       "    </tr>\n",
       "  </tbody>\n",
       "</table>\n",
       "<p>95217 rows × 9 columns</p>\n",
       "</div>"
      ],
      "text/plain": [
       "                   Date Receipt number Category                  Item Variant  \\\n",
       "0      01/01/2024 23:54        4-63916     قهوة     قهوة اليوم (بارد)    كبير   \n",
       "1      01/01/2024 23:54        4-63916   مشاريب                 بروتي     NaN   \n",
       "2      01/01/2024 23:49        4-63915     قهوة                مكياتو     NaN   \n",
       "3      01/01/2024 23:44        4-63914     قهوة     قهوة اليوم (بارد)    صغير   \n",
       "4      01/01/2024 23:43        4-63913     قهوة     قهوة اليوم (بارد)    كبير   \n",
       "...                 ...            ...      ...                   ...     ...   \n",
       "95212  01/01/2023 07:17        1-12290     قهوة      قهوة اليوم (حار)    صغير   \n",
       "95213  01/01/2023 07:16        1-12289     قهوة     قهوة اليوم (بارد)    كبير   \n",
       "95214  01/01/2023 00:27        1-12288      حلا                 اكلير     NaN   \n",
       "95215  01/01/2023 00:21        1-12287   مشاريب  شاي مثلج - توت ورمان     NaN   \n",
       "95216  01/01/2023 00:21        1-12287   مشاريب                   كرك  10 / 8   \n",
       "\n",
       "       Quantity  Net sales  Cost of goods  Gross profit  \n",
       "0           1.0       12.0           3.06          8.94  \n",
       "1           1.0       20.0           5.57         14.43  \n",
       "2           1.0       15.0           2.13         12.87  \n",
       "3           2.0       20.0           5.06         14.94  \n",
       "4           1.0       12.0           3.06          8.94  \n",
       "...         ...        ...            ...           ...  \n",
       "95212       1.0       10.0           3.00          7.00  \n",
       "95213       1.0       11.0           3.00          8.00  \n",
       "95214       1.0       12.0           4.50          7.50  \n",
       "95215       1.0       15.0           3.50         11.50  \n",
       "95216       1.0        8.0           0.00          8.00  \n",
       "\n",
       "[95217 rows x 9 columns]"
      ]
     },
     "execution_count": 4,
     "metadata": {},
     "output_type": "execute_result"
    }
   ],
   "source": [
    "df"
   ]
  },
  {
   "cell_type": "code",
   "execution_count": 5,
   "metadata": {},
   "outputs": [
    {
     "name": "stdout",
     "output_type": "stream",
     "text": [
      "<class 'pandas.core.frame.DataFrame'>\n",
      "RangeIndex: 95217 entries, 0 to 95216\n",
      "Data columns (total 9 columns):\n",
      " #   Column          Non-Null Count  Dtype  \n",
      "---  ------          --------------  -----  \n",
      " 0   Date            95217 non-null  object \n",
      " 1   Receipt number  95217 non-null  object \n",
      " 2   Category        94969 non-null  object \n",
      " 3   Item            95217 non-null  object \n",
      " 4   Variant         47000 non-null  object \n",
      " 5   Quantity        95217 non-null  float64\n",
      " 6   Net sales       95217 non-null  float64\n",
      " 7   Cost of goods   95217 non-null  float64\n",
      " 8   Gross profit    95217 non-null  float64\n",
      "dtypes: float64(4), object(5)\n",
      "memory usage: 6.5+ MB\n"
     ]
    }
   ],
   "source": [
    "# Explore Columns data types\n",
    "df.info()"
   ]
  },
  {
   "cell_type": "code",
   "execution_count": 6,
   "metadata": {},
   "outputs": [],
   "source": [
    "# Conver Date column into datetime format insted of object so we could handle it correclty and pefrom Datetime related tasks\n",
    "df['Date'] = pd.to_datetime(df['Date'], format='%d/%m/%Y %H:%M', dayfirst=True, errors='coerce')\n"
   ]
  },
  {
   "cell_type": "code",
   "execution_count": 7,
   "metadata": {},
   "outputs": [
    {
     "name": "stdout",
     "output_type": "stream",
     "text": [
      "<class 'pandas.core.frame.DataFrame'>\n",
      "RangeIndex: 95217 entries, 0 to 95216\n",
      "Data columns (total 9 columns):\n",
      " #   Column          Non-Null Count  Dtype         \n",
      "---  ------          --------------  -----         \n",
      " 0   Date            95217 non-null  datetime64[ns]\n",
      " 1   Receipt number  95217 non-null  object        \n",
      " 2   Category        94969 non-null  object        \n",
      " 3   Item            95217 non-null  object        \n",
      " 4   Variant         47000 non-null  object        \n",
      " 5   Quantity        95217 non-null  float64       \n",
      " 6   Net sales       95217 non-null  float64       \n",
      " 7   Cost of goods   95217 non-null  float64       \n",
      " 8   Gross profit    95217 non-null  float64       \n",
      "dtypes: datetime64[ns](1), float64(4), object(4)\n",
      "memory usage: 6.5+ MB\n"
     ]
    }
   ],
   "source": [
    "df.info()"
   ]
  },
  {
   "cell_type": "code",
   "execution_count": 8,
   "metadata": {},
   "outputs": [
    {
     "data": {
      "text/html": [
       "<div>\n",
       "<style scoped>\n",
       "    .dataframe tbody tr th:only-of-type {\n",
       "        vertical-align: middle;\n",
       "    }\n",
       "\n",
       "    .dataframe tbody tr th {\n",
       "        vertical-align: top;\n",
       "    }\n",
       "\n",
       "    .dataframe thead th {\n",
       "        text-align: right;\n",
       "    }\n",
       "</style>\n",
       "<table border=\"1\" class=\"dataframe\">\n",
       "  <thead>\n",
       "    <tr style=\"text-align: right;\">\n",
       "      <th></th>\n",
       "      <th>Date</th>\n",
       "      <th>Receipt number</th>\n",
       "      <th>Category</th>\n",
       "      <th>Item</th>\n",
       "      <th>Variant</th>\n",
       "      <th>Quantity</th>\n",
       "      <th>Net sales</th>\n",
       "      <th>Cost of goods</th>\n",
       "      <th>Gross profit</th>\n",
       "    </tr>\n",
       "  </thead>\n",
       "  <tbody>\n",
       "    <tr>\n",
       "      <th>95216</th>\n",
       "      <td>2023-01-01 00:21:00</td>\n",
       "      <td>1-12287</td>\n",
       "      <td>مشاريب</td>\n",
       "      <td>كرك</td>\n",
       "      <td>10 / 8</td>\n",
       "      <td>1.0</td>\n",
       "      <td>8.0</td>\n",
       "      <td>0.00</td>\n",
       "      <td>8.00</td>\n",
       "    </tr>\n",
       "    <tr>\n",
       "      <th>95215</th>\n",
       "      <td>2023-01-01 00:21:00</td>\n",
       "      <td>1-12287</td>\n",
       "      <td>مشاريب</td>\n",
       "      <td>شاي مثلج - توت ورمان</td>\n",
       "      <td>NaN</td>\n",
       "      <td>1.0</td>\n",
       "      <td>15.0</td>\n",
       "      <td>3.50</td>\n",
       "      <td>11.50</td>\n",
       "    </tr>\n",
       "    <tr>\n",
       "      <th>95214</th>\n",
       "      <td>2023-01-01 00:27:00</td>\n",
       "      <td>1-12288</td>\n",
       "      <td>حلا</td>\n",
       "      <td>اكلير</td>\n",
       "      <td>NaN</td>\n",
       "      <td>1.0</td>\n",
       "      <td>12.0</td>\n",
       "      <td>4.50</td>\n",
       "      <td>7.50</td>\n",
       "    </tr>\n",
       "    <tr>\n",
       "      <th>95213</th>\n",
       "      <td>2023-01-01 07:16:00</td>\n",
       "      <td>1-12289</td>\n",
       "      <td>قهوة</td>\n",
       "      <td>قهوة اليوم (بارد)</td>\n",
       "      <td>كبير</td>\n",
       "      <td>1.0</td>\n",
       "      <td>11.0</td>\n",
       "      <td>3.00</td>\n",
       "      <td>8.00</td>\n",
       "    </tr>\n",
       "    <tr>\n",
       "      <th>95212</th>\n",
       "      <td>2023-01-01 07:17:00</td>\n",
       "      <td>1-12290</td>\n",
       "      <td>قهوة</td>\n",
       "      <td>قهوة اليوم (حار)</td>\n",
       "      <td>صغير</td>\n",
       "      <td>1.0</td>\n",
       "      <td>10.0</td>\n",
       "      <td>3.00</td>\n",
       "      <td>7.00</td>\n",
       "    </tr>\n",
       "    <tr>\n",
       "      <th>...</th>\n",
       "      <td>...</td>\n",
       "      <td>...</td>\n",
       "      <td>...</td>\n",
       "      <td>...</td>\n",
       "      <td>...</td>\n",
       "      <td>...</td>\n",
       "      <td>...</td>\n",
       "      <td>...</td>\n",
       "      <td>...</td>\n",
       "    </tr>\n",
       "    <tr>\n",
       "      <th>4</th>\n",
       "      <td>2024-01-01 23:43:00</td>\n",
       "      <td>4-63913</td>\n",
       "      <td>قهوة</td>\n",
       "      <td>قهوة اليوم (بارد)</td>\n",
       "      <td>كبير</td>\n",
       "      <td>1.0</td>\n",
       "      <td>12.0</td>\n",
       "      <td>3.06</td>\n",
       "      <td>8.94</td>\n",
       "    </tr>\n",
       "    <tr>\n",
       "      <th>3</th>\n",
       "      <td>2024-01-01 23:44:00</td>\n",
       "      <td>4-63914</td>\n",
       "      <td>قهوة</td>\n",
       "      <td>قهوة اليوم (بارد)</td>\n",
       "      <td>صغير</td>\n",
       "      <td>2.0</td>\n",
       "      <td>20.0</td>\n",
       "      <td>5.06</td>\n",
       "      <td>14.94</td>\n",
       "    </tr>\n",
       "    <tr>\n",
       "      <th>2</th>\n",
       "      <td>2024-01-01 23:49:00</td>\n",
       "      <td>4-63915</td>\n",
       "      <td>قهوة</td>\n",
       "      <td>مكياتو</td>\n",
       "      <td>NaN</td>\n",
       "      <td>1.0</td>\n",
       "      <td>15.0</td>\n",
       "      <td>2.13</td>\n",
       "      <td>12.87</td>\n",
       "    </tr>\n",
       "    <tr>\n",
       "      <th>1</th>\n",
       "      <td>2024-01-01 23:54:00</td>\n",
       "      <td>4-63916</td>\n",
       "      <td>مشاريب</td>\n",
       "      <td>بروتي</td>\n",
       "      <td>NaN</td>\n",
       "      <td>1.0</td>\n",
       "      <td>20.0</td>\n",
       "      <td>5.57</td>\n",
       "      <td>14.43</td>\n",
       "    </tr>\n",
       "    <tr>\n",
       "      <th>0</th>\n",
       "      <td>2024-01-01 23:54:00</td>\n",
       "      <td>4-63916</td>\n",
       "      <td>قهوة</td>\n",
       "      <td>قهوة اليوم (بارد)</td>\n",
       "      <td>كبير</td>\n",
       "      <td>1.0</td>\n",
       "      <td>12.0</td>\n",
       "      <td>3.06</td>\n",
       "      <td>8.94</td>\n",
       "    </tr>\n",
       "  </tbody>\n",
       "</table>\n",
       "<p>95217 rows × 9 columns</p>\n",
       "</div>"
      ],
      "text/plain": [
       "                     Date Receipt number Category                  Item  \\\n",
       "95216 2023-01-01 00:21:00        1-12287   مشاريب                   كرك   \n",
       "95215 2023-01-01 00:21:00        1-12287   مشاريب  شاي مثلج - توت ورمان   \n",
       "95214 2023-01-01 00:27:00        1-12288      حلا                 اكلير   \n",
       "95213 2023-01-01 07:16:00        1-12289     قهوة     قهوة اليوم (بارد)   \n",
       "95212 2023-01-01 07:17:00        1-12290     قهوة      قهوة اليوم (حار)   \n",
       "...                   ...            ...      ...                   ...   \n",
       "4     2024-01-01 23:43:00        4-63913     قهوة     قهوة اليوم (بارد)   \n",
       "3     2024-01-01 23:44:00        4-63914     قهوة     قهوة اليوم (بارد)   \n",
       "2     2024-01-01 23:49:00        4-63915     قهوة                مكياتو   \n",
       "1     2024-01-01 23:54:00        4-63916   مشاريب                 بروتي   \n",
       "0     2024-01-01 23:54:00        4-63916     قهوة     قهوة اليوم (بارد)   \n",
       "\n",
       "      Variant  Quantity  Net sales  Cost of goods  Gross profit  \n",
       "95216  10 / 8       1.0        8.0           0.00          8.00  \n",
       "95215     NaN       1.0       15.0           3.50         11.50  \n",
       "95214     NaN       1.0       12.0           4.50          7.50  \n",
       "95213    كبير       1.0       11.0           3.00          8.00  \n",
       "95212    صغير       1.0       10.0           3.00          7.00  \n",
       "...       ...       ...        ...            ...           ...  \n",
       "4        كبير       1.0       12.0           3.06          8.94  \n",
       "3        صغير       2.0       20.0           5.06         14.94  \n",
       "2         NaN       1.0       15.0           2.13         12.87  \n",
       "1         NaN       1.0       20.0           5.57         14.43  \n",
       "0        كبير       1.0       12.0           3.06          8.94  \n",
       "\n",
       "[95217 rows x 9 columns]"
      ]
     },
     "execution_count": 8,
     "metadata": {},
     "output_type": "execute_result"
    }
   ],
   "source": [
    "# Sort Values by date\n",
    "df.sort_values(\"Date\")"
   ]
  },
  {
   "cell_type": "markdown",
   "metadata": {},
   "source": [
    "### Now the data is ready for Processing (Cleaning , Manipulation, Formating)"
   ]
  },
  {
   "cell_type": "markdown",
   "metadata": {},
   "source": [
    "# 4- Data Processing"
   ]
  },
  {
   "cell_type": "code",
   "execution_count": 9,
   "metadata": {},
   "outputs": [
    {
     "data": {
      "text/html": [
       "<div>\n",
       "<style scoped>\n",
       "    .dataframe tbody tr th:only-of-type {\n",
       "        vertical-align: middle;\n",
       "    }\n",
       "\n",
       "    .dataframe tbody tr th {\n",
       "        vertical-align: top;\n",
       "    }\n",
       "\n",
       "    .dataframe thead th {\n",
       "        text-align: right;\n",
       "    }\n",
       "</style>\n",
       "<table border=\"1\" class=\"dataframe\">\n",
       "  <thead>\n",
       "    <tr style=\"text-align: right;\">\n",
       "      <th></th>\n",
       "      <th>Date</th>\n",
       "      <th>Receipt number</th>\n",
       "      <th>Category</th>\n",
       "      <th>Item</th>\n",
       "      <th>Variant</th>\n",
       "      <th>Quantity</th>\n",
       "      <th>Net sales</th>\n",
       "      <th>Cost of goods</th>\n",
       "      <th>Gross profit</th>\n",
       "    </tr>\n",
       "  </thead>\n",
       "  <tbody>\n",
       "    <tr>\n",
       "      <th>1733</th>\n",
       "      <td>2023-12-28 00:22:00</td>\n",
       "      <td>4-62609</td>\n",
       "      <td>حلا</td>\n",
       "      <td>طورطة منقا</td>\n",
       "      <td>NaN</td>\n",
       "      <td>1.0</td>\n",
       "      <td>20.0</td>\n",
       "      <td>0.00</td>\n",
       "      <td>20.00</td>\n",
       "    </tr>\n",
       "    <tr>\n",
       "      <th>2510</th>\n",
       "      <td>2023-12-25 20:17:00</td>\n",
       "      <td>4-62003</td>\n",
       "      <td>قهوة</td>\n",
       "      <td>قهوة اليوم (بارد)</td>\n",
       "      <td>صغير</td>\n",
       "      <td>1.0</td>\n",
       "      <td>10.0</td>\n",
       "      <td>2.53</td>\n",
       "      <td>7.47</td>\n",
       "    </tr>\n",
       "    <tr>\n",
       "      <th>2813</th>\n",
       "      <td>2023-12-24 20:18:00</td>\n",
       "      <td>4-61764</td>\n",
       "      <td>قهوة</td>\n",
       "      <td>قهوة اليوم (بارد)</td>\n",
       "      <td>كبير</td>\n",
       "      <td>1.0</td>\n",
       "      <td>12.0</td>\n",
       "      <td>3.06</td>\n",
       "      <td>8.94</td>\n",
       "    </tr>\n",
       "    <tr>\n",
       "      <th>3629</th>\n",
       "      <td>2023-12-21 21:49:00</td>\n",
       "      <td>4-61133</td>\n",
       "      <td>مشاريب</td>\n",
       "      <td>بروتي</td>\n",
       "      <td>NaN</td>\n",
       "      <td>1.0</td>\n",
       "      <td>20.0</td>\n",
       "      <td>5.57</td>\n",
       "      <td>14.43</td>\n",
       "    </tr>\n",
       "    <tr>\n",
       "      <th>4554</th>\n",
       "      <td>2023-12-18 14:42:00</td>\n",
       "      <td>4-60415</td>\n",
       "      <td>حجم عائلي</td>\n",
       "      <td>شاي مثلج النخبة</td>\n",
       "      <td>NaN</td>\n",
       "      <td>1.0</td>\n",
       "      <td>50.0</td>\n",
       "      <td>12.52</td>\n",
       "      <td>37.48</td>\n",
       "    </tr>\n",
       "    <tr>\n",
       "      <th>...</th>\n",
       "      <td>...</td>\n",
       "      <td>...</td>\n",
       "      <td>...</td>\n",
       "      <td>...</td>\n",
       "      <td>...</td>\n",
       "      <td>...</td>\n",
       "      <td>...</td>\n",
       "      <td>...</td>\n",
       "      <td>...</td>\n",
       "    </tr>\n",
       "    <tr>\n",
       "      <th>91224</th>\n",
       "      <td>2023-02-18 01:27:00</td>\n",
       "      <td>1-15450</td>\n",
       "      <td>قهوة</td>\n",
       "      <td>قهوة اليوم (حار)</td>\n",
       "      <td>صغير</td>\n",
       "      <td>1.0</td>\n",
       "      <td>5.0</td>\n",
       "      <td>3.00</td>\n",
       "      <td>2.00</td>\n",
       "    </tr>\n",
       "    <tr>\n",
       "      <th>91225</th>\n",
       "      <td>2023-02-18 01:27:00</td>\n",
       "      <td>1-15450</td>\n",
       "      <td>مشاريب</td>\n",
       "      <td>شاي مثلج - توت ورمان</td>\n",
       "      <td>NaN</td>\n",
       "      <td>1.0</td>\n",
       "      <td>7.5</td>\n",
       "      <td>3.50</td>\n",
       "      <td>4.00</td>\n",
       "    </tr>\n",
       "    <tr>\n",
       "      <th>92439</th>\n",
       "      <td>2023-02-04 17:16:00</td>\n",
       "      <td>1-14491</td>\n",
       "      <td>مشاريب</td>\n",
       "      <td>كاسكارا</td>\n",
       "      <td>NaN</td>\n",
       "      <td>1.0</td>\n",
       "      <td>20.0</td>\n",
       "      <td>2.50</td>\n",
       "      <td>17.50</td>\n",
       "    </tr>\n",
       "    <tr>\n",
       "      <th>94001</th>\n",
       "      <td>2023-01-15 23:07:00</td>\n",
       "      <td>1-13230</td>\n",
       "      <td>مشاريب</td>\n",
       "      <td>كرك</td>\n",
       "      <td>10 / 8</td>\n",
       "      <td>1.0</td>\n",
       "      <td>8.0</td>\n",
       "      <td>0.00</td>\n",
       "      <td>8.00</td>\n",
       "    </tr>\n",
       "    <tr>\n",
       "      <th>94569</th>\n",
       "      <td>2023-01-08 21:30:00</td>\n",
       "      <td>1-12789</td>\n",
       "      <td>قهوة</td>\n",
       "      <td>قهوة اليوم (حار)</td>\n",
       "      <td>صغير</td>\n",
       "      <td>1.0</td>\n",
       "      <td>10.0</td>\n",
       "      <td>3.00</td>\n",
       "      <td>7.00</td>\n",
       "    </tr>\n",
       "  </tbody>\n",
       "</table>\n",
       "<p>142 rows × 9 columns</p>\n",
       "</div>"
      ],
      "text/plain": [
       "                     Date Receipt number   Category                  Item  \\\n",
       "1733  2023-12-28 00:22:00        4-62609        حلا            طورطة منقا   \n",
       "2510  2023-12-25 20:17:00        4-62003       قهوة     قهوة اليوم (بارد)   \n",
       "2813  2023-12-24 20:18:00        4-61764       قهوة     قهوة اليوم (بارد)   \n",
       "3629  2023-12-21 21:49:00        4-61133     مشاريب                 بروتي   \n",
       "4554  2023-12-18 14:42:00        4-60415  حجم عائلي       شاي مثلج النخبة   \n",
       "...                   ...            ...        ...                   ...   \n",
       "91224 2023-02-18 01:27:00        1-15450       قهوة      قهوة اليوم (حار)   \n",
       "91225 2023-02-18 01:27:00        1-15450     مشاريب  شاي مثلج - توت ورمان   \n",
       "92439 2023-02-04 17:16:00        1-14491     مشاريب               كاسكارا   \n",
       "94001 2023-01-15 23:07:00        1-13230     مشاريب                   كرك   \n",
       "94569 2023-01-08 21:30:00        1-12789       قهوة      قهوة اليوم (حار)   \n",
       "\n",
       "      Variant  Quantity  Net sales  Cost of goods  Gross profit  \n",
       "1733      NaN       1.0       20.0           0.00         20.00  \n",
       "2510     صغير       1.0       10.0           2.53          7.47  \n",
       "2813     كبير       1.0       12.0           3.06          8.94  \n",
       "3629      NaN       1.0       20.0           5.57         14.43  \n",
       "4554      NaN       1.0       50.0          12.52         37.48  \n",
       "...       ...       ...        ...            ...           ...  \n",
       "91224    صغير       1.0        5.0           3.00          2.00  \n",
       "91225     NaN       1.0        7.5           3.50          4.00  \n",
       "92439     NaN       1.0       20.0           2.50         17.50  \n",
       "94001  10 / 8       1.0        8.0           0.00          8.00  \n",
       "94569    صغير       1.0       10.0           3.00          7.00  \n",
       "\n",
       "[142 rows x 9 columns]"
      ]
     },
     "execution_count": 9,
     "metadata": {},
     "output_type": "execute_result"
    }
   ],
   "source": [
    "# Check Duplicates\n",
    "duplicate_rows = df[df.duplicated()]\n",
    "duplicate_rows\n"
   ]
  },
  {
   "cell_type": "code",
   "execution_count": 10,
   "metadata": {},
   "outputs": [
    {
     "name": "stdout",
     "output_type": "stream",
     "text": [
      "Number of duplicate rows: 142\n"
     ]
    }
   ],
   "source": [
    "num_duplicates = df.duplicated().sum()\n",
    "print(f\"Number of duplicate rows: {num_duplicates}\")\n"
   ]
  },
  {
   "cell_type": "code",
   "execution_count": 11,
   "metadata": {},
   "outputs": [],
   "source": [
    "# Drop duplicates\n",
    "df = df.drop_duplicates()"
   ]
  },
  {
   "cell_type": "code",
   "execution_count": 12,
   "metadata": {},
   "outputs": [
    {
     "name": "stdout",
     "output_type": "stream",
     "text": [
      "Number of duplicate rows: 0\n"
     ]
    }
   ],
   "source": [
    "# Check after removing Duplicates\n",
    "num_duplicates = df.duplicated().sum()\n",
    "print(f\"Number of duplicate rows: {num_duplicates}\")"
   ]
  },
  {
   "cell_type": "markdown",
   "metadata": {},
   "source": [
    "## Check Nulls"
   ]
  },
  {
   "cell_type": "code",
   "execution_count": 13,
   "metadata": {},
   "outputs": [
    {
     "name": "stdout",
     "output_type": "stream",
     "text": [
      "Date                  0\n",
      "Receipt number        0\n",
      "Category            246\n",
      "Item                  0\n",
      "Variant           48113\n",
      "Quantity              0\n",
      "Net sales             0\n",
      "Cost of goods         0\n",
      "Gross profit          0\n",
      "dtype: int64\n"
     ]
    }
   ],
   "source": [
    "# Check Nulls\n",
    "print(df.isnull().sum())\n"
   ]
  },
  {
   "cell_type": "markdown",
   "metadata": {},
   "source": [
    "The nulss attend in (Category and Variant Column)\n",
    "Since We are data scientist we cant just drop them or filling them without understading the situation"
   ]
  },
  {
   "cell_type": "markdown",
   "metadata": {},
   "source": [
    "### 1- The category column: We need to check the nubmer of recipetes associated with null catehory, to get insights about how big our problem is \n"
   ]
  },
  {
   "cell_type": "code",
   "execution_count": 14,
   "metadata": {},
   "outputs": [
    {
     "name": "stdout",
     "output_type": "stream",
     "text": [
      "Number of rows with null values in Category: 246\n",
      "The Percentage 0.26%\n"
     ]
    }
   ],
   "source": [
    "column_name = 'Category' \n",
    "null_count = df[column_name].isnull().sum()\n",
    "print(f\"Number of rows with null values in {column_name}: {null_count}\")\n",
    "\n",
    "total_number =(null_count / len(df))\n",
    "total_number = \"{:.2f}%\".format(total_number * 100)\n",
    "print(f\"The Percentage {total_number}\" )"
   ]
  },
  {
   "cell_type": "markdown",
   "metadata": {},
   "source": [
    "As we can we its very small percentage we have 2 options Now (1- Delete Rows 2- Fill the category with Unknown or others cause eventually it doesnt have direct impactx on the product demand forecsting)"
   ]
  },
  {
   "cell_type": "code",
   "execution_count": 15,
   "metadata": {},
   "outputs": [
    {
     "name": "stderr",
     "output_type": "stream",
     "text": [
      "C:\\Users\\nasef\\AppData\\Local\\Temp\\ipykernel_23748\\1912591924.py:1: SettingWithCopyWarning: \n",
      "A value is trying to be set on a copy of a slice from a DataFrame\n",
      "\n",
      "See the caveats in the documentation: https://pandas.pydata.org/pandas-docs/stable/user_guide/indexing.html#returning-a-view-versus-a-copy\n",
      "  df['Category'].fillna('Unknown', inplace=True)\n"
     ]
    }
   ],
   "source": [
    "df['Category'].fillna('Unknown', inplace=True)"
   ]
  },
  {
   "cell_type": "code",
   "execution_count": 16,
   "metadata": {},
   "outputs": [
    {
     "name": "stdout",
     "output_type": "stream",
     "text": [
      "Number of rows with null values in Category: 0\n",
      "The Percentage 0.00%\n"
     ]
    }
   ],
   "source": [
    "# AAfter Cleaning\n",
    "column_name = 'Category' \n",
    "null_count = df[column_name].isnull().sum()\n",
    "print(f\"Number of rows with null values in {column_name}: {null_count}\")\n",
    "\n",
    "total_number =(null_count / len(df))\n",
    "total_number = \"{:.2f}%\".format(total_number * 100)\n",
    "print(f\"The Percentage {total_number}\" )"
   ]
  },
  {
   "cell_type": "markdown",
   "metadata": {},
   "source": [
    "### 2- The Variation Column: this column Is very important cause its have direct impact on the forecasting cause its indicates product variation (Small, large)"
   ]
  },
  {
   "cell_type": "code",
   "execution_count": 17,
   "metadata": {},
   "outputs": [
    {
     "name": "stdout",
     "output_type": "stream",
     "text": [
      "Number of rows with null values in Variant: 48113\n",
      "The Percentage 50.61%\n"
     ]
    }
   ],
   "source": [
    "column_name = 'Variant' \n",
    "null_count = df[column_name].isnull().sum()\n",
    "print(f\"Number of rows with null values in {column_name}: {null_count}\")\n",
    "\n",
    "total_number =(null_count / len(df))\n",
    "total_number = \"{:.2f}%\".format(total_number * 100)\n",
    "print(f\"The Percentage {total_number}\" )"
   ]
  },
  {
   "cell_type": "markdown",
   "metadata": {},
   "source": [
    "Its Very large amount now we must fill it with something insightful or we can combine non-null value with the Item column and null vlaues doesnt matter cause the item doesnt have variation"
   ]
  },
  {
   "cell_type": "code",
   "execution_count": 18,
   "metadata": {},
   "outputs": [
    {
     "name": "stderr",
     "output_type": "stream",
     "text": [
      "C:\\Users\\nasef\\AppData\\Local\\Temp\\ipykernel_23748\\3167747852.py:12: SettingWithCopyWarning: \n",
      "A value is trying to be set on a copy of a slice from a DataFrame.\n",
      "Try using .loc[row_indexer,col_indexer] = value instead\n",
      "\n",
      "See the caveats in the documentation: https://pandas.pydata.org/pandas-docs/stable/user_guide/indexing.html#returning-a-view-versus-a-copy\n",
      "  df['Item'] = df.apply(combine_item_variant, axis=1)\n"
     ]
    },
    {
     "data": {
      "text/html": [
       "<div>\n",
       "<style scoped>\n",
       "    .dataframe tbody tr th:only-of-type {\n",
       "        vertical-align: middle;\n",
       "    }\n",
       "\n",
       "    .dataframe tbody tr th {\n",
       "        vertical-align: top;\n",
       "    }\n",
       "\n",
       "    .dataframe thead th {\n",
       "        text-align: right;\n",
       "    }\n",
       "</style>\n",
       "<table border=\"1\" class=\"dataframe\">\n",
       "  <thead>\n",
       "    <tr style=\"text-align: right;\">\n",
       "      <th></th>\n",
       "      <th>Date</th>\n",
       "      <th>Receipt number</th>\n",
       "      <th>Category</th>\n",
       "      <th>Item</th>\n",
       "      <th>Quantity</th>\n",
       "      <th>Net sales</th>\n",
       "      <th>Cost of goods</th>\n",
       "      <th>Gross profit</th>\n",
       "    </tr>\n",
       "  </thead>\n",
       "  <tbody>\n",
       "    <tr>\n",
       "      <th>0</th>\n",
       "      <td>2024-01-01 23:54:00</td>\n",
       "      <td>4-63916</td>\n",
       "      <td>قهوة</td>\n",
       "      <td>قهوة اليوم (بارد) (كبير)</td>\n",
       "      <td>1.0</td>\n",
       "      <td>12.0</td>\n",
       "      <td>3.06</td>\n",
       "      <td>8.94</td>\n",
       "    </tr>\n",
       "    <tr>\n",
       "      <th>1</th>\n",
       "      <td>2024-01-01 23:54:00</td>\n",
       "      <td>4-63916</td>\n",
       "      <td>مشاريب</td>\n",
       "      <td>بروتي</td>\n",
       "      <td>1.0</td>\n",
       "      <td>20.0</td>\n",
       "      <td>5.57</td>\n",
       "      <td>14.43</td>\n",
       "    </tr>\n",
       "    <tr>\n",
       "      <th>2</th>\n",
       "      <td>2024-01-01 23:49:00</td>\n",
       "      <td>4-63915</td>\n",
       "      <td>قهوة</td>\n",
       "      <td>مكياتو</td>\n",
       "      <td>1.0</td>\n",
       "      <td>15.0</td>\n",
       "      <td>2.13</td>\n",
       "      <td>12.87</td>\n",
       "    </tr>\n",
       "    <tr>\n",
       "      <th>3</th>\n",
       "      <td>2024-01-01 23:44:00</td>\n",
       "      <td>4-63914</td>\n",
       "      <td>قهوة</td>\n",
       "      <td>قهوة اليوم (بارد) (صغير)</td>\n",
       "      <td>2.0</td>\n",
       "      <td>20.0</td>\n",
       "      <td>5.06</td>\n",
       "      <td>14.94</td>\n",
       "    </tr>\n",
       "    <tr>\n",
       "      <th>4</th>\n",
       "      <td>2024-01-01 23:43:00</td>\n",
       "      <td>4-63913</td>\n",
       "      <td>قهوة</td>\n",
       "      <td>قهوة اليوم (بارد) (كبير)</td>\n",
       "      <td>1.0</td>\n",
       "      <td>12.0</td>\n",
       "      <td>3.06</td>\n",
       "      <td>8.94</td>\n",
       "    </tr>\n",
       "    <tr>\n",
       "      <th>...</th>\n",
       "      <td>...</td>\n",
       "      <td>...</td>\n",
       "      <td>...</td>\n",
       "      <td>...</td>\n",
       "      <td>...</td>\n",
       "      <td>...</td>\n",
       "      <td>...</td>\n",
       "      <td>...</td>\n",
       "    </tr>\n",
       "    <tr>\n",
       "      <th>95212</th>\n",
       "      <td>2023-01-01 07:17:00</td>\n",
       "      <td>1-12290</td>\n",
       "      <td>قهوة</td>\n",
       "      <td>قهوة اليوم (حار) (صغير)</td>\n",
       "      <td>1.0</td>\n",
       "      <td>10.0</td>\n",
       "      <td>3.00</td>\n",
       "      <td>7.00</td>\n",
       "    </tr>\n",
       "    <tr>\n",
       "      <th>95213</th>\n",
       "      <td>2023-01-01 07:16:00</td>\n",
       "      <td>1-12289</td>\n",
       "      <td>قهوة</td>\n",
       "      <td>قهوة اليوم (بارد) (كبير)</td>\n",
       "      <td>1.0</td>\n",
       "      <td>11.0</td>\n",
       "      <td>3.00</td>\n",
       "      <td>8.00</td>\n",
       "    </tr>\n",
       "    <tr>\n",
       "      <th>95214</th>\n",
       "      <td>2023-01-01 00:27:00</td>\n",
       "      <td>1-12288</td>\n",
       "      <td>حلا</td>\n",
       "      <td>اكلير</td>\n",
       "      <td>1.0</td>\n",
       "      <td>12.0</td>\n",
       "      <td>4.50</td>\n",
       "      <td>7.50</td>\n",
       "    </tr>\n",
       "    <tr>\n",
       "      <th>95215</th>\n",
       "      <td>2023-01-01 00:21:00</td>\n",
       "      <td>1-12287</td>\n",
       "      <td>مشاريب</td>\n",
       "      <td>شاي مثلج - توت ورمان</td>\n",
       "      <td>1.0</td>\n",
       "      <td>15.0</td>\n",
       "      <td>3.50</td>\n",
       "      <td>11.50</td>\n",
       "    </tr>\n",
       "    <tr>\n",
       "      <th>95216</th>\n",
       "      <td>2023-01-01 00:21:00</td>\n",
       "      <td>1-12287</td>\n",
       "      <td>مشاريب</td>\n",
       "      <td>كرك (10 / 8)</td>\n",
       "      <td>1.0</td>\n",
       "      <td>8.0</td>\n",
       "      <td>0.00</td>\n",
       "      <td>8.00</td>\n",
       "    </tr>\n",
       "  </tbody>\n",
       "</table>\n",
       "<p>95075 rows × 8 columns</p>\n",
       "</div>"
      ],
      "text/plain": [
       "                     Date Receipt number Category                      Item  \\\n",
       "0     2024-01-01 23:54:00        4-63916     قهوة  قهوة اليوم (بارد) (كبير)   \n",
       "1     2024-01-01 23:54:00        4-63916   مشاريب                     بروتي   \n",
       "2     2024-01-01 23:49:00        4-63915     قهوة                    مكياتو   \n",
       "3     2024-01-01 23:44:00        4-63914     قهوة  قهوة اليوم (بارد) (صغير)   \n",
       "4     2024-01-01 23:43:00        4-63913     قهوة  قهوة اليوم (بارد) (كبير)   \n",
       "...                   ...            ...      ...                       ...   \n",
       "95212 2023-01-01 07:17:00        1-12290     قهوة   قهوة اليوم (حار) (صغير)   \n",
       "95213 2023-01-01 07:16:00        1-12289     قهوة  قهوة اليوم (بارد) (كبير)   \n",
       "95214 2023-01-01 00:27:00        1-12288      حلا                     اكلير   \n",
       "95215 2023-01-01 00:21:00        1-12287   مشاريب      شاي مثلج - توت ورمان   \n",
       "95216 2023-01-01 00:21:00        1-12287   مشاريب              كرك (10 / 8)   \n",
       "\n",
       "       Quantity  Net sales  Cost of goods  Gross profit  \n",
       "0           1.0       12.0           3.06          8.94  \n",
       "1           1.0       20.0           5.57         14.43  \n",
       "2           1.0       15.0           2.13         12.87  \n",
       "3           2.0       20.0           5.06         14.94  \n",
       "4           1.0       12.0           3.06          8.94  \n",
       "...         ...        ...            ...           ...  \n",
       "95212       1.0       10.0           3.00          7.00  \n",
       "95213       1.0       11.0           3.00          8.00  \n",
       "95214       1.0       12.0           4.50          7.50  \n",
       "95215       1.0       15.0           3.50         11.50  \n",
       "95216       1.0        8.0           0.00          8.00  \n",
       "\n",
       "[95075 rows x 8 columns]"
      ]
     },
     "execution_count": 18,
     "metadata": {},
     "output_type": "execute_result"
    }
   ],
   "source": [
    "import pandas as pd\n",
    "import numpy as np\n",
    "\n",
    "# Sample function to combine 'Item' and 'Variant' columns\n",
    "def combine_item_variant(row):\n",
    "    if pd.isna(row['Variant']):\n",
    "        return row['Item']\n",
    "    else:\n",
    "        return f\"{row['Item']} ({row['Variant']})\"\n",
    "\n",
    "# Apply the function to each row in the DataFrame\n",
    "df['Item'] = df.apply(combine_item_variant, axis=1)\n",
    "\n",
    "# Drop Variant Column\n",
    "df = df.drop([\"Variant\"], axis=1)\n",
    "\n",
    "# Display the updated DataFrame\n",
    "df\n"
   ]
  },
  {
   "cell_type": "code",
   "execution_count": 19,
   "metadata": {},
   "outputs": [
    {
     "name": "stdout",
     "output_type": "stream",
     "text": [
      "Date              0\n",
      "Receipt number    0\n",
      "Category          0\n",
      "Item              0\n",
      "Quantity          0\n",
      "Net sales         0\n",
      "Cost of goods     0\n",
      "Gross profit      0\n",
      "dtype: int64\n"
     ]
    }
   ],
   "source": [
    "# Check Nulls after cleaning\n",
    "# Check Nulls\n",
    "print(df.isnull().sum())\n"
   ]
  },
  {
   "cell_type": "markdown",
   "metadata": {},
   "source": [
    "## Feature Engineering"
   ]
  },
  {
   "cell_type": "code",
   "execution_count": 20,
   "metadata": {},
   "outputs": [
    {
     "data": {
      "text/html": [
       "<div>\n",
       "<style scoped>\n",
       "    .dataframe tbody tr th:only-of-type {\n",
       "        vertical-align: middle;\n",
       "    }\n",
       "\n",
       "    .dataframe tbody tr th {\n",
       "        vertical-align: top;\n",
       "    }\n",
       "\n",
       "    .dataframe thead th {\n",
       "        text-align: right;\n",
       "    }\n",
       "</style>\n",
       "<table border=\"1\" class=\"dataframe\">\n",
       "  <thead>\n",
       "    <tr style=\"text-align: right;\">\n",
       "      <th></th>\n",
       "      <th>Date</th>\n",
       "      <th>Receipt number</th>\n",
       "      <th>Category</th>\n",
       "      <th>Item</th>\n",
       "      <th>Quantity</th>\n",
       "      <th>Net sales</th>\n",
       "      <th>Cost of goods</th>\n",
       "      <th>Gross profit</th>\n",
       "    </tr>\n",
       "  </thead>\n",
       "  <tbody>\n",
       "    <tr>\n",
       "      <th>0</th>\n",
       "      <td>2024-01-01 23:54:00</td>\n",
       "      <td>4-63916</td>\n",
       "      <td>قهوة</td>\n",
       "      <td>قهوة اليوم (بارد) (كبير)</td>\n",
       "      <td>1.0</td>\n",
       "      <td>12.0</td>\n",
       "      <td>3.06</td>\n",
       "      <td>8.94</td>\n",
       "    </tr>\n",
       "    <tr>\n",
       "      <th>1</th>\n",
       "      <td>2024-01-01 23:54:00</td>\n",
       "      <td>4-63916</td>\n",
       "      <td>مشاريب</td>\n",
       "      <td>بروتي</td>\n",
       "      <td>1.0</td>\n",
       "      <td>20.0</td>\n",
       "      <td>5.57</td>\n",
       "      <td>14.43</td>\n",
       "    </tr>\n",
       "    <tr>\n",
       "      <th>2</th>\n",
       "      <td>2024-01-01 23:49:00</td>\n",
       "      <td>4-63915</td>\n",
       "      <td>قهوة</td>\n",
       "      <td>مكياتو</td>\n",
       "      <td>1.0</td>\n",
       "      <td>15.0</td>\n",
       "      <td>2.13</td>\n",
       "      <td>12.87</td>\n",
       "    </tr>\n",
       "    <tr>\n",
       "      <th>3</th>\n",
       "      <td>2024-01-01 23:44:00</td>\n",
       "      <td>4-63914</td>\n",
       "      <td>قهوة</td>\n",
       "      <td>قهوة اليوم (بارد) (صغير)</td>\n",
       "      <td>2.0</td>\n",
       "      <td>20.0</td>\n",
       "      <td>5.06</td>\n",
       "      <td>14.94</td>\n",
       "    </tr>\n",
       "    <tr>\n",
       "      <th>4</th>\n",
       "      <td>2024-01-01 23:43:00</td>\n",
       "      <td>4-63913</td>\n",
       "      <td>قهوة</td>\n",
       "      <td>قهوة اليوم (بارد) (كبير)</td>\n",
       "      <td>1.0</td>\n",
       "      <td>12.0</td>\n",
       "      <td>3.06</td>\n",
       "      <td>8.94</td>\n",
       "    </tr>\n",
       "    <tr>\n",
       "      <th>...</th>\n",
       "      <td>...</td>\n",
       "      <td>...</td>\n",
       "      <td>...</td>\n",
       "      <td>...</td>\n",
       "      <td>...</td>\n",
       "      <td>...</td>\n",
       "      <td>...</td>\n",
       "      <td>...</td>\n",
       "    </tr>\n",
       "    <tr>\n",
       "      <th>95212</th>\n",
       "      <td>2023-01-01 07:17:00</td>\n",
       "      <td>1-12290</td>\n",
       "      <td>قهوة</td>\n",
       "      <td>قهوة اليوم (حار) (صغير)</td>\n",
       "      <td>1.0</td>\n",
       "      <td>10.0</td>\n",
       "      <td>3.00</td>\n",
       "      <td>7.00</td>\n",
       "    </tr>\n",
       "    <tr>\n",
       "      <th>95213</th>\n",
       "      <td>2023-01-01 07:16:00</td>\n",
       "      <td>1-12289</td>\n",
       "      <td>قهوة</td>\n",
       "      <td>قهوة اليوم (بارد) (كبير)</td>\n",
       "      <td>1.0</td>\n",
       "      <td>11.0</td>\n",
       "      <td>3.00</td>\n",
       "      <td>8.00</td>\n",
       "    </tr>\n",
       "    <tr>\n",
       "      <th>95214</th>\n",
       "      <td>2023-01-01 00:27:00</td>\n",
       "      <td>1-12288</td>\n",
       "      <td>حلا</td>\n",
       "      <td>اكلير</td>\n",
       "      <td>1.0</td>\n",
       "      <td>12.0</td>\n",
       "      <td>4.50</td>\n",
       "      <td>7.50</td>\n",
       "    </tr>\n",
       "    <tr>\n",
       "      <th>95215</th>\n",
       "      <td>2023-01-01 00:21:00</td>\n",
       "      <td>1-12287</td>\n",
       "      <td>مشاريب</td>\n",
       "      <td>شاي مثلج - توت ورمان</td>\n",
       "      <td>1.0</td>\n",
       "      <td>15.0</td>\n",
       "      <td>3.50</td>\n",
       "      <td>11.50</td>\n",
       "    </tr>\n",
       "    <tr>\n",
       "      <th>95216</th>\n",
       "      <td>2023-01-01 00:21:00</td>\n",
       "      <td>1-12287</td>\n",
       "      <td>مشاريب</td>\n",
       "      <td>كرك (10 / 8)</td>\n",
       "      <td>1.0</td>\n",
       "      <td>8.0</td>\n",
       "      <td>0.00</td>\n",
       "      <td>8.00</td>\n",
       "    </tr>\n",
       "  </tbody>\n",
       "</table>\n",
       "<p>95075 rows × 8 columns</p>\n",
       "</div>"
      ],
      "text/plain": [
       "                     Date Receipt number Category                      Item  \\\n",
       "0     2024-01-01 23:54:00        4-63916     قهوة  قهوة اليوم (بارد) (كبير)   \n",
       "1     2024-01-01 23:54:00        4-63916   مشاريب                     بروتي   \n",
       "2     2024-01-01 23:49:00        4-63915     قهوة                    مكياتو   \n",
       "3     2024-01-01 23:44:00        4-63914     قهوة  قهوة اليوم (بارد) (صغير)   \n",
       "4     2024-01-01 23:43:00        4-63913     قهوة  قهوة اليوم (بارد) (كبير)   \n",
       "...                   ...            ...      ...                       ...   \n",
       "95212 2023-01-01 07:17:00        1-12290     قهوة   قهوة اليوم (حار) (صغير)   \n",
       "95213 2023-01-01 07:16:00        1-12289     قهوة  قهوة اليوم (بارد) (كبير)   \n",
       "95214 2023-01-01 00:27:00        1-12288      حلا                     اكلير   \n",
       "95215 2023-01-01 00:21:00        1-12287   مشاريب      شاي مثلج - توت ورمان   \n",
       "95216 2023-01-01 00:21:00        1-12287   مشاريب              كرك (10 / 8)   \n",
       "\n",
       "       Quantity  Net sales  Cost of goods  Gross profit  \n",
       "0           1.0       12.0           3.06          8.94  \n",
       "1           1.0       20.0           5.57         14.43  \n",
       "2           1.0       15.0           2.13         12.87  \n",
       "3           2.0       20.0           5.06         14.94  \n",
       "4           1.0       12.0           3.06          8.94  \n",
       "...         ...        ...            ...           ...  \n",
       "95212       1.0       10.0           3.00          7.00  \n",
       "95213       1.0       11.0           3.00          8.00  \n",
       "95214       1.0       12.0           4.50          7.50  \n",
       "95215       1.0       15.0           3.50         11.50  \n",
       "95216       1.0        8.0           0.00          8.00  \n",
       "\n",
       "[95075 rows x 8 columns]"
      ]
     },
     "execution_count": 20,
     "metadata": {},
     "output_type": "execute_result"
    }
   ],
   "source": [
    "df"
   ]
  },
  {
   "cell_type": "code",
   "execution_count": 21,
   "metadata": {},
   "outputs": [
    {
     "data": {
      "text/html": [
       "<div>\n",
       "<style scoped>\n",
       "    .dataframe tbody tr th:only-of-type {\n",
       "        vertical-align: middle;\n",
       "    }\n",
       "\n",
       "    .dataframe tbody tr th {\n",
       "        vertical-align: top;\n",
       "    }\n",
       "\n",
       "    .dataframe thead th {\n",
       "        text-align: right;\n",
       "    }\n",
       "</style>\n",
       "<table border=\"1\" class=\"dataframe\">\n",
       "  <thead>\n",
       "    <tr style=\"text-align: right;\">\n",
       "      <th></th>\n",
       "      <th>Date</th>\n",
       "      <th>Receipt number</th>\n",
       "      <th>Category</th>\n",
       "      <th>Item</th>\n",
       "      <th>Quantity</th>\n",
       "      <th>Net sales</th>\n",
       "      <th>Cost of goods</th>\n",
       "      <th>Gross profit</th>\n",
       "    </tr>\n",
       "  </thead>\n",
       "  <tbody>\n",
       "    <tr>\n",
       "      <th>363</th>\n",
       "      <td>2023-12-31 23:53:00</td>\n",
       "      <td>4-63634</td>\n",
       "      <td>قهوة</td>\n",
       "      <td>قهوة اليوم (بارد) (صغير)</td>\n",
       "      <td>1.0</td>\n",
       "      <td>10.0</td>\n",
       "      <td>2.53</td>\n",
       "      <td>7.47</td>\n",
       "    </tr>\n",
       "    <tr>\n",
       "      <th>364</th>\n",
       "      <td>2023-12-31 23:53:00</td>\n",
       "      <td>4-63634</td>\n",
       "      <td>قهوة</td>\n",
       "      <td>قهوة اليوم (بارد) (كبير)</td>\n",
       "      <td>1.0</td>\n",
       "      <td>12.0</td>\n",
       "      <td>3.06</td>\n",
       "      <td>8.94</td>\n",
       "    </tr>\n",
       "    <tr>\n",
       "      <th>365</th>\n",
       "      <td>2023-12-31 23:36:00</td>\n",
       "      <td>4-63633</td>\n",
       "      <td>مشاريب</td>\n",
       "      <td>شاي مثلج - توت ورمان</td>\n",
       "      <td>2.0</td>\n",
       "      <td>30.0</td>\n",
       "      <td>6.60</td>\n",
       "      <td>23.40</td>\n",
       "    </tr>\n",
       "    <tr>\n",
       "      <th>366</th>\n",
       "      <td>2023-12-31 23:33:00</td>\n",
       "      <td>4-63632</td>\n",
       "      <td>قهوة</td>\n",
       "      <td>قهوة اليوم (بارد) (صغير)</td>\n",
       "      <td>1.0</td>\n",
       "      <td>10.0</td>\n",
       "      <td>2.53</td>\n",
       "      <td>7.47</td>\n",
       "    </tr>\n",
       "    <tr>\n",
       "      <th>367</th>\n",
       "      <td>2023-12-31 23:31:00</td>\n",
       "      <td>4-63631</td>\n",
       "      <td>حلا</td>\n",
       "      <td>شوكولاته مقرمشه</td>\n",
       "      <td>2.0</td>\n",
       "      <td>30.0</td>\n",
       "      <td>11.00</td>\n",
       "      <td>19.00</td>\n",
       "    </tr>\n",
       "    <tr>\n",
       "      <th>...</th>\n",
       "      <td>...</td>\n",
       "      <td>...</td>\n",
       "      <td>...</td>\n",
       "      <td>...</td>\n",
       "      <td>...</td>\n",
       "      <td>...</td>\n",
       "      <td>...</td>\n",
       "      <td>...</td>\n",
       "    </tr>\n",
       "    <tr>\n",
       "      <th>95212</th>\n",
       "      <td>2023-01-01 07:17:00</td>\n",
       "      <td>1-12290</td>\n",
       "      <td>قهوة</td>\n",
       "      <td>قهوة اليوم (حار) (صغير)</td>\n",
       "      <td>1.0</td>\n",
       "      <td>10.0</td>\n",
       "      <td>3.00</td>\n",
       "      <td>7.00</td>\n",
       "    </tr>\n",
       "    <tr>\n",
       "      <th>95213</th>\n",
       "      <td>2023-01-01 07:16:00</td>\n",
       "      <td>1-12289</td>\n",
       "      <td>قهوة</td>\n",
       "      <td>قهوة اليوم (بارد) (كبير)</td>\n",
       "      <td>1.0</td>\n",
       "      <td>11.0</td>\n",
       "      <td>3.00</td>\n",
       "      <td>8.00</td>\n",
       "    </tr>\n",
       "    <tr>\n",
       "      <th>95214</th>\n",
       "      <td>2023-01-01 00:27:00</td>\n",
       "      <td>1-12288</td>\n",
       "      <td>حلا</td>\n",
       "      <td>اكلير</td>\n",
       "      <td>1.0</td>\n",
       "      <td>12.0</td>\n",
       "      <td>4.50</td>\n",
       "      <td>7.50</td>\n",
       "    </tr>\n",
       "    <tr>\n",
       "      <th>95215</th>\n",
       "      <td>2023-01-01 00:21:00</td>\n",
       "      <td>1-12287</td>\n",
       "      <td>مشاريب</td>\n",
       "      <td>شاي مثلج - توت ورمان</td>\n",
       "      <td>1.0</td>\n",
       "      <td>15.0</td>\n",
       "      <td>3.50</td>\n",
       "      <td>11.50</td>\n",
       "    </tr>\n",
       "    <tr>\n",
       "      <th>95216</th>\n",
       "      <td>2023-01-01 00:21:00</td>\n",
       "      <td>1-12287</td>\n",
       "      <td>مشاريب</td>\n",
       "      <td>كرك (10 / 8)</td>\n",
       "      <td>1.0</td>\n",
       "      <td>8.0</td>\n",
       "      <td>0.00</td>\n",
       "      <td>8.00</td>\n",
       "    </tr>\n",
       "  </tbody>\n",
       "</table>\n",
       "<p>94712 rows × 8 columns</p>\n",
       "</div>"
      ],
      "text/plain": [
       "                     Date Receipt number Category                      Item  \\\n",
       "363   2023-12-31 23:53:00        4-63634     قهوة  قهوة اليوم (بارد) (صغير)   \n",
       "364   2023-12-31 23:53:00        4-63634     قهوة  قهوة اليوم (بارد) (كبير)   \n",
       "365   2023-12-31 23:36:00        4-63633   مشاريب      شاي مثلج - توت ورمان   \n",
       "366   2023-12-31 23:33:00        4-63632     قهوة  قهوة اليوم (بارد) (صغير)   \n",
       "367   2023-12-31 23:31:00        4-63631      حلا           شوكولاته مقرمشه   \n",
       "...                   ...            ...      ...                       ...   \n",
       "95212 2023-01-01 07:17:00        1-12290     قهوة   قهوة اليوم (حار) (صغير)   \n",
       "95213 2023-01-01 07:16:00        1-12289     قهوة  قهوة اليوم (بارد) (كبير)   \n",
       "95214 2023-01-01 00:27:00        1-12288      حلا                     اكلير   \n",
       "95215 2023-01-01 00:21:00        1-12287   مشاريب      شاي مثلج - توت ورمان   \n",
       "95216 2023-01-01 00:21:00        1-12287   مشاريب              كرك (10 / 8)   \n",
       "\n",
       "       Quantity  Net sales  Cost of goods  Gross profit  \n",
       "363         1.0       10.0           2.53          7.47  \n",
       "364         1.0       12.0           3.06          8.94  \n",
       "365         2.0       30.0           6.60         23.40  \n",
       "366         1.0       10.0           2.53          7.47  \n",
       "367         2.0       30.0          11.00         19.00  \n",
       "...         ...        ...            ...           ...  \n",
       "95212       1.0       10.0           3.00          7.00  \n",
       "95213       1.0       11.0           3.00          8.00  \n",
       "95214       1.0       12.0           4.50          7.50  \n",
       "95215       1.0       15.0           3.50         11.50  \n",
       "95216       1.0        8.0           0.00          8.00  \n",
       "\n",
       "[94712 rows x 8 columns]"
      ]
     },
     "execution_count": 21,
     "metadata": {},
     "output_type": "execute_result"
    }
   ],
   "source": [
    "# I notices there are data from the first day of 2024 we need to remove it to give all months equal contribution and focus on 2023 yea only \n",
    "df = df[df['Date'].dt.year != 2024]\n",
    "df\n"
   ]
  },
  {
   "cell_type": "code",
   "execution_count": 22,
   "metadata": {},
   "outputs": [
    {
     "data": {
      "text/html": [
       "<div>\n",
       "<style scoped>\n",
       "    .dataframe tbody tr th:only-of-type {\n",
       "        vertical-align: middle;\n",
       "    }\n",
       "\n",
       "    .dataframe tbody tr th {\n",
       "        vertical-align: top;\n",
       "    }\n",
       "\n",
       "    .dataframe thead th {\n",
       "        text-align: right;\n",
       "    }\n",
       "</style>\n",
       "<table border=\"1\" class=\"dataframe\">\n",
       "  <thead>\n",
       "    <tr style=\"text-align: right;\">\n",
       "      <th></th>\n",
       "      <th>Item</th>\n",
       "      <th>Quantity</th>\n",
       "      <th>Net sales</th>\n",
       "      <th>Cost of goods</th>\n",
       "      <th>Gross profit</th>\n",
       "    </tr>\n",
       "    <tr>\n",
       "      <th>Date</th>\n",
       "      <th></th>\n",
       "      <th></th>\n",
       "      <th></th>\n",
       "      <th></th>\n",
       "      <th></th>\n",
       "    </tr>\n",
       "  </thead>\n",
       "  <tbody>\n",
       "    <tr>\n",
       "      <th>2023-01-01</th>\n",
       "      <td>اكلير</td>\n",
       "      <td>13.0</td>\n",
       "      <td>156.0</td>\n",
       "      <td>58.50</td>\n",
       "      <td>97.50</td>\n",
       "    </tr>\n",
       "    <tr>\n",
       "      <th>2023-01-01</th>\n",
       "      <td>بن اثيوبي 150 قرام</td>\n",
       "      <td>1.0</td>\n",
       "      <td>60.0</td>\n",
       "      <td>40.00</td>\n",
       "      <td>20.00</td>\n",
       "    </tr>\n",
       "    <tr>\n",
       "      <th>2023-01-01</th>\n",
       "      <td>شاي مثلج - توت ورمان</td>\n",
       "      <td>41.0</td>\n",
       "      <td>609.0</td>\n",
       "      <td>143.50</td>\n",
       "      <td>465.50</td>\n",
       "    </tr>\n",
       "    <tr>\n",
       "      <th>2023-01-01</th>\n",
       "      <td>شوكولاته مقرمشه</td>\n",
       "      <td>5.0</td>\n",
       "      <td>58.2</td>\n",
       "      <td>17.50</td>\n",
       "      <td>40.70</td>\n",
       "    </tr>\n",
       "    <tr>\n",
       "      <th>2023-01-01</th>\n",
       "      <td>قهوة اليوم (بارد) (صغير)</td>\n",
       "      <td>5.0</td>\n",
       "      <td>45.0</td>\n",
       "      <td>13.00</td>\n",
       "      <td>32.00</td>\n",
       "    </tr>\n",
       "    <tr>\n",
       "      <th>...</th>\n",
       "      <td>...</td>\n",
       "      <td>...</td>\n",
       "      <td>...</td>\n",
       "      <td>...</td>\n",
       "      <td>...</td>\n",
       "    </tr>\n",
       "    <tr>\n",
       "      <th>2023-12-31</th>\n",
       "      <td>كورتادو</td>\n",
       "      <td>2.0</td>\n",
       "      <td>30.0</td>\n",
       "      <td>8.26</td>\n",
       "      <td>21.74</td>\n",
       "    </tr>\n",
       "    <tr>\n",
       "      <th>2023-12-31</th>\n",
       "      <td>كولد برو</td>\n",
       "      <td>6.0</td>\n",
       "      <td>120.0</td>\n",
       "      <td>36.84</td>\n",
       "      <td>83.16</td>\n",
       "    </tr>\n",
       "    <tr>\n",
       "      <th>2023-12-31</th>\n",
       "      <td>لاتيه</td>\n",
       "      <td>3.0</td>\n",
       "      <td>45.0</td>\n",
       "      <td>12.99</td>\n",
       "      <td>32.01</td>\n",
       "    </tr>\n",
       "    <tr>\n",
       "      <th>2023-12-31</th>\n",
       "      <td>ماء</td>\n",
       "      <td>21.0</td>\n",
       "      <td>21.0</td>\n",
       "      <td>7.98</td>\n",
       "      <td>13.02</td>\n",
       "    </tr>\n",
       "    <tr>\n",
       "      <th>2023-12-31</th>\n",
       "      <td>هوت شوكليت</td>\n",
       "      <td>16.0</td>\n",
       "      <td>240.0</td>\n",
       "      <td>64.00</td>\n",
       "      <td>176.00</td>\n",
       "    </tr>\n",
       "  </tbody>\n",
       "</table>\n",
       "<p>7262 rows × 5 columns</p>\n",
       "</div>"
      ],
      "text/plain": [
       "                                Item  Quantity  Net sales  Cost of goods  \\\n",
       "Date                                                                       \n",
       "2023-01-01                     اكلير      13.0      156.0          58.50   \n",
       "2023-01-01        بن اثيوبي 150 قرام       1.0       60.0          40.00   \n",
       "2023-01-01      شاي مثلج - توت ورمان      41.0      609.0         143.50   \n",
       "2023-01-01           شوكولاته مقرمشه       5.0       58.2          17.50   \n",
       "2023-01-01  قهوة اليوم (بارد) (صغير)       5.0       45.0          13.00   \n",
       "...                              ...       ...        ...            ...   \n",
       "2023-12-31                   كورتادو       2.0       30.0           8.26   \n",
       "2023-12-31                  كولد برو       6.0      120.0          36.84   \n",
       "2023-12-31                     لاتيه       3.0       45.0          12.99   \n",
       "2023-12-31                       ماء      21.0       21.0           7.98   \n",
       "2023-12-31                هوت شوكليت      16.0      240.0          64.00   \n",
       "\n",
       "            Gross profit  \n",
       "Date                      \n",
       "2023-01-01         97.50  \n",
       "2023-01-01         20.00  \n",
       "2023-01-01        465.50  \n",
       "2023-01-01         40.70  \n",
       "2023-01-01         32.00  \n",
       "...                  ...  \n",
       "2023-12-31         21.74  \n",
       "2023-12-31         83.16  \n",
       "2023-12-31         32.01  \n",
       "2023-12-31         13.02  \n",
       "2023-12-31        176.00  \n",
       "\n",
       "[7262 rows x 5 columns]"
      ]
     },
     "execution_count": 22,
     "metadata": {},
     "output_type": "execute_result"
    }
   ],
   "source": [
    "# Extract date only (remove time)\n",
    "#df['Date'] = df['Date'].dt.date\n",
    "\n",
    "# Group by 'Date' and 'Item', summing the 'Quantity'\n",
    "daily_sales = df.groupby([df['Date'].dt.date, 'Item'])[['Quantity',\"Net sales\",\"Cost of goods\",\"Gross profit\"]].sum().reset_index()\n",
    "\n",
    "# Set 'Date' as the index\n",
    "daily_sales.set_index('Date', inplace=True)\n",
    "\n",
    "# Display the resulting DataFrame\n",
    "daily_sales"
   ]
  },
  {
   "cell_type": "code",
   "execution_count": 23,
   "metadata": {},
   "outputs": [
    {
     "data": {
      "text/html": [
       "<div>\n",
       "<style scoped>\n",
       "    .dataframe tbody tr th:only-of-type {\n",
       "        vertical-align: middle;\n",
       "    }\n",
       "\n",
       "    .dataframe tbody tr th {\n",
       "        vertical-align: top;\n",
       "    }\n",
       "\n",
       "    .dataframe thead th {\n",
       "        text-align: right;\n",
       "    }\n",
       "</style>\n",
       "<table border=\"1\" class=\"dataframe\">\n",
       "  <thead>\n",
       "    <tr style=\"text-align: right;\">\n",
       "      <th></th>\n",
       "      <th>Item</th>\n",
       "      <th>Quantity</th>\n",
       "      <th>Net sales</th>\n",
       "      <th>Cost of goods</th>\n",
       "      <th>Gross profit</th>\n",
       "      <th>Category</th>\n",
       "    </tr>\n",
       "    <tr>\n",
       "      <th>Date</th>\n",
       "      <th></th>\n",
       "      <th></th>\n",
       "      <th></th>\n",
       "      <th></th>\n",
       "      <th></th>\n",
       "      <th></th>\n",
       "    </tr>\n",
       "  </thead>\n",
       "  <tbody>\n",
       "    <tr>\n",
       "      <th>2023-01-01</th>\n",
       "      <td>اكلير</td>\n",
       "      <td>13.0</td>\n",
       "      <td>156.0</td>\n",
       "      <td>58.50</td>\n",
       "      <td>97.50</td>\n",
       "      <td>حلا</td>\n",
       "    </tr>\n",
       "    <tr>\n",
       "      <th>2023-01-01</th>\n",
       "      <td>بن اثيوبي 150 قرام</td>\n",
       "      <td>1.0</td>\n",
       "      <td>60.0</td>\n",
       "      <td>40.00</td>\n",
       "      <td>20.00</td>\n",
       "      <td>بن</td>\n",
       "    </tr>\n",
       "    <tr>\n",
       "      <th>2023-01-01</th>\n",
       "      <td>شاي مثلج - توت ورمان</td>\n",
       "      <td>41.0</td>\n",
       "      <td>609.0</td>\n",
       "      <td>143.50</td>\n",
       "      <td>465.50</td>\n",
       "      <td>مشاريب</td>\n",
       "    </tr>\n",
       "    <tr>\n",
       "      <th>2023-01-01</th>\n",
       "      <td>شوكولاته مقرمشه</td>\n",
       "      <td>5.0</td>\n",
       "      <td>58.2</td>\n",
       "      <td>17.50</td>\n",
       "      <td>40.70</td>\n",
       "      <td>حلا</td>\n",
       "    </tr>\n",
       "    <tr>\n",
       "      <th>2023-01-01</th>\n",
       "      <td>قهوة اليوم (بارد) (صغير)</td>\n",
       "      <td>5.0</td>\n",
       "      <td>45.0</td>\n",
       "      <td>13.00</td>\n",
       "      <td>32.00</td>\n",
       "      <td>قهوة</td>\n",
       "    </tr>\n",
       "    <tr>\n",
       "      <th>...</th>\n",
       "      <td>...</td>\n",
       "      <td>...</td>\n",
       "      <td>...</td>\n",
       "      <td>...</td>\n",
       "      <td>...</td>\n",
       "      <td>...</td>\n",
       "    </tr>\n",
       "    <tr>\n",
       "      <th>2023-12-31</th>\n",
       "      <td>كورتادو</td>\n",
       "      <td>2.0</td>\n",
       "      <td>30.0</td>\n",
       "      <td>8.26</td>\n",
       "      <td>21.74</td>\n",
       "      <td>قهوة</td>\n",
       "    </tr>\n",
       "    <tr>\n",
       "      <th>2023-12-31</th>\n",
       "      <td>كولد برو</td>\n",
       "      <td>6.0</td>\n",
       "      <td>120.0</td>\n",
       "      <td>36.84</td>\n",
       "      <td>83.16</td>\n",
       "      <td>مشاريب</td>\n",
       "    </tr>\n",
       "    <tr>\n",
       "      <th>2023-12-31</th>\n",
       "      <td>لاتيه</td>\n",
       "      <td>3.0</td>\n",
       "      <td>45.0</td>\n",
       "      <td>12.99</td>\n",
       "      <td>32.01</td>\n",
       "      <td>قهوة</td>\n",
       "    </tr>\n",
       "    <tr>\n",
       "      <th>2023-12-31</th>\n",
       "      <td>ماء</td>\n",
       "      <td>21.0</td>\n",
       "      <td>21.0</td>\n",
       "      <td>7.98</td>\n",
       "      <td>13.02</td>\n",
       "      <td>اخرى</td>\n",
       "    </tr>\n",
       "    <tr>\n",
       "      <th>2023-12-31</th>\n",
       "      <td>هوت شوكليت</td>\n",
       "      <td>16.0</td>\n",
       "      <td>240.0</td>\n",
       "      <td>64.00</td>\n",
       "      <td>176.00</td>\n",
       "      <td>منتجات شتوية</td>\n",
       "    </tr>\n",
       "  </tbody>\n",
       "</table>\n",
       "<p>7262 rows × 6 columns</p>\n",
       "</div>"
      ],
      "text/plain": [
       "                                Item  Quantity  Net sales  Cost of goods  \\\n",
       "Date                                                                       \n",
       "2023-01-01                     اكلير      13.0      156.0          58.50   \n",
       "2023-01-01        بن اثيوبي 150 قرام       1.0       60.0          40.00   \n",
       "2023-01-01      شاي مثلج - توت ورمان      41.0      609.0         143.50   \n",
       "2023-01-01           شوكولاته مقرمشه       5.0       58.2          17.50   \n",
       "2023-01-01  قهوة اليوم (بارد) (صغير)       5.0       45.0          13.00   \n",
       "...                              ...       ...        ...            ...   \n",
       "2023-12-31                   كورتادو       2.0       30.0           8.26   \n",
       "2023-12-31                  كولد برو       6.0      120.0          36.84   \n",
       "2023-12-31                     لاتيه       3.0       45.0          12.99   \n",
       "2023-12-31                       ماء      21.0       21.0           7.98   \n",
       "2023-12-31                هوت شوكليت      16.0      240.0          64.00   \n",
       "\n",
       "            Gross profit      Category  \n",
       "Date                                    \n",
       "2023-01-01         97.50           حلا  \n",
       "2023-01-01         20.00            بن  \n",
       "2023-01-01        465.50        مشاريب  \n",
       "2023-01-01         40.70           حلا  \n",
       "2023-01-01         32.00          قهوة  \n",
       "...                  ...           ...  \n",
       "2023-12-31         21.74          قهوة  \n",
       "2023-12-31         83.16        مشاريب  \n",
       "2023-12-31         32.01          قهوة  \n",
       "2023-12-31         13.02          اخرى  \n",
       "2023-12-31        176.00  منتجات شتوية  \n",
       "\n",
       "[7262 rows x 6 columns]"
      ]
     },
     "execution_count": 23,
     "metadata": {},
     "output_type": "execute_result"
    }
   ],
   "source": [
    "#Adding the category since its might be an important feature duringbuilding the forecasting model \n",
    "\n",
    "import pandas as pd\n",
    "\n",
    "df_sales = daily_sales\n",
    "df_categories = df\n",
    "\n",
    "# Create a mapping from the category DataFrame\n",
    "category_mapping = pd.Series(df_categories.Category.values, index=df_categories.Item).to_dict()\n",
    "\n",
    "# Map the categories to the sales DataFrame\n",
    "df_sales['Category'] = df_sales['Item'].map(category_mapping)\n",
    "\n",
    "# Display the resulting DataFrame\n",
    "df_sales\n"
   ]
  },
  {
   "cell_type": "code",
   "execution_count": 24,
   "metadata": {},
   "outputs": [],
   "source": [
    "df = df_sales.reset_index()"
   ]
  },
  {
   "cell_type": "code",
   "execution_count": 25,
   "metadata": {},
   "outputs": [],
   "source": [
    "df[\"Date\"] = pd.to_datetime(df[\"Date\"])"
   ]
  },
  {
   "cell_type": "code",
   "execution_count": 26,
   "metadata": {},
   "outputs": [],
   "source": [
    "# Add Date Time columns since its crusial for forecasting\n",
    "df['Year'] = df['Date'].dt.year\n",
    "df['Month'] = df['Date'].dt.month\n",
    "df['Day'] = df['Date'].dt.day\n",
    "df['WeekDay'] = df['Date'].dt.weekday\n",
    "df['Is_Weekend'] = df['Date'].dt.dayofweek.apply(lambda x: 1 if x in [3, 4] else 0)\n",
    "\n"
   ]
  },
  {
   "cell_type": "code",
   "execution_count": 27,
   "metadata": {},
   "outputs": [
    {
     "data": {
      "text/html": [
       "<div>\n",
       "<style scoped>\n",
       "    .dataframe tbody tr th:only-of-type {\n",
       "        vertical-align: middle;\n",
       "    }\n",
       "\n",
       "    .dataframe tbody tr th {\n",
       "        vertical-align: top;\n",
       "    }\n",
       "\n",
       "    .dataframe thead th {\n",
       "        text-align: right;\n",
       "    }\n",
       "</style>\n",
       "<table border=\"1\" class=\"dataframe\">\n",
       "  <thead>\n",
       "    <tr style=\"text-align: right;\">\n",
       "      <th></th>\n",
       "      <th>Date</th>\n",
       "      <th>Item</th>\n",
       "      <th>Quantity</th>\n",
       "      <th>Net sales</th>\n",
       "      <th>Cost of goods</th>\n",
       "      <th>Gross profit</th>\n",
       "      <th>Category</th>\n",
       "      <th>Year</th>\n",
       "      <th>Month</th>\n",
       "      <th>Day</th>\n",
       "      <th>WeekDay</th>\n",
       "      <th>Is_Weekend</th>\n",
       "    </tr>\n",
       "  </thead>\n",
       "  <tbody>\n",
       "    <tr>\n",
       "      <th>0</th>\n",
       "      <td>2023-01-01</td>\n",
       "      <td>اكلير</td>\n",
       "      <td>13.0</td>\n",
       "      <td>156.0</td>\n",
       "      <td>58.50</td>\n",
       "      <td>97.50</td>\n",
       "      <td>حلا</td>\n",
       "      <td>2023</td>\n",
       "      <td>1</td>\n",
       "      <td>1</td>\n",
       "      <td>6</td>\n",
       "      <td>0</td>\n",
       "    </tr>\n",
       "    <tr>\n",
       "      <th>1</th>\n",
       "      <td>2023-01-01</td>\n",
       "      <td>بن اثيوبي 150 قرام</td>\n",
       "      <td>1.0</td>\n",
       "      <td>60.0</td>\n",
       "      <td>40.00</td>\n",
       "      <td>20.00</td>\n",
       "      <td>بن</td>\n",
       "      <td>2023</td>\n",
       "      <td>1</td>\n",
       "      <td>1</td>\n",
       "      <td>6</td>\n",
       "      <td>0</td>\n",
       "    </tr>\n",
       "    <tr>\n",
       "      <th>2</th>\n",
       "      <td>2023-01-01</td>\n",
       "      <td>شاي مثلج - توت ورمان</td>\n",
       "      <td>41.0</td>\n",
       "      <td>609.0</td>\n",
       "      <td>143.50</td>\n",
       "      <td>465.50</td>\n",
       "      <td>مشاريب</td>\n",
       "      <td>2023</td>\n",
       "      <td>1</td>\n",
       "      <td>1</td>\n",
       "      <td>6</td>\n",
       "      <td>0</td>\n",
       "    </tr>\n",
       "    <tr>\n",
       "      <th>3</th>\n",
       "      <td>2023-01-01</td>\n",
       "      <td>شوكولاته مقرمشه</td>\n",
       "      <td>5.0</td>\n",
       "      <td>58.2</td>\n",
       "      <td>17.50</td>\n",
       "      <td>40.70</td>\n",
       "      <td>حلا</td>\n",
       "      <td>2023</td>\n",
       "      <td>1</td>\n",
       "      <td>1</td>\n",
       "      <td>6</td>\n",
       "      <td>0</td>\n",
       "    </tr>\n",
       "    <tr>\n",
       "      <th>4</th>\n",
       "      <td>2023-01-01</td>\n",
       "      <td>قهوة اليوم (بارد) (صغير)</td>\n",
       "      <td>5.0</td>\n",
       "      <td>45.0</td>\n",
       "      <td>13.00</td>\n",
       "      <td>32.00</td>\n",
       "      <td>قهوة</td>\n",
       "      <td>2023</td>\n",
       "      <td>1</td>\n",
       "      <td>1</td>\n",
       "      <td>6</td>\n",
       "      <td>0</td>\n",
       "    </tr>\n",
       "    <tr>\n",
       "      <th>...</th>\n",
       "      <td>...</td>\n",
       "      <td>...</td>\n",
       "      <td>...</td>\n",
       "      <td>...</td>\n",
       "      <td>...</td>\n",
       "      <td>...</td>\n",
       "      <td>...</td>\n",
       "      <td>...</td>\n",
       "      <td>...</td>\n",
       "      <td>...</td>\n",
       "      <td>...</td>\n",
       "      <td>...</td>\n",
       "    </tr>\n",
       "    <tr>\n",
       "      <th>7257</th>\n",
       "      <td>2023-12-31</td>\n",
       "      <td>كورتادو</td>\n",
       "      <td>2.0</td>\n",
       "      <td>30.0</td>\n",
       "      <td>8.26</td>\n",
       "      <td>21.74</td>\n",
       "      <td>قهوة</td>\n",
       "      <td>2023</td>\n",
       "      <td>12</td>\n",
       "      <td>31</td>\n",
       "      <td>6</td>\n",
       "      <td>0</td>\n",
       "    </tr>\n",
       "    <tr>\n",
       "      <th>7258</th>\n",
       "      <td>2023-12-31</td>\n",
       "      <td>كولد برو</td>\n",
       "      <td>6.0</td>\n",
       "      <td>120.0</td>\n",
       "      <td>36.84</td>\n",
       "      <td>83.16</td>\n",
       "      <td>مشاريب</td>\n",
       "      <td>2023</td>\n",
       "      <td>12</td>\n",
       "      <td>31</td>\n",
       "      <td>6</td>\n",
       "      <td>0</td>\n",
       "    </tr>\n",
       "    <tr>\n",
       "      <th>7259</th>\n",
       "      <td>2023-12-31</td>\n",
       "      <td>لاتيه</td>\n",
       "      <td>3.0</td>\n",
       "      <td>45.0</td>\n",
       "      <td>12.99</td>\n",
       "      <td>32.01</td>\n",
       "      <td>قهوة</td>\n",
       "      <td>2023</td>\n",
       "      <td>12</td>\n",
       "      <td>31</td>\n",
       "      <td>6</td>\n",
       "      <td>0</td>\n",
       "    </tr>\n",
       "    <tr>\n",
       "      <th>7260</th>\n",
       "      <td>2023-12-31</td>\n",
       "      <td>ماء</td>\n",
       "      <td>21.0</td>\n",
       "      <td>21.0</td>\n",
       "      <td>7.98</td>\n",
       "      <td>13.02</td>\n",
       "      <td>اخرى</td>\n",
       "      <td>2023</td>\n",
       "      <td>12</td>\n",
       "      <td>31</td>\n",
       "      <td>6</td>\n",
       "      <td>0</td>\n",
       "    </tr>\n",
       "    <tr>\n",
       "      <th>7261</th>\n",
       "      <td>2023-12-31</td>\n",
       "      <td>هوت شوكليت</td>\n",
       "      <td>16.0</td>\n",
       "      <td>240.0</td>\n",
       "      <td>64.00</td>\n",
       "      <td>176.00</td>\n",
       "      <td>منتجات شتوية</td>\n",
       "      <td>2023</td>\n",
       "      <td>12</td>\n",
       "      <td>31</td>\n",
       "      <td>6</td>\n",
       "      <td>0</td>\n",
       "    </tr>\n",
       "  </tbody>\n",
       "</table>\n",
       "<p>7262 rows × 12 columns</p>\n",
       "</div>"
      ],
      "text/plain": [
       "           Date                      Item  Quantity  Net sales  Cost of goods  \\\n",
       "0    2023-01-01                     اكلير      13.0      156.0          58.50   \n",
       "1    2023-01-01        بن اثيوبي 150 قرام       1.0       60.0          40.00   \n",
       "2    2023-01-01      شاي مثلج - توت ورمان      41.0      609.0         143.50   \n",
       "3    2023-01-01           شوكولاته مقرمشه       5.0       58.2          17.50   \n",
       "4    2023-01-01  قهوة اليوم (بارد) (صغير)       5.0       45.0          13.00   \n",
       "...         ...                       ...       ...        ...            ...   \n",
       "7257 2023-12-31                   كورتادو       2.0       30.0           8.26   \n",
       "7258 2023-12-31                  كولد برو       6.0      120.0          36.84   \n",
       "7259 2023-12-31                     لاتيه       3.0       45.0          12.99   \n",
       "7260 2023-12-31                       ماء      21.0       21.0           7.98   \n",
       "7261 2023-12-31                هوت شوكليت      16.0      240.0          64.00   \n",
       "\n",
       "      Gross profit      Category  Year  Month  Day  WeekDay  Is_Weekend  \n",
       "0            97.50           حلا  2023      1    1        6           0  \n",
       "1            20.00            بن  2023      1    1        6           0  \n",
       "2           465.50        مشاريب  2023      1    1        6           0  \n",
       "3            40.70           حلا  2023      1    1        6           0  \n",
       "4            32.00          قهوة  2023      1    1        6           0  \n",
       "...            ...           ...   ...    ...  ...      ...         ...  \n",
       "7257         21.74          قهوة  2023     12   31        6           0  \n",
       "7258         83.16        مشاريب  2023     12   31        6           0  \n",
       "7259         32.01          قهوة  2023     12   31        6           0  \n",
       "7260         13.02          اخرى  2023     12   31        6           0  \n",
       "7261        176.00  منتجات شتوية  2023     12   31        6           0  \n",
       "\n",
       "[7262 rows x 12 columns]"
      ]
     },
     "execution_count": 27,
     "metadata": {},
     "output_type": "execute_result"
    }
   ],
   "source": [
    "df"
   ]
  },
  {
   "cell_type": "code",
   "execution_count": 28,
   "metadata": {},
   "outputs": [],
   "source": [
    "# Lets continue with one item only since the forecasting will be build for each item seperatly \n",
    "df_IcedTea = df[df['Item'] == \"شاي مثلج - توت ورمان\"]"
   ]
  },
  {
   "cell_type": "code",
   "execution_count": 29,
   "metadata": {},
   "outputs": [
    {
     "data": {
      "text/html": [
       "<div>\n",
       "<style scoped>\n",
       "    .dataframe tbody tr th:only-of-type {\n",
       "        vertical-align: middle;\n",
       "    }\n",
       "\n",
       "    .dataframe tbody tr th {\n",
       "        vertical-align: top;\n",
       "    }\n",
       "\n",
       "    .dataframe thead th {\n",
       "        text-align: right;\n",
       "    }\n",
       "</style>\n",
       "<table border=\"1\" class=\"dataframe\">\n",
       "  <thead>\n",
       "    <tr style=\"text-align: right;\">\n",
       "      <th></th>\n",
       "      <th>Date</th>\n",
       "      <th>Item</th>\n",
       "      <th>Quantity</th>\n",
       "      <th>Net sales</th>\n",
       "      <th>Cost of goods</th>\n",
       "      <th>Gross profit</th>\n",
       "      <th>Category</th>\n",
       "      <th>Year</th>\n",
       "      <th>Month</th>\n",
       "      <th>Day</th>\n",
       "      <th>WeekDay</th>\n",
       "      <th>Is_Weekend</th>\n",
       "    </tr>\n",
       "  </thead>\n",
       "  <tbody>\n",
       "    <tr>\n",
       "      <th>2</th>\n",
       "      <td>2023-01-01</td>\n",
       "      <td>شاي مثلج - توت ورمان</td>\n",
       "      <td>41.0</td>\n",
       "      <td>609.00</td>\n",
       "      <td>143.5</td>\n",
       "      <td>465.50</td>\n",
       "      <td>مشاريب</td>\n",
       "      <td>2023</td>\n",
       "      <td>1</td>\n",
       "      <td>1</td>\n",
       "      <td>6</td>\n",
       "      <td>0</td>\n",
       "    </tr>\n",
       "    <tr>\n",
       "      <th>12</th>\n",
       "      <td>2023-01-02</td>\n",
       "      <td>شاي مثلج - توت ورمان</td>\n",
       "      <td>33.0</td>\n",
       "      <td>492.75</td>\n",
       "      <td>115.5</td>\n",
       "      <td>377.25</td>\n",
       "      <td>مشاريب</td>\n",
       "      <td>2023</td>\n",
       "      <td>1</td>\n",
       "      <td>2</td>\n",
       "      <td>0</td>\n",
       "      <td>0</td>\n",
       "    </tr>\n",
       "    <tr>\n",
       "      <th>23</th>\n",
       "      <td>2023-01-03</td>\n",
       "      <td>شاي مثلج - توت ورمان</td>\n",
       "      <td>17.0</td>\n",
       "      <td>248.25</td>\n",
       "      <td>59.5</td>\n",
       "      <td>188.75</td>\n",
       "      <td>مشاريب</td>\n",
       "      <td>2023</td>\n",
       "      <td>1</td>\n",
       "      <td>3</td>\n",
       "      <td>1</td>\n",
       "      <td>0</td>\n",
       "    </tr>\n",
       "    <tr>\n",
       "      <th>33</th>\n",
       "      <td>2023-01-04</td>\n",
       "      <td>شاي مثلج - توت ورمان</td>\n",
       "      <td>25.0</td>\n",
       "      <td>372.00</td>\n",
       "      <td>87.5</td>\n",
       "      <td>284.50</td>\n",
       "      <td>مشاريب</td>\n",
       "      <td>2023</td>\n",
       "      <td>1</td>\n",
       "      <td>4</td>\n",
       "      <td>2</td>\n",
       "      <td>0</td>\n",
       "    </tr>\n",
       "    <tr>\n",
       "      <th>43</th>\n",
       "      <td>2023-01-05</td>\n",
       "      <td>شاي مثلج - توت ورمان</td>\n",
       "      <td>26.0</td>\n",
       "      <td>382.50</td>\n",
       "      <td>91.0</td>\n",
       "      <td>291.50</td>\n",
       "      <td>مشاريب</td>\n",
       "      <td>2023</td>\n",
       "      <td>1</td>\n",
       "      <td>5</td>\n",
       "      <td>3</td>\n",
       "      <td>1</td>\n",
       "    </tr>\n",
       "    <tr>\n",
       "      <th>...</th>\n",
       "      <td>...</td>\n",
       "      <td>...</td>\n",
       "      <td>...</td>\n",
       "      <td>...</td>\n",
       "      <td>...</td>\n",
       "      <td>...</td>\n",
       "      <td>...</td>\n",
       "      <td>...</td>\n",
       "      <td>...</td>\n",
       "      <td>...</td>\n",
       "      <td>...</td>\n",
       "      <td>...</td>\n",
       "    </tr>\n",
       "    <tr>\n",
       "      <th>7147</th>\n",
       "      <td>2023-12-27</td>\n",
       "      <td>شاي مثلج - توت ورمان</td>\n",
       "      <td>38.0</td>\n",
       "      <td>570.00</td>\n",
       "      <td>125.4</td>\n",
       "      <td>444.60</td>\n",
       "      <td>مشاريب</td>\n",
       "      <td>2023</td>\n",
       "      <td>12</td>\n",
       "      <td>27</td>\n",
       "      <td>2</td>\n",
       "      <td>0</td>\n",
       "    </tr>\n",
       "    <tr>\n",
       "      <th>7174</th>\n",
       "      <td>2023-12-28</td>\n",
       "      <td>شاي مثلج - توت ورمان</td>\n",
       "      <td>60.0</td>\n",
       "      <td>900.00</td>\n",
       "      <td>198.0</td>\n",
       "      <td>702.00</td>\n",
       "      <td>مشاريب</td>\n",
       "      <td>2023</td>\n",
       "      <td>12</td>\n",
       "      <td>28</td>\n",
       "      <td>3</td>\n",
       "      <td>1</td>\n",
       "    </tr>\n",
       "    <tr>\n",
       "      <th>7196</th>\n",
       "      <td>2023-12-29</td>\n",
       "      <td>شاي مثلج - توت ورمان</td>\n",
       "      <td>31.0</td>\n",
       "      <td>457.50</td>\n",
       "      <td>102.3</td>\n",
       "      <td>355.20</td>\n",
       "      <td>مشاريب</td>\n",
       "      <td>2023</td>\n",
       "      <td>12</td>\n",
       "      <td>29</td>\n",
       "      <td>4</td>\n",
       "      <td>1</td>\n",
       "    </tr>\n",
       "    <tr>\n",
       "      <th>7221</th>\n",
       "      <td>2023-12-30</td>\n",
       "      <td>شاي مثلج - توت ورمان</td>\n",
       "      <td>60.0</td>\n",
       "      <td>885.00</td>\n",
       "      <td>198.0</td>\n",
       "      <td>687.00</td>\n",
       "      <td>مشاريب</td>\n",
       "      <td>2023</td>\n",
       "      <td>12</td>\n",
       "      <td>30</td>\n",
       "      <td>5</td>\n",
       "      <td>0</td>\n",
       "    </tr>\n",
       "    <tr>\n",
       "      <th>7246</th>\n",
       "      <td>2023-12-31</td>\n",
       "      <td>شاي مثلج - توت ورمان</td>\n",
       "      <td>23.0</td>\n",
       "      <td>322.50</td>\n",
       "      <td>75.9</td>\n",
       "      <td>246.60</td>\n",
       "      <td>مشاريب</td>\n",
       "      <td>2023</td>\n",
       "      <td>12</td>\n",
       "      <td>31</td>\n",
       "      <td>6</td>\n",
       "      <td>0</td>\n",
       "    </tr>\n",
       "  </tbody>\n",
       "</table>\n",
       "<p>365 rows × 12 columns</p>\n",
       "</div>"
      ],
      "text/plain": [
       "           Date                  Item  Quantity  Net sales  Cost of goods  \\\n",
       "2    2023-01-01  شاي مثلج - توت ورمان      41.0     609.00          143.5   \n",
       "12   2023-01-02  شاي مثلج - توت ورمان      33.0     492.75          115.5   \n",
       "23   2023-01-03  شاي مثلج - توت ورمان      17.0     248.25           59.5   \n",
       "33   2023-01-04  شاي مثلج - توت ورمان      25.0     372.00           87.5   \n",
       "43   2023-01-05  شاي مثلج - توت ورمان      26.0     382.50           91.0   \n",
       "...         ...                   ...       ...        ...            ...   \n",
       "7147 2023-12-27  شاي مثلج - توت ورمان      38.0     570.00          125.4   \n",
       "7174 2023-12-28  شاي مثلج - توت ورمان      60.0     900.00          198.0   \n",
       "7196 2023-12-29  شاي مثلج - توت ورمان      31.0     457.50          102.3   \n",
       "7221 2023-12-30  شاي مثلج - توت ورمان      60.0     885.00          198.0   \n",
       "7246 2023-12-31  شاي مثلج - توت ورمان      23.0     322.50           75.9   \n",
       "\n",
       "      Gross profit Category  Year  Month  Day  WeekDay  Is_Weekend  \n",
       "2           465.50   مشاريب  2023      1    1        6           0  \n",
       "12          377.25   مشاريب  2023      1    2        0           0  \n",
       "23          188.75   مشاريب  2023      1    3        1           0  \n",
       "33          284.50   مشاريب  2023      1    4        2           0  \n",
       "43          291.50   مشاريب  2023      1    5        3           1  \n",
       "...            ...      ...   ...    ...  ...      ...         ...  \n",
       "7147        444.60   مشاريب  2023     12   27        2           0  \n",
       "7174        702.00   مشاريب  2023     12   28        3           1  \n",
       "7196        355.20   مشاريب  2023     12   29        4           1  \n",
       "7221        687.00   مشاريب  2023     12   30        5           0  \n",
       "7246        246.60   مشاريب  2023     12   31        6           0  \n",
       "\n",
       "[365 rows x 12 columns]"
      ]
     },
     "execution_count": 29,
     "metadata": {},
     "output_type": "execute_result"
    }
   ],
   "source": [
    "df_IcedTea"
   ]
  },
  {
   "cell_type": "code",
   "execution_count": 30,
   "metadata": {},
   "outputs": [
    {
     "data": {
      "text/html": [
       "<div>\n",
       "<style scoped>\n",
       "    .dataframe tbody tr th:only-of-type {\n",
       "        vertical-align: middle;\n",
       "    }\n",
       "\n",
       "    .dataframe tbody tr th {\n",
       "        vertical-align: top;\n",
       "    }\n",
       "\n",
       "    .dataframe thead th {\n",
       "        text-align: right;\n",
       "    }\n",
       "</style>\n",
       "<table border=\"1\" class=\"dataframe\">\n",
       "  <thead>\n",
       "    <tr style=\"text-align: right;\">\n",
       "      <th></th>\n",
       "      <th>Item</th>\n",
       "      <th>Quantity</th>\n",
       "      <th>Net sales</th>\n",
       "      <th>Cost of goods</th>\n",
       "      <th>Gross profit</th>\n",
       "      <th>Category</th>\n",
       "    </tr>\n",
       "    <tr>\n",
       "      <th>Date</th>\n",
       "      <th></th>\n",
       "      <th></th>\n",
       "      <th></th>\n",
       "      <th></th>\n",
       "      <th></th>\n",
       "      <th></th>\n",
       "    </tr>\n",
       "  </thead>\n",
       "  <tbody>\n",
       "    <tr>\n",
       "      <th>2023-01-01</th>\n",
       "      <td>اكلير</td>\n",
       "      <td>13.0</td>\n",
       "      <td>156.0</td>\n",
       "      <td>58.50</td>\n",
       "      <td>97.50</td>\n",
       "      <td>حلا</td>\n",
       "    </tr>\n",
       "    <tr>\n",
       "      <th>2023-01-01</th>\n",
       "      <td>بن اثيوبي 150 قرام</td>\n",
       "      <td>1.0</td>\n",
       "      <td>60.0</td>\n",
       "      <td>40.00</td>\n",
       "      <td>20.00</td>\n",
       "      <td>بن</td>\n",
       "    </tr>\n",
       "    <tr>\n",
       "      <th>2023-01-01</th>\n",
       "      <td>شاي مثلج - توت ورمان</td>\n",
       "      <td>41.0</td>\n",
       "      <td>609.0</td>\n",
       "      <td>143.50</td>\n",
       "      <td>465.50</td>\n",
       "      <td>مشاريب</td>\n",
       "    </tr>\n",
       "    <tr>\n",
       "      <th>2023-01-01</th>\n",
       "      <td>شوكولاته مقرمشه</td>\n",
       "      <td>5.0</td>\n",
       "      <td>58.2</td>\n",
       "      <td>17.50</td>\n",
       "      <td>40.70</td>\n",
       "      <td>حلا</td>\n",
       "    </tr>\n",
       "    <tr>\n",
       "      <th>2023-01-01</th>\n",
       "      <td>قهوة اليوم (بارد) (صغير)</td>\n",
       "      <td>5.0</td>\n",
       "      <td>45.0</td>\n",
       "      <td>13.00</td>\n",
       "      <td>32.00</td>\n",
       "      <td>قهوة</td>\n",
       "    </tr>\n",
       "    <tr>\n",
       "      <th>...</th>\n",
       "      <td>...</td>\n",
       "      <td>...</td>\n",
       "      <td>...</td>\n",
       "      <td>...</td>\n",
       "      <td>...</td>\n",
       "      <td>...</td>\n",
       "    </tr>\n",
       "    <tr>\n",
       "      <th>2023-12-31</th>\n",
       "      <td>كورتادو</td>\n",
       "      <td>2.0</td>\n",
       "      <td>30.0</td>\n",
       "      <td>8.26</td>\n",
       "      <td>21.74</td>\n",
       "      <td>قهوة</td>\n",
       "    </tr>\n",
       "    <tr>\n",
       "      <th>2023-12-31</th>\n",
       "      <td>كولد برو</td>\n",
       "      <td>6.0</td>\n",
       "      <td>120.0</td>\n",
       "      <td>36.84</td>\n",
       "      <td>83.16</td>\n",
       "      <td>مشاريب</td>\n",
       "    </tr>\n",
       "    <tr>\n",
       "      <th>2023-12-31</th>\n",
       "      <td>لاتيه</td>\n",
       "      <td>3.0</td>\n",
       "      <td>45.0</td>\n",
       "      <td>12.99</td>\n",
       "      <td>32.01</td>\n",
       "      <td>قهوة</td>\n",
       "    </tr>\n",
       "    <tr>\n",
       "      <th>2023-12-31</th>\n",
       "      <td>ماء</td>\n",
       "      <td>21.0</td>\n",
       "      <td>21.0</td>\n",
       "      <td>7.98</td>\n",
       "      <td>13.02</td>\n",
       "      <td>اخرى</td>\n",
       "    </tr>\n",
       "    <tr>\n",
       "      <th>2023-12-31</th>\n",
       "      <td>هوت شوكليت</td>\n",
       "      <td>16.0</td>\n",
       "      <td>240.0</td>\n",
       "      <td>64.00</td>\n",
       "      <td>176.00</td>\n",
       "      <td>منتجات شتوية</td>\n",
       "    </tr>\n",
       "  </tbody>\n",
       "</table>\n",
       "<p>7262 rows × 6 columns</p>\n",
       "</div>"
      ],
      "text/plain": [
       "                                Item  Quantity  Net sales  Cost of goods  \\\n",
       "Date                                                                       \n",
       "2023-01-01                     اكلير      13.0      156.0          58.50   \n",
       "2023-01-01        بن اثيوبي 150 قرام       1.0       60.0          40.00   \n",
       "2023-01-01      شاي مثلج - توت ورمان      41.0      609.0         143.50   \n",
       "2023-01-01           شوكولاته مقرمشه       5.0       58.2          17.50   \n",
       "2023-01-01  قهوة اليوم (بارد) (صغير)       5.0       45.0          13.00   \n",
       "...                              ...       ...        ...            ...   \n",
       "2023-12-31                   كورتادو       2.0       30.0           8.26   \n",
       "2023-12-31                  كولد برو       6.0      120.0          36.84   \n",
       "2023-12-31                     لاتيه       3.0       45.0          12.99   \n",
       "2023-12-31                       ماء      21.0       21.0           7.98   \n",
       "2023-12-31                هوت شوكليت      16.0      240.0          64.00   \n",
       "\n",
       "            Gross profit      Category  \n",
       "Date                                    \n",
       "2023-01-01         97.50           حلا  \n",
       "2023-01-01         20.00            بن  \n",
       "2023-01-01        465.50        مشاريب  \n",
       "2023-01-01         40.70           حلا  \n",
       "2023-01-01         32.00          قهوة  \n",
       "...                  ...           ...  \n",
       "2023-12-31         21.74          قهوة  \n",
       "2023-12-31         83.16        مشاريب  \n",
       "2023-12-31         32.01          قهوة  \n",
       "2023-12-31         13.02          اخرى  \n",
       "2023-12-31        176.00  منتجات شتوية  \n",
       "\n",
       "[7262 rows x 6 columns]"
      ]
     },
     "execution_count": 30,
     "metadata": {},
     "output_type": "execute_result"
    }
   ],
   "source": [
    "# Display the resulting DataFrame\n",
    "daily_sales"
   ]
  },
  {
   "cell_type": "code",
   "execution_count": null,
   "metadata": {},
   "outputs": [],
   "source": []
  },
  {
   "cell_type": "markdown",
   "metadata": {},
   "source": [
    "# 5- Data Analysis"
   ]
  },
  {
   "cell_type": "code",
   "execution_count": 31,
   "metadata": {},
   "outputs": [
    {
     "data": {
      "text/html": [
       "<div>\n",
       "<style scoped>\n",
       "    .dataframe tbody tr th:only-of-type {\n",
       "        vertical-align: middle;\n",
       "    }\n",
       "\n",
       "    .dataframe tbody tr th {\n",
       "        vertical-align: top;\n",
       "    }\n",
       "\n",
       "    .dataframe thead th {\n",
       "        text-align: right;\n",
       "    }\n",
       "</style>\n",
       "<table border=\"1\" class=\"dataframe\">\n",
       "  <thead>\n",
       "    <tr style=\"text-align: right;\">\n",
       "      <th></th>\n",
       "      <th>Date</th>\n",
       "      <th>Item</th>\n",
       "      <th>Quantity</th>\n",
       "      <th>Net sales</th>\n",
       "      <th>Cost of goods</th>\n",
       "      <th>Gross profit</th>\n",
       "      <th>Category</th>\n",
       "      <th>Year</th>\n",
       "      <th>Month</th>\n",
       "      <th>Day</th>\n",
       "      <th>WeekDay</th>\n",
       "      <th>Is_Weekend</th>\n",
       "    </tr>\n",
       "  </thead>\n",
       "  <tbody>\n",
       "    <tr>\n",
       "      <th>2</th>\n",
       "      <td>2023-01-01</td>\n",
       "      <td>شاي مثلج - توت ورمان</td>\n",
       "      <td>41.0</td>\n",
       "      <td>609.00</td>\n",
       "      <td>143.5</td>\n",
       "      <td>465.50</td>\n",
       "      <td>مشاريب</td>\n",
       "      <td>2023</td>\n",
       "      <td>1</td>\n",
       "      <td>1</td>\n",
       "      <td>6</td>\n",
       "      <td>0</td>\n",
       "    </tr>\n",
       "    <tr>\n",
       "      <th>12</th>\n",
       "      <td>2023-01-02</td>\n",
       "      <td>شاي مثلج - توت ورمان</td>\n",
       "      <td>33.0</td>\n",
       "      <td>492.75</td>\n",
       "      <td>115.5</td>\n",
       "      <td>377.25</td>\n",
       "      <td>مشاريب</td>\n",
       "      <td>2023</td>\n",
       "      <td>1</td>\n",
       "      <td>2</td>\n",
       "      <td>0</td>\n",
       "      <td>0</td>\n",
       "    </tr>\n",
       "    <tr>\n",
       "      <th>23</th>\n",
       "      <td>2023-01-03</td>\n",
       "      <td>شاي مثلج - توت ورمان</td>\n",
       "      <td>17.0</td>\n",
       "      <td>248.25</td>\n",
       "      <td>59.5</td>\n",
       "      <td>188.75</td>\n",
       "      <td>مشاريب</td>\n",
       "      <td>2023</td>\n",
       "      <td>1</td>\n",
       "      <td>3</td>\n",
       "      <td>1</td>\n",
       "      <td>0</td>\n",
       "    </tr>\n",
       "    <tr>\n",
       "      <th>33</th>\n",
       "      <td>2023-01-04</td>\n",
       "      <td>شاي مثلج - توت ورمان</td>\n",
       "      <td>25.0</td>\n",
       "      <td>372.00</td>\n",
       "      <td>87.5</td>\n",
       "      <td>284.50</td>\n",
       "      <td>مشاريب</td>\n",
       "      <td>2023</td>\n",
       "      <td>1</td>\n",
       "      <td>4</td>\n",
       "      <td>2</td>\n",
       "      <td>0</td>\n",
       "    </tr>\n",
       "    <tr>\n",
       "      <th>43</th>\n",
       "      <td>2023-01-05</td>\n",
       "      <td>شاي مثلج - توت ورمان</td>\n",
       "      <td>26.0</td>\n",
       "      <td>382.50</td>\n",
       "      <td>91.0</td>\n",
       "      <td>291.50</td>\n",
       "      <td>مشاريب</td>\n",
       "      <td>2023</td>\n",
       "      <td>1</td>\n",
       "      <td>5</td>\n",
       "      <td>3</td>\n",
       "      <td>1</td>\n",
       "    </tr>\n",
       "    <tr>\n",
       "      <th>...</th>\n",
       "      <td>...</td>\n",
       "      <td>...</td>\n",
       "      <td>...</td>\n",
       "      <td>...</td>\n",
       "      <td>...</td>\n",
       "      <td>...</td>\n",
       "      <td>...</td>\n",
       "      <td>...</td>\n",
       "      <td>...</td>\n",
       "      <td>...</td>\n",
       "      <td>...</td>\n",
       "      <td>...</td>\n",
       "    </tr>\n",
       "    <tr>\n",
       "      <th>7147</th>\n",
       "      <td>2023-12-27</td>\n",
       "      <td>شاي مثلج - توت ورمان</td>\n",
       "      <td>38.0</td>\n",
       "      <td>570.00</td>\n",
       "      <td>125.4</td>\n",
       "      <td>444.60</td>\n",
       "      <td>مشاريب</td>\n",
       "      <td>2023</td>\n",
       "      <td>12</td>\n",
       "      <td>27</td>\n",
       "      <td>2</td>\n",
       "      <td>0</td>\n",
       "    </tr>\n",
       "    <tr>\n",
       "      <th>7174</th>\n",
       "      <td>2023-12-28</td>\n",
       "      <td>شاي مثلج - توت ورمان</td>\n",
       "      <td>60.0</td>\n",
       "      <td>900.00</td>\n",
       "      <td>198.0</td>\n",
       "      <td>702.00</td>\n",
       "      <td>مشاريب</td>\n",
       "      <td>2023</td>\n",
       "      <td>12</td>\n",
       "      <td>28</td>\n",
       "      <td>3</td>\n",
       "      <td>1</td>\n",
       "    </tr>\n",
       "    <tr>\n",
       "      <th>7196</th>\n",
       "      <td>2023-12-29</td>\n",
       "      <td>شاي مثلج - توت ورمان</td>\n",
       "      <td>31.0</td>\n",
       "      <td>457.50</td>\n",
       "      <td>102.3</td>\n",
       "      <td>355.20</td>\n",
       "      <td>مشاريب</td>\n",
       "      <td>2023</td>\n",
       "      <td>12</td>\n",
       "      <td>29</td>\n",
       "      <td>4</td>\n",
       "      <td>1</td>\n",
       "    </tr>\n",
       "    <tr>\n",
       "      <th>7221</th>\n",
       "      <td>2023-12-30</td>\n",
       "      <td>شاي مثلج - توت ورمان</td>\n",
       "      <td>60.0</td>\n",
       "      <td>885.00</td>\n",
       "      <td>198.0</td>\n",
       "      <td>687.00</td>\n",
       "      <td>مشاريب</td>\n",
       "      <td>2023</td>\n",
       "      <td>12</td>\n",
       "      <td>30</td>\n",
       "      <td>5</td>\n",
       "      <td>0</td>\n",
       "    </tr>\n",
       "    <tr>\n",
       "      <th>7246</th>\n",
       "      <td>2023-12-31</td>\n",
       "      <td>شاي مثلج - توت ورمان</td>\n",
       "      <td>23.0</td>\n",
       "      <td>322.50</td>\n",
       "      <td>75.9</td>\n",
       "      <td>246.60</td>\n",
       "      <td>مشاريب</td>\n",
       "      <td>2023</td>\n",
       "      <td>12</td>\n",
       "      <td>31</td>\n",
       "      <td>6</td>\n",
       "      <td>0</td>\n",
       "    </tr>\n",
       "  </tbody>\n",
       "</table>\n",
       "<p>365 rows × 12 columns</p>\n",
       "</div>"
      ],
      "text/plain": [
       "           Date                  Item  Quantity  Net sales  Cost of goods  \\\n",
       "2    2023-01-01  شاي مثلج - توت ورمان      41.0     609.00          143.5   \n",
       "12   2023-01-02  شاي مثلج - توت ورمان      33.0     492.75          115.5   \n",
       "23   2023-01-03  شاي مثلج - توت ورمان      17.0     248.25           59.5   \n",
       "33   2023-01-04  شاي مثلج - توت ورمان      25.0     372.00           87.5   \n",
       "43   2023-01-05  شاي مثلج - توت ورمان      26.0     382.50           91.0   \n",
       "...         ...                   ...       ...        ...            ...   \n",
       "7147 2023-12-27  شاي مثلج - توت ورمان      38.0     570.00          125.4   \n",
       "7174 2023-12-28  شاي مثلج - توت ورمان      60.0     900.00          198.0   \n",
       "7196 2023-12-29  شاي مثلج - توت ورمان      31.0     457.50          102.3   \n",
       "7221 2023-12-30  شاي مثلج - توت ورمان      60.0     885.00          198.0   \n",
       "7246 2023-12-31  شاي مثلج - توت ورمان      23.0     322.50           75.9   \n",
       "\n",
       "      Gross profit Category  Year  Month  Day  WeekDay  Is_Weekend  \n",
       "2           465.50   مشاريب  2023      1    1        6           0  \n",
       "12          377.25   مشاريب  2023      1    2        0           0  \n",
       "23          188.75   مشاريب  2023      1    3        1           0  \n",
       "33          284.50   مشاريب  2023      1    4        2           0  \n",
       "43          291.50   مشاريب  2023      1    5        3           1  \n",
       "...            ...      ...   ...    ...  ...      ...         ...  \n",
       "7147        444.60   مشاريب  2023     12   27        2           0  \n",
       "7174        702.00   مشاريب  2023     12   28        3           1  \n",
       "7196        355.20   مشاريب  2023     12   29        4           1  \n",
       "7221        687.00   مشاريب  2023     12   30        5           0  \n",
       "7246        246.60   مشاريب  2023     12   31        6           0  \n",
       "\n",
       "[365 rows x 12 columns]"
      ]
     },
     "execution_count": 31,
     "metadata": {},
     "output_type": "execute_result"
    }
   ],
   "source": [
    "df_IcedTea"
   ]
  },
  {
   "cell_type": "code",
   "execution_count": 32,
   "metadata": {},
   "outputs": [
    {
     "data": {
      "application/vnd.plotly.v1+json": {
       "config": {
        "plotlyServerURL": "https://plot.ly"
       },
       "data": [
        {
         "hovertemplate": "Date=%{x}<br>Net sales=%{y}<extra></extra>",
         "legendgroup": "",
         "line": {
          "color": "#636efa",
          "dash": "solid"
         },
         "marker": {
          "symbol": "circle"
         },
         "mode": "lines",
         "name": "",
         "orientation": "v",
         "showlegend": false,
         "type": "scatter",
         "x": [
          "2023-01-01T00:00:00",
          "2023-01-02T00:00:00",
          "2023-01-03T00:00:00",
          "2023-01-04T00:00:00",
          "2023-01-05T00:00:00",
          "2023-01-06T00:00:00",
          "2023-01-07T00:00:00",
          "2023-01-08T00:00:00",
          "2023-01-09T00:00:00",
          "2023-01-10T00:00:00",
          "2023-01-11T00:00:00",
          "2023-01-12T00:00:00",
          "2023-01-13T00:00:00",
          "2023-01-14T00:00:00",
          "2023-01-15T00:00:00",
          "2023-01-16T00:00:00",
          "2023-01-17T00:00:00",
          "2023-01-18T00:00:00",
          "2023-01-19T00:00:00",
          "2023-01-20T00:00:00",
          "2023-01-21T00:00:00",
          "2023-01-22T00:00:00",
          "2023-01-23T00:00:00",
          "2023-01-24T00:00:00",
          "2023-01-25T00:00:00",
          "2023-01-26T00:00:00",
          "2023-01-27T00:00:00",
          "2023-01-28T00:00:00",
          "2023-01-29T00:00:00",
          "2023-01-30T00:00:00",
          "2023-01-31T00:00:00",
          "2023-02-01T00:00:00",
          "2023-02-02T00:00:00",
          "2023-02-03T00:00:00",
          "2023-02-04T00:00:00",
          "2023-02-05T00:00:00",
          "2023-02-06T00:00:00",
          "2023-02-07T00:00:00",
          "2023-02-08T00:00:00",
          "2023-02-09T00:00:00",
          "2023-02-10T00:00:00",
          "2023-02-11T00:00:00",
          "2023-02-12T00:00:00",
          "2023-02-13T00:00:00",
          "2023-02-14T00:00:00",
          "2023-02-15T00:00:00",
          "2023-02-16T00:00:00",
          "2023-02-17T00:00:00",
          "2023-02-18T00:00:00",
          "2023-02-19T00:00:00",
          "2023-02-20T00:00:00",
          "2023-02-21T00:00:00",
          "2023-02-22T00:00:00",
          "2023-02-23T00:00:00",
          "2023-02-24T00:00:00",
          "2023-02-25T00:00:00",
          "2023-02-26T00:00:00",
          "2023-02-27T00:00:00",
          "2023-02-28T00:00:00",
          "2023-03-01T00:00:00",
          "2023-03-02T00:00:00",
          "2023-03-03T00:00:00",
          "2023-03-04T00:00:00",
          "2023-03-05T00:00:00",
          "2023-03-06T00:00:00",
          "2023-03-07T00:00:00",
          "2023-03-08T00:00:00",
          "2023-03-09T00:00:00",
          "2023-03-10T00:00:00",
          "2023-03-11T00:00:00",
          "2023-03-12T00:00:00",
          "2023-03-13T00:00:00",
          "2023-03-14T00:00:00",
          "2023-03-15T00:00:00",
          "2023-03-16T00:00:00",
          "2023-03-17T00:00:00",
          "2023-03-18T00:00:00",
          "2023-03-19T00:00:00",
          "2023-03-20T00:00:00",
          "2023-03-21T00:00:00",
          "2023-03-22T00:00:00",
          "2023-03-23T00:00:00",
          "2023-03-24T00:00:00",
          "2023-03-25T00:00:00",
          "2023-03-26T00:00:00",
          "2023-03-27T00:00:00",
          "2023-03-28T00:00:00",
          "2023-03-29T00:00:00",
          "2023-03-30T00:00:00",
          "2023-03-31T00:00:00",
          "2023-04-01T00:00:00",
          "2023-04-02T00:00:00",
          "2023-04-03T00:00:00",
          "2023-04-04T00:00:00",
          "2023-04-05T00:00:00",
          "2023-04-06T00:00:00",
          "2023-04-07T00:00:00",
          "2023-04-08T00:00:00",
          "2023-04-09T00:00:00",
          "2023-04-10T00:00:00",
          "2023-04-11T00:00:00",
          "2023-04-12T00:00:00",
          "2023-04-13T00:00:00",
          "2023-04-14T00:00:00",
          "2023-04-15T00:00:00",
          "2023-04-16T00:00:00",
          "2023-04-17T00:00:00",
          "2023-04-18T00:00:00",
          "2023-04-19T00:00:00",
          "2023-04-20T00:00:00",
          "2023-04-21T00:00:00",
          "2023-04-22T00:00:00",
          "2023-04-23T00:00:00",
          "2023-04-24T00:00:00",
          "2023-04-25T00:00:00",
          "2023-04-26T00:00:00",
          "2023-04-27T00:00:00",
          "2023-04-28T00:00:00",
          "2023-04-29T00:00:00",
          "2023-04-30T00:00:00",
          "2023-05-01T00:00:00",
          "2023-05-02T00:00:00",
          "2023-05-03T00:00:00",
          "2023-05-04T00:00:00",
          "2023-05-05T00:00:00",
          "2023-05-06T00:00:00",
          "2023-05-07T00:00:00",
          "2023-05-08T00:00:00",
          "2023-05-09T00:00:00",
          "2023-05-10T00:00:00",
          "2023-05-11T00:00:00",
          "2023-05-12T00:00:00",
          "2023-05-13T00:00:00",
          "2023-05-14T00:00:00",
          "2023-05-15T00:00:00",
          "2023-05-16T00:00:00",
          "2023-05-17T00:00:00",
          "2023-05-18T00:00:00",
          "2023-05-19T00:00:00",
          "2023-05-20T00:00:00",
          "2023-05-21T00:00:00",
          "2023-05-22T00:00:00",
          "2023-05-23T00:00:00",
          "2023-05-24T00:00:00",
          "2023-05-25T00:00:00",
          "2023-05-26T00:00:00",
          "2023-05-27T00:00:00",
          "2023-05-28T00:00:00",
          "2023-05-29T00:00:00",
          "2023-05-30T00:00:00",
          "2023-05-31T00:00:00",
          "2023-06-01T00:00:00",
          "2023-06-02T00:00:00",
          "2023-06-03T00:00:00",
          "2023-06-04T00:00:00",
          "2023-06-05T00:00:00",
          "2023-06-06T00:00:00",
          "2023-06-07T00:00:00",
          "2023-06-08T00:00:00",
          "2023-06-09T00:00:00",
          "2023-06-10T00:00:00",
          "2023-06-11T00:00:00",
          "2023-06-12T00:00:00",
          "2023-06-13T00:00:00",
          "2023-06-14T00:00:00",
          "2023-06-15T00:00:00",
          "2023-06-16T00:00:00",
          "2023-06-17T00:00:00",
          "2023-06-18T00:00:00",
          "2023-06-19T00:00:00",
          "2023-06-20T00:00:00",
          "2023-06-21T00:00:00",
          "2023-06-22T00:00:00",
          "2023-06-23T00:00:00",
          "2023-06-24T00:00:00",
          "2023-06-25T00:00:00",
          "2023-06-26T00:00:00",
          "2023-06-27T00:00:00",
          "2023-06-28T00:00:00",
          "2023-06-29T00:00:00",
          "2023-06-30T00:00:00",
          "2023-07-01T00:00:00",
          "2023-07-02T00:00:00",
          "2023-07-03T00:00:00",
          "2023-07-04T00:00:00",
          "2023-07-05T00:00:00",
          "2023-07-06T00:00:00",
          "2023-07-07T00:00:00",
          "2023-07-08T00:00:00",
          "2023-07-09T00:00:00",
          "2023-07-10T00:00:00",
          "2023-07-11T00:00:00",
          "2023-07-12T00:00:00",
          "2023-07-13T00:00:00",
          "2023-07-14T00:00:00",
          "2023-07-15T00:00:00",
          "2023-07-16T00:00:00",
          "2023-07-17T00:00:00",
          "2023-07-18T00:00:00",
          "2023-07-19T00:00:00",
          "2023-07-20T00:00:00",
          "2023-07-21T00:00:00",
          "2023-07-22T00:00:00",
          "2023-07-23T00:00:00",
          "2023-07-24T00:00:00",
          "2023-07-25T00:00:00",
          "2023-07-26T00:00:00",
          "2023-07-27T00:00:00",
          "2023-07-28T00:00:00",
          "2023-07-29T00:00:00",
          "2023-07-30T00:00:00",
          "2023-07-31T00:00:00",
          "2023-08-01T00:00:00",
          "2023-08-02T00:00:00",
          "2023-08-03T00:00:00",
          "2023-08-04T00:00:00",
          "2023-08-05T00:00:00",
          "2023-08-06T00:00:00",
          "2023-08-07T00:00:00",
          "2023-08-08T00:00:00",
          "2023-08-09T00:00:00",
          "2023-08-10T00:00:00",
          "2023-08-11T00:00:00",
          "2023-08-12T00:00:00",
          "2023-08-13T00:00:00",
          "2023-08-14T00:00:00",
          "2023-08-15T00:00:00",
          "2023-08-16T00:00:00",
          "2023-08-17T00:00:00",
          "2023-08-18T00:00:00",
          "2023-08-19T00:00:00",
          "2023-08-20T00:00:00",
          "2023-08-21T00:00:00",
          "2023-08-22T00:00:00",
          "2023-08-23T00:00:00",
          "2023-08-24T00:00:00",
          "2023-08-25T00:00:00",
          "2023-08-26T00:00:00",
          "2023-08-27T00:00:00",
          "2023-08-28T00:00:00",
          "2023-08-29T00:00:00",
          "2023-08-30T00:00:00",
          "2023-08-31T00:00:00",
          "2023-09-01T00:00:00",
          "2023-09-02T00:00:00",
          "2023-09-03T00:00:00",
          "2023-09-04T00:00:00",
          "2023-09-05T00:00:00",
          "2023-09-06T00:00:00",
          "2023-09-07T00:00:00",
          "2023-09-08T00:00:00",
          "2023-09-09T00:00:00",
          "2023-09-10T00:00:00",
          "2023-09-11T00:00:00",
          "2023-09-12T00:00:00",
          "2023-09-13T00:00:00",
          "2023-09-14T00:00:00",
          "2023-09-15T00:00:00",
          "2023-09-16T00:00:00",
          "2023-09-17T00:00:00",
          "2023-09-18T00:00:00",
          "2023-09-19T00:00:00",
          "2023-09-20T00:00:00",
          "2023-09-21T00:00:00",
          "2023-09-22T00:00:00",
          "2023-09-23T00:00:00",
          "2023-09-24T00:00:00",
          "2023-09-25T00:00:00",
          "2023-09-26T00:00:00",
          "2023-09-27T00:00:00",
          "2023-09-28T00:00:00",
          "2023-09-29T00:00:00",
          "2023-09-30T00:00:00",
          "2023-10-01T00:00:00",
          "2023-10-02T00:00:00",
          "2023-10-03T00:00:00",
          "2023-10-04T00:00:00",
          "2023-10-05T00:00:00",
          "2023-10-06T00:00:00",
          "2023-10-07T00:00:00",
          "2023-10-08T00:00:00",
          "2023-10-09T00:00:00",
          "2023-10-10T00:00:00",
          "2023-10-11T00:00:00",
          "2023-10-12T00:00:00",
          "2023-10-13T00:00:00",
          "2023-10-14T00:00:00",
          "2023-10-15T00:00:00",
          "2023-10-16T00:00:00",
          "2023-10-17T00:00:00",
          "2023-10-18T00:00:00",
          "2023-10-19T00:00:00",
          "2023-10-20T00:00:00",
          "2023-10-21T00:00:00",
          "2023-10-22T00:00:00",
          "2023-10-23T00:00:00",
          "2023-10-24T00:00:00",
          "2023-10-25T00:00:00",
          "2023-10-26T00:00:00",
          "2023-10-27T00:00:00",
          "2023-10-28T00:00:00",
          "2023-10-29T00:00:00",
          "2023-10-30T00:00:00",
          "2023-10-31T00:00:00",
          "2023-11-01T00:00:00",
          "2023-11-02T00:00:00",
          "2023-11-03T00:00:00",
          "2023-11-04T00:00:00",
          "2023-11-05T00:00:00",
          "2023-11-06T00:00:00",
          "2023-11-07T00:00:00",
          "2023-11-08T00:00:00",
          "2023-11-09T00:00:00",
          "2023-11-10T00:00:00",
          "2023-11-11T00:00:00",
          "2023-11-12T00:00:00",
          "2023-11-13T00:00:00",
          "2023-11-14T00:00:00",
          "2023-11-15T00:00:00",
          "2023-11-16T00:00:00",
          "2023-11-17T00:00:00",
          "2023-11-18T00:00:00",
          "2023-11-19T00:00:00",
          "2023-11-20T00:00:00",
          "2023-11-21T00:00:00",
          "2023-11-22T00:00:00",
          "2023-11-23T00:00:00",
          "2023-11-24T00:00:00",
          "2023-11-25T00:00:00",
          "2023-11-26T00:00:00",
          "2023-11-27T00:00:00",
          "2023-11-28T00:00:00",
          "2023-11-29T00:00:00",
          "2023-11-30T00:00:00",
          "2023-12-01T00:00:00",
          "2023-12-02T00:00:00",
          "2023-12-03T00:00:00",
          "2023-12-04T00:00:00",
          "2023-12-05T00:00:00",
          "2023-12-06T00:00:00",
          "2023-12-07T00:00:00",
          "2023-12-08T00:00:00",
          "2023-12-09T00:00:00",
          "2023-12-10T00:00:00",
          "2023-12-11T00:00:00",
          "2023-12-12T00:00:00",
          "2023-12-13T00:00:00",
          "2023-12-14T00:00:00",
          "2023-12-15T00:00:00",
          "2023-12-16T00:00:00",
          "2023-12-17T00:00:00",
          "2023-12-18T00:00:00",
          "2023-12-19T00:00:00",
          "2023-12-20T00:00:00",
          "2023-12-21T00:00:00",
          "2023-12-22T00:00:00",
          "2023-12-23T00:00:00",
          "2023-12-24T00:00:00",
          "2023-12-25T00:00:00",
          "2023-12-26T00:00:00",
          "2023-12-27T00:00:00",
          "2023-12-28T00:00:00",
          "2023-12-29T00:00:00",
          "2023-12-30T00:00:00",
          "2023-12-31T00:00:00"
         ],
         "xaxis": "x",
         "y": [
          609,
          492.75,
          248.25,
          372,
          382.5,
          413.25,
          670.84,
          430.5,
          177.75,
          435,
          330,
          577.5,
          700.5,
          828,
          562.5,
          330,
          255,
          270,
          315,
          663.75,
          563.25,
          352.5,
          217.5,
          427.5,
          417.75,
          777.75,
          847.5,
          938.25,
          420,
          360,
          447.75,
          396,
          450,
          585,
          616.5,
          315,
          277.5,
          528.75,
          338.25,
          561,
          753.75,
          583.5,
          617.25,
          591.75,
          838.5,
          360.75,
          447.75,
          1005,
          702,
          321,
          295.5,
          573,
          666,
          506.25,
          373.5,
          660,
          315,
          667.5,
          765,
          532.5,
          765.75,
          1011,
          813.75,
          818.25,
          693,
          990,
          565.5,
          541.5,
          760.5,
          575.25,
          593.25,
          477.75,
          723.75,
          505.5,
          495,
          355.5,
          516,
          389.25,
          275.25,
          533.25,
          888,
          465,
          570.75,
          630,
          446.25,
          390,
          641.25,
          193.5,
          555,
          1125,
          900,
          750,
          705,
          825,
          990,
          945,
          705,
          1125,
          660,
          900,
          555,
          975,
          720,
          900,
          1050,
          840,
          855,
          660,
          975,
          480,
          900,
          1470,
          982.5,
          1402.5,
          1635,
          1155,
          855,
          1252.5,
          967.5,
          720,
          1110,
          832.5,
          840,
          982.5,
          1537.5,
          1087.5,
          1095,
          765,
          600,
          690,
          990,
          1140,
          1845,
          1035,
          1080,
          825,
          855,
          1020,
          1740,
          1605,
          1050,
          1185,
          1320,
          1875,
          2385,
          1800,
          1890,
          1275,
          1890,
          1035,
          1185,
          1035,
          1695,
          1350,
          1560,
          1290,
          1605,
          1110,
          1170,
          1380,
          1305,
          1080,
          1170,
          1200,
          1350,
          1320,
          1020,
          1335,
          915,
          1095,
          1185,
          1425,
          1410,
          1695,
          1395,
          1395,
          1665,
          1215,
          1455,
          1740,
          1470,
          1350,
          1005,
          1605,
          1320,
          1215,
          1350,
          1410,
          1050,
          1425,
          1200,
          1260,
          1020,
          1305,
          1425,
          1230,
          1080,
          1140,
          1260,
          945,
          945,
          930,
          1365,
          1020,
          1140,
          945,
          1065,
          1110,
          990,
          1380,
          1065,
          930,
          825,
          1005,
          1110,
          930,
          1185,
          885,
          825,
          1110,
          1005,
          1170,
          975,
          1095,
          990,
          1245,
          975,
          1500,
          1320,
          1290,
          1335,
          1200,
          1005,
          1035,
          975,
          1455,
          1395,
          1245,
          945,
          1095,
          960,
          1155,
          900,
          1050,
          1905,
          690,
          945,
          1185,
          1155,
          930,
          1395,
          1170,
          600,
          750,
          1005,
          810,
          885,
          1185,
          810,
          840,
          765,
          930,
          630,
          1530,
          1050,
          1447.5,
          1147.5,
          1065,
          1155,
          1185,
          1125,
          1230,
          1260,
          1185,
          945,
          885,
          1095,
          1050,
          1080,
          1095,
          795,
          690,
          840,
          930,
          1185,
          930,
          930,
          705,
          1020,
          795,
          690,
          654,
          861,
          930,
          660,
          585,
          795,
          645,
          1215,
          1185,
          1380,
          720,
          465,
          570,
          855,
          1200,
          1035,
          735,
          555,
          825,
          720,
          885,
          832.5,
          1290,
          630,
          487.5,
          735,
          390,
          637.5,
          360,
          615,
          705,
          765,
          397.5,
          487.5,
          900,
          560,
          742.5,
          645,
          495,
          975,
          420,
          450,
          562.5,
          667.5,
          682.5,
          517.5,
          615,
          510,
          532.5,
          907.5,
          1020,
          817.5,
          547.5,
          817.5,
          780,
          465,
          480,
          525,
          397.5,
          435,
          225,
          330,
          420,
          270,
          705,
          375,
          360,
          555,
          667.5,
          570,
          900,
          457.5,
          885,
          322.5
         ],
         "yaxis": "y"
        }
       ],
       "layout": {
        "legend": {
         "tracegroupgap": 0
        },
        "template": {
         "data": {
          "bar": [
           {
            "error_x": {
             "color": "#2a3f5f"
            },
            "error_y": {
             "color": "#2a3f5f"
            },
            "marker": {
             "line": {
              "color": "#E5ECF6",
              "width": 0.5
             },
             "pattern": {
              "fillmode": "overlay",
              "size": 10,
              "solidity": 0.2
             }
            },
            "type": "bar"
           }
          ],
          "barpolar": [
           {
            "marker": {
             "line": {
              "color": "#E5ECF6",
              "width": 0.5
             },
             "pattern": {
              "fillmode": "overlay",
              "size": 10,
              "solidity": 0.2
             }
            },
            "type": "barpolar"
           }
          ],
          "carpet": [
           {
            "aaxis": {
             "endlinecolor": "#2a3f5f",
             "gridcolor": "white",
             "linecolor": "white",
             "minorgridcolor": "white",
             "startlinecolor": "#2a3f5f"
            },
            "baxis": {
             "endlinecolor": "#2a3f5f",
             "gridcolor": "white",
             "linecolor": "white",
             "minorgridcolor": "white",
             "startlinecolor": "#2a3f5f"
            },
            "type": "carpet"
           }
          ],
          "choropleth": [
           {
            "colorbar": {
             "outlinewidth": 0,
             "ticks": ""
            },
            "type": "choropleth"
           }
          ],
          "contour": [
           {
            "colorbar": {
             "outlinewidth": 0,
             "ticks": ""
            },
            "colorscale": [
             [
              0,
              "#0d0887"
             ],
             [
              0.1111111111111111,
              "#46039f"
             ],
             [
              0.2222222222222222,
              "#7201a8"
             ],
             [
              0.3333333333333333,
              "#9c179e"
             ],
             [
              0.4444444444444444,
              "#bd3786"
             ],
             [
              0.5555555555555556,
              "#d8576b"
             ],
             [
              0.6666666666666666,
              "#ed7953"
             ],
             [
              0.7777777777777778,
              "#fb9f3a"
             ],
             [
              0.8888888888888888,
              "#fdca26"
             ],
             [
              1,
              "#f0f921"
             ]
            ],
            "type": "contour"
           }
          ],
          "contourcarpet": [
           {
            "colorbar": {
             "outlinewidth": 0,
             "ticks": ""
            },
            "type": "contourcarpet"
           }
          ],
          "heatmap": [
           {
            "colorbar": {
             "outlinewidth": 0,
             "ticks": ""
            },
            "colorscale": [
             [
              0,
              "#0d0887"
             ],
             [
              0.1111111111111111,
              "#46039f"
             ],
             [
              0.2222222222222222,
              "#7201a8"
             ],
             [
              0.3333333333333333,
              "#9c179e"
             ],
             [
              0.4444444444444444,
              "#bd3786"
             ],
             [
              0.5555555555555556,
              "#d8576b"
             ],
             [
              0.6666666666666666,
              "#ed7953"
             ],
             [
              0.7777777777777778,
              "#fb9f3a"
             ],
             [
              0.8888888888888888,
              "#fdca26"
             ],
             [
              1,
              "#f0f921"
             ]
            ],
            "type": "heatmap"
           }
          ],
          "heatmapgl": [
           {
            "colorbar": {
             "outlinewidth": 0,
             "ticks": ""
            },
            "colorscale": [
             [
              0,
              "#0d0887"
             ],
             [
              0.1111111111111111,
              "#46039f"
             ],
             [
              0.2222222222222222,
              "#7201a8"
             ],
             [
              0.3333333333333333,
              "#9c179e"
             ],
             [
              0.4444444444444444,
              "#bd3786"
             ],
             [
              0.5555555555555556,
              "#d8576b"
             ],
             [
              0.6666666666666666,
              "#ed7953"
             ],
             [
              0.7777777777777778,
              "#fb9f3a"
             ],
             [
              0.8888888888888888,
              "#fdca26"
             ],
             [
              1,
              "#f0f921"
             ]
            ],
            "type": "heatmapgl"
           }
          ],
          "histogram": [
           {
            "marker": {
             "pattern": {
              "fillmode": "overlay",
              "size": 10,
              "solidity": 0.2
             }
            },
            "type": "histogram"
           }
          ],
          "histogram2d": [
           {
            "colorbar": {
             "outlinewidth": 0,
             "ticks": ""
            },
            "colorscale": [
             [
              0,
              "#0d0887"
             ],
             [
              0.1111111111111111,
              "#46039f"
             ],
             [
              0.2222222222222222,
              "#7201a8"
             ],
             [
              0.3333333333333333,
              "#9c179e"
             ],
             [
              0.4444444444444444,
              "#bd3786"
             ],
             [
              0.5555555555555556,
              "#d8576b"
             ],
             [
              0.6666666666666666,
              "#ed7953"
             ],
             [
              0.7777777777777778,
              "#fb9f3a"
             ],
             [
              0.8888888888888888,
              "#fdca26"
             ],
             [
              1,
              "#f0f921"
             ]
            ],
            "type": "histogram2d"
           }
          ],
          "histogram2dcontour": [
           {
            "colorbar": {
             "outlinewidth": 0,
             "ticks": ""
            },
            "colorscale": [
             [
              0,
              "#0d0887"
             ],
             [
              0.1111111111111111,
              "#46039f"
             ],
             [
              0.2222222222222222,
              "#7201a8"
             ],
             [
              0.3333333333333333,
              "#9c179e"
             ],
             [
              0.4444444444444444,
              "#bd3786"
             ],
             [
              0.5555555555555556,
              "#d8576b"
             ],
             [
              0.6666666666666666,
              "#ed7953"
             ],
             [
              0.7777777777777778,
              "#fb9f3a"
             ],
             [
              0.8888888888888888,
              "#fdca26"
             ],
             [
              1,
              "#f0f921"
             ]
            ],
            "type": "histogram2dcontour"
           }
          ],
          "mesh3d": [
           {
            "colorbar": {
             "outlinewidth": 0,
             "ticks": ""
            },
            "type": "mesh3d"
           }
          ],
          "parcoords": [
           {
            "line": {
             "colorbar": {
              "outlinewidth": 0,
              "ticks": ""
             }
            },
            "type": "parcoords"
           }
          ],
          "pie": [
           {
            "automargin": true,
            "type": "pie"
           }
          ],
          "scatter": [
           {
            "fillpattern": {
             "fillmode": "overlay",
             "size": 10,
             "solidity": 0.2
            },
            "type": "scatter"
           }
          ],
          "scatter3d": [
           {
            "line": {
             "colorbar": {
              "outlinewidth": 0,
              "ticks": ""
             }
            },
            "marker": {
             "colorbar": {
              "outlinewidth": 0,
              "ticks": ""
             }
            },
            "type": "scatter3d"
           }
          ],
          "scattercarpet": [
           {
            "marker": {
             "colorbar": {
              "outlinewidth": 0,
              "ticks": ""
             }
            },
            "type": "scattercarpet"
           }
          ],
          "scattergeo": [
           {
            "marker": {
             "colorbar": {
              "outlinewidth": 0,
              "ticks": ""
             }
            },
            "type": "scattergeo"
           }
          ],
          "scattergl": [
           {
            "marker": {
             "colorbar": {
              "outlinewidth": 0,
              "ticks": ""
             }
            },
            "type": "scattergl"
           }
          ],
          "scattermapbox": [
           {
            "marker": {
             "colorbar": {
              "outlinewidth": 0,
              "ticks": ""
             }
            },
            "type": "scattermapbox"
           }
          ],
          "scatterpolar": [
           {
            "marker": {
             "colorbar": {
              "outlinewidth": 0,
              "ticks": ""
             }
            },
            "type": "scatterpolar"
           }
          ],
          "scatterpolargl": [
           {
            "marker": {
             "colorbar": {
              "outlinewidth": 0,
              "ticks": ""
             }
            },
            "type": "scatterpolargl"
           }
          ],
          "scatterternary": [
           {
            "marker": {
             "colorbar": {
              "outlinewidth": 0,
              "ticks": ""
             }
            },
            "type": "scatterternary"
           }
          ],
          "surface": [
           {
            "colorbar": {
             "outlinewidth": 0,
             "ticks": ""
            },
            "colorscale": [
             [
              0,
              "#0d0887"
             ],
             [
              0.1111111111111111,
              "#46039f"
             ],
             [
              0.2222222222222222,
              "#7201a8"
             ],
             [
              0.3333333333333333,
              "#9c179e"
             ],
             [
              0.4444444444444444,
              "#bd3786"
             ],
             [
              0.5555555555555556,
              "#d8576b"
             ],
             [
              0.6666666666666666,
              "#ed7953"
             ],
             [
              0.7777777777777778,
              "#fb9f3a"
             ],
             [
              0.8888888888888888,
              "#fdca26"
             ],
             [
              1,
              "#f0f921"
             ]
            ],
            "type": "surface"
           }
          ],
          "table": [
           {
            "cells": {
             "fill": {
              "color": "#EBF0F8"
             },
             "line": {
              "color": "white"
             }
            },
            "header": {
             "fill": {
              "color": "#C8D4E3"
             },
             "line": {
              "color": "white"
             }
            },
            "type": "table"
           }
          ]
         },
         "layout": {
          "annotationdefaults": {
           "arrowcolor": "#2a3f5f",
           "arrowhead": 0,
           "arrowwidth": 1
          },
          "autotypenumbers": "strict",
          "coloraxis": {
           "colorbar": {
            "outlinewidth": 0,
            "ticks": ""
           }
          },
          "colorscale": {
           "diverging": [
            [
             0,
             "#8e0152"
            ],
            [
             0.1,
             "#c51b7d"
            ],
            [
             0.2,
             "#de77ae"
            ],
            [
             0.3,
             "#f1b6da"
            ],
            [
             0.4,
             "#fde0ef"
            ],
            [
             0.5,
             "#f7f7f7"
            ],
            [
             0.6,
             "#e6f5d0"
            ],
            [
             0.7,
             "#b8e186"
            ],
            [
             0.8,
             "#7fbc41"
            ],
            [
             0.9,
             "#4d9221"
            ],
            [
             1,
             "#276419"
            ]
           ],
           "sequential": [
            [
             0,
             "#0d0887"
            ],
            [
             0.1111111111111111,
             "#46039f"
            ],
            [
             0.2222222222222222,
             "#7201a8"
            ],
            [
             0.3333333333333333,
             "#9c179e"
            ],
            [
             0.4444444444444444,
             "#bd3786"
            ],
            [
             0.5555555555555556,
             "#d8576b"
            ],
            [
             0.6666666666666666,
             "#ed7953"
            ],
            [
             0.7777777777777778,
             "#fb9f3a"
            ],
            [
             0.8888888888888888,
             "#fdca26"
            ],
            [
             1,
             "#f0f921"
            ]
           ],
           "sequentialminus": [
            [
             0,
             "#0d0887"
            ],
            [
             0.1111111111111111,
             "#46039f"
            ],
            [
             0.2222222222222222,
             "#7201a8"
            ],
            [
             0.3333333333333333,
             "#9c179e"
            ],
            [
             0.4444444444444444,
             "#bd3786"
            ],
            [
             0.5555555555555556,
             "#d8576b"
            ],
            [
             0.6666666666666666,
             "#ed7953"
            ],
            [
             0.7777777777777778,
             "#fb9f3a"
            ],
            [
             0.8888888888888888,
             "#fdca26"
            ],
            [
             1,
             "#f0f921"
            ]
           ]
          },
          "colorway": [
           "#636efa",
           "#EF553B",
           "#00cc96",
           "#ab63fa",
           "#FFA15A",
           "#19d3f3",
           "#FF6692",
           "#B6E880",
           "#FF97FF",
           "#FECB52"
          ],
          "font": {
           "color": "#2a3f5f"
          },
          "geo": {
           "bgcolor": "white",
           "lakecolor": "white",
           "landcolor": "#E5ECF6",
           "showlakes": true,
           "showland": true,
           "subunitcolor": "white"
          },
          "hoverlabel": {
           "align": "left"
          },
          "hovermode": "closest",
          "mapbox": {
           "style": "light"
          },
          "paper_bgcolor": "white",
          "plot_bgcolor": "#E5ECF6",
          "polar": {
           "angularaxis": {
            "gridcolor": "white",
            "linecolor": "white",
            "ticks": ""
           },
           "bgcolor": "#E5ECF6",
           "radialaxis": {
            "gridcolor": "white",
            "linecolor": "white",
            "ticks": ""
           }
          },
          "scene": {
           "xaxis": {
            "backgroundcolor": "#E5ECF6",
            "gridcolor": "white",
            "gridwidth": 2,
            "linecolor": "white",
            "showbackground": true,
            "ticks": "",
            "zerolinecolor": "white"
           },
           "yaxis": {
            "backgroundcolor": "#E5ECF6",
            "gridcolor": "white",
            "gridwidth": 2,
            "linecolor": "white",
            "showbackground": true,
            "ticks": "",
            "zerolinecolor": "white"
           },
           "zaxis": {
            "backgroundcolor": "#E5ECF6",
            "gridcolor": "white",
            "gridwidth": 2,
            "linecolor": "white",
            "showbackground": true,
            "ticks": "",
            "zerolinecolor": "white"
           }
          },
          "shapedefaults": {
           "line": {
            "color": "#2a3f5f"
           }
          },
          "ternary": {
           "aaxis": {
            "gridcolor": "white",
            "linecolor": "white",
            "ticks": ""
           },
           "baxis": {
            "gridcolor": "white",
            "linecolor": "white",
            "ticks": ""
           },
           "bgcolor": "#E5ECF6",
           "caxis": {
            "gridcolor": "white",
            "linecolor": "white",
            "ticks": ""
           }
          },
          "title": {
           "x": 0.05
          },
          "xaxis": {
           "automargin": true,
           "gridcolor": "white",
           "linecolor": "white",
           "ticks": "",
           "title": {
            "standoff": 15
           },
           "zerolinecolor": "white",
           "zerolinewidth": 2
          },
          "yaxis": {
           "automargin": true,
           "gridcolor": "white",
           "linecolor": "white",
           "ticks": "",
           "title": {
            "standoff": 15
           },
           "zerolinecolor": "white",
           "zerolinewidth": 2
          }
         }
        },
        "title": {
         "text": "Daily Sales Trend"
        },
        "xaxis": {
         "anchor": "y",
         "domain": [
          0,
          1
         ],
         "title": {
          "text": "Date"
         }
        },
        "yaxis": {
         "anchor": "x",
         "domain": [
          0,
          1
         ],
         "title": {
          "text": "Net sales"
         }
        }
       }
      }
     },
     "metadata": {},
     "output_type": "display_data"
    },
    {
     "data": {
      "application/vnd.plotly.v1+json": {
       "config": {
        "plotlyServerURL": "https://plot.ly"
       },
       "data": [
        {
         "alignmentgroup": "True",
         "hovertemplate": "Month=%{x}<br>Net sales=%{y}<extra></extra>",
         "legendgroup": "",
         "marker": {
          "color": "#636efa",
          "pattern": {
           "shape": ""
          }
         },
         "name": "",
         "offsetgroup": "",
         "orientation": "v",
         "showlegend": false,
         "textposition": "auto",
         "type": "bar",
         "x": [
          1,
          2,
          3,
          4,
          5,
          6,
          7,
          8,
          9,
          10,
          11,
          12
         ],
         "xaxis": "x",
         "y": [
          14833.84,
          15111,
          18836.25,
          27855,
          38565,
          40035,
          36480,
          34140,
          31830,
          27510,
          20892.5,
          17760
         ],
         "yaxis": "y"
        }
       ],
       "layout": {
        "barmode": "relative",
        "legend": {
         "tracegroupgap": 0
        },
        "template": {
         "data": {
          "bar": [
           {
            "error_x": {
             "color": "#2a3f5f"
            },
            "error_y": {
             "color": "#2a3f5f"
            },
            "marker": {
             "line": {
              "color": "#E5ECF6",
              "width": 0.5
             },
             "pattern": {
              "fillmode": "overlay",
              "size": 10,
              "solidity": 0.2
             }
            },
            "type": "bar"
           }
          ],
          "barpolar": [
           {
            "marker": {
             "line": {
              "color": "#E5ECF6",
              "width": 0.5
             },
             "pattern": {
              "fillmode": "overlay",
              "size": 10,
              "solidity": 0.2
             }
            },
            "type": "barpolar"
           }
          ],
          "carpet": [
           {
            "aaxis": {
             "endlinecolor": "#2a3f5f",
             "gridcolor": "white",
             "linecolor": "white",
             "minorgridcolor": "white",
             "startlinecolor": "#2a3f5f"
            },
            "baxis": {
             "endlinecolor": "#2a3f5f",
             "gridcolor": "white",
             "linecolor": "white",
             "minorgridcolor": "white",
             "startlinecolor": "#2a3f5f"
            },
            "type": "carpet"
           }
          ],
          "choropleth": [
           {
            "colorbar": {
             "outlinewidth": 0,
             "ticks": ""
            },
            "type": "choropleth"
           }
          ],
          "contour": [
           {
            "colorbar": {
             "outlinewidth": 0,
             "ticks": ""
            },
            "colorscale": [
             [
              0,
              "#0d0887"
             ],
             [
              0.1111111111111111,
              "#46039f"
             ],
             [
              0.2222222222222222,
              "#7201a8"
             ],
             [
              0.3333333333333333,
              "#9c179e"
             ],
             [
              0.4444444444444444,
              "#bd3786"
             ],
             [
              0.5555555555555556,
              "#d8576b"
             ],
             [
              0.6666666666666666,
              "#ed7953"
             ],
             [
              0.7777777777777778,
              "#fb9f3a"
             ],
             [
              0.8888888888888888,
              "#fdca26"
             ],
             [
              1,
              "#f0f921"
             ]
            ],
            "type": "contour"
           }
          ],
          "contourcarpet": [
           {
            "colorbar": {
             "outlinewidth": 0,
             "ticks": ""
            },
            "type": "contourcarpet"
           }
          ],
          "heatmap": [
           {
            "colorbar": {
             "outlinewidth": 0,
             "ticks": ""
            },
            "colorscale": [
             [
              0,
              "#0d0887"
             ],
             [
              0.1111111111111111,
              "#46039f"
             ],
             [
              0.2222222222222222,
              "#7201a8"
             ],
             [
              0.3333333333333333,
              "#9c179e"
             ],
             [
              0.4444444444444444,
              "#bd3786"
             ],
             [
              0.5555555555555556,
              "#d8576b"
             ],
             [
              0.6666666666666666,
              "#ed7953"
             ],
             [
              0.7777777777777778,
              "#fb9f3a"
             ],
             [
              0.8888888888888888,
              "#fdca26"
             ],
             [
              1,
              "#f0f921"
             ]
            ],
            "type": "heatmap"
           }
          ],
          "heatmapgl": [
           {
            "colorbar": {
             "outlinewidth": 0,
             "ticks": ""
            },
            "colorscale": [
             [
              0,
              "#0d0887"
             ],
             [
              0.1111111111111111,
              "#46039f"
             ],
             [
              0.2222222222222222,
              "#7201a8"
             ],
             [
              0.3333333333333333,
              "#9c179e"
             ],
             [
              0.4444444444444444,
              "#bd3786"
             ],
             [
              0.5555555555555556,
              "#d8576b"
             ],
             [
              0.6666666666666666,
              "#ed7953"
             ],
             [
              0.7777777777777778,
              "#fb9f3a"
             ],
             [
              0.8888888888888888,
              "#fdca26"
             ],
             [
              1,
              "#f0f921"
             ]
            ],
            "type": "heatmapgl"
           }
          ],
          "histogram": [
           {
            "marker": {
             "pattern": {
              "fillmode": "overlay",
              "size": 10,
              "solidity": 0.2
             }
            },
            "type": "histogram"
           }
          ],
          "histogram2d": [
           {
            "colorbar": {
             "outlinewidth": 0,
             "ticks": ""
            },
            "colorscale": [
             [
              0,
              "#0d0887"
             ],
             [
              0.1111111111111111,
              "#46039f"
             ],
             [
              0.2222222222222222,
              "#7201a8"
             ],
             [
              0.3333333333333333,
              "#9c179e"
             ],
             [
              0.4444444444444444,
              "#bd3786"
             ],
             [
              0.5555555555555556,
              "#d8576b"
             ],
             [
              0.6666666666666666,
              "#ed7953"
             ],
             [
              0.7777777777777778,
              "#fb9f3a"
             ],
             [
              0.8888888888888888,
              "#fdca26"
             ],
             [
              1,
              "#f0f921"
             ]
            ],
            "type": "histogram2d"
           }
          ],
          "histogram2dcontour": [
           {
            "colorbar": {
             "outlinewidth": 0,
             "ticks": ""
            },
            "colorscale": [
             [
              0,
              "#0d0887"
             ],
             [
              0.1111111111111111,
              "#46039f"
             ],
             [
              0.2222222222222222,
              "#7201a8"
             ],
             [
              0.3333333333333333,
              "#9c179e"
             ],
             [
              0.4444444444444444,
              "#bd3786"
             ],
             [
              0.5555555555555556,
              "#d8576b"
             ],
             [
              0.6666666666666666,
              "#ed7953"
             ],
             [
              0.7777777777777778,
              "#fb9f3a"
             ],
             [
              0.8888888888888888,
              "#fdca26"
             ],
             [
              1,
              "#f0f921"
             ]
            ],
            "type": "histogram2dcontour"
           }
          ],
          "mesh3d": [
           {
            "colorbar": {
             "outlinewidth": 0,
             "ticks": ""
            },
            "type": "mesh3d"
           }
          ],
          "parcoords": [
           {
            "line": {
             "colorbar": {
              "outlinewidth": 0,
              "ticks": ""
             }
            },
            "type": "parcoords"
           }
          ],
          "pie": [
           {
            "automargin": true,
            "type": "pie"
           }
          ],
          "scatter": [
           {
            "fillpattern": {
             "fillmode": "overlay",
             "size": 10,
             "solidity": 0.2
            },
            "type": "scatter"
           }
          ],
          "scatter3d": [
           {
            "line": {
             "colorbar": {
              "outlinewidth": 0,
              "ticks": ""
             }
            },
            "marker": {
             "colorbar": {
              "outlinewidth": 0,
              "ticks": ""
             }
            },
            "type": "scatter3d"
           }
          ],
          "scattercarpet": [
           {
            "marker": {
             "colorbar": {
              "outlinewidth": 0,
              "ticks": ""
             }
            },
            "type": "scattercarpet"
           }
          ],
          "scattergeo": [
           {
            "marker": {
             "colorbar": {
              "outlinewidth": 0,
              "ticks": ""
             }
            },
            "type": "scattergeo"
           }
          ],
          "scattergl": [
           {
            "marker": {
             "colorbar": {
              "outlinewidth": 0,
              "ticks": ""
             }
            },
            "type": "scattergl"
           }
          ],
          "scattermapbox": [
           {
            "marker": {
             "colorbar": {
              "outlinewidth": 0,
              "ticks": ""
             }
            },
            "type": "scattermapbox"
           }
          ],
          "scatterpolar": [
           {
            "marker": {
             "colorbar": {
              "outlinewidth": 0,
              "ticks": ""
             }
            },
            "type": "scatterpolar"
           }
          ],
          "scatterpolargl": [
           {
            "marker": {
             "colorbar": {
              "outlinewidth": 0,
              "ticks": ""
             }
            },
            "type": "scatterpolargl"
           }
          ],
          "scatterternary": [
           {
            "marker": {
             "colorbar": {
              "outlinewidth": 0,
              "ticks": ""
             }
            },
            "type": "scatterternary"
           }
          ],
          "surface": [
           {
            "colorbar": {
             "outlinewidth": 0,
             "ticks": ""
            },
            "colorscale": [
             [
              0,
              "#0d0887"
             ],
             [
              0.1111111111111111,
              "#46039f"
             ],
             [
              0.2222222222222222,
              "#7201a8"
             ],
             [
              0.3333333333333333,
              "#9c179e"
             ],
             [
              0.4444444444444444,
              "#bd3786"
             ],
             [
              0.5555555555555556,
              "#d8576b"
             ],
             [
              0.6666666666666666,
              "#ed7953"
             ],
             [
              0.7777777777777778,
              "#fb9f3a"
             ],
             [
              0.8888888888888888,
              "#fdca26"
             ],
             [
              1,
              "#f0f921"
             ]
            ],
            "type": "surface"
           }
          ],
          "table": [
           {
            "cells": {
             "fill": {
              "color": "#EBF0F8"
             },
             "line": {
              "color": "white"
             }
            },
            "header": {
             "fill": {
              "color": "#C8D4E3"
             },
             "line": {
              "color": "white"
             }
            },
            "type": "table"
           }
          ]
         },
         "layout": {
          "annotationdefaults": {
           "arrowcolor": "#2a3f5f",
           "arrowhead": 0,
           "arrowwidth": 1
          },
          "autotypenumbers": "strict",
          "coloraxis": {
           "colorbar": {
            "outlinewidth": 0,
            "ticks": ""
           }
          },
          "colorscale": {
           "diverging": [
            [
             0,
             "#8e0152"
            ],
            [
             0.1,
             "#c51b7d"
            ],
            [
             0.2,
             "#de77ae"
            ],
            [
             0.3,
             "#f1b6da"
            ],
            [
             0.4,
             "#fde0ef"
            ],
            [
             0.5,
             "#f7f7f7"
            ],
            [
             0.6,
             "#e6f5d0"
            ],
            [
             0.7,
             "#b8e186"
            ],
            [
             0.8,
             "#7fbc41"
            ],
            [
             0.9,
             "#4d9221"
            ],
            [
             1,
             "#276419"
            ]
           ],
           "sequential": [
            [
             0,
             "#0d0887"
            ],
            [
             0.1111111111111111,
             "#46039f"
            ],
            [
             0.2222222222222222,
             "#7201a8"
            ],
            [
             0.3333333333333333,
             "#9c179e"
            ],
            [
             0.4444444444444444,
             "#bd3786"
            ],
            [
             0.5555555555555556,
             "#d8576b"
            ],
            [
             0.6666666666666666,
             "#ed7953"
            ],
            [
             0.7777777777777778,
             "#fb9f3a"
            ],
            [
             0.8888888888888888,
             "#fdca26"
            ],
            [
             1,
             "#f0f921"
            ]
           ],
           "sequentialminus": [
            [
             0,
             "#0d0887"
            ],
            [
             0.1111111111111111,
             "#46039f"
            ],
            [
             0.2222222222222222,
             "#7201a8"
            ],
            [
             0.3333333333333333,
             "#9c179e"
            ],
            [
             0.4444444444444444,
             "#bd3786"
            ],
            [
             0.5555555555555556,
             "#d8576b"
            ],
            [
             0.6666666666666666,
             "#ed7953"
            ],
            [
             0.7777777777777778,
             "#fb9f3a"
            ],
            [
             0.8888888888888888,
             "#fdca26"
            ],
            [
             1,
             "#f0f921"
            ]
           ]
          },
          "colorway": [
           "#636efa",
           "#EF553B",
           "#00cc96",
           "#ab63fa",
           "#FFA15A",
           "#19d3f3",
           "#FF6692",
           "#B6E880",
           "#FF97FF",
           "#FECB52"
          ],
          "font": {
           "color": "#2a3f5f"
          },
          "geo": {
           "bgcolor": "white",
           "lakecolor": "white",
           "landcolor": "#E5ECF6",
           "showlakes": true,
           "showland": true,
           "subunitcolor": "white"
          },
          "hoverlabel": {
           "align": "left"
          },
          "hovermode": "closest",
          "mapbox": {
           "style": "light"
          },
          "paper_bgcolor": "white",
          "plot_bgcolor": "#E5ECF6",
          "polar": {
           "angularaxis": {
            "gridcolor": "white",
            "linecolor": "white",
            "ticks": ""
           },
           "bgcolor": "#E5ECF6",
           "radialaxis": {
            "gridcolor": "white",
            "linecolor": "white",
            "ticks": ""
           }
          },
          "scene": {
           "xaxis": {
            "backgroundcolor": "#E5ECF6",
            "gridcolor": "white",
            "gridwidth": 2,
            "linecolor": "white",
            "showbackground": true,
            "ticks": "",
            "zerolinecolor": "white"
           },
           "yaxis": {
            "backgroundcolor": "#E5ECF6",
            "gridcolor": "white",
            "gridwidth": 2,
            "linecolor": "white",
            "showbackground": true,
            "ticks": "",
            "zerolinecolor": "white"
           },
           "zaxis": {
            "backgroundcolor": "#E5ECF6",
            "gridcolor": "white",
            "gridwidth": 2,
            "linecolor": "white",
            "showbackground": true,
            "ticks": "",
            "zerolinecolor": "white"
           }
          },
          "shapedefaults": {
           "line": {
            "color": "#2a3f5f"
           }
          },
          "ternary": {
           "aaxis": {
            "gridcolor": "white",
            "linecolor": "white",
            "ticks": ""
           },
           "baxis": {
            "gridcolor": "white",
            "linecolor": "white",
            "ticks": ""
           },
           "bgcolor": "#E5ECF6",
           "caxis": {
            "gridcolor": "white",
            "linecolor": "white",
            "ticks": ""
           }
          },
          "title": {
           "x": 0.05
          },
          "xaxis": {
           "automargin": true,
           "gridcolor": "white",
           "linecolor": "white",
           "ticks": "",
           "title": {
            "standoff": 15
           },
           "zerolinecolor": "white",
           "zerolinewidth": 2
          },
          "yaxis": {
           "automargin": true,
           "gridcolor": "white",
           "linecolor": "white",
           "ticks": "",
           "title": {
            "standoff": 15
           },
           "zerolinecolor": "white",
           "zerolinewidth": 2
          }
         }
        },
        "title": {
         "text": "Monthly Sales Comparison"
        },
        "xaxis": {
         "anchor": "y",
         "domain": [
          0,
          1
         ],
         "title": {
          "text": "Month"
         }
        },
        "yaxis": {
         "anchor": "x",
         "domain": [
          0,
          1
         ],
         "title": {
          "text": "Net sales"
         }
        }
       }
      }
     },
     "metadata": {},
     "output_type": "display_data"
    },
    {
     "data": {
      "application/vnd.plotly.v1+json": {
       "config": {
        "plotlyServerURL": "https://plot.ly"
       },
       "data": [
        {
         "domain": {
          "x": [
           0,
           1
          ],
          "y": [
           0,
           1
          ]
         },
         "hovertemplate": "Is_Weekend=%{label}<br>Net sales=%{value}<extra></extra>",
         "labels": [
          0,
          1
         ],
         "legendgroup": "",
         "name": "",
         "showlegend": true,
         "type": "pie",
         "values": [
          223876.09,
          99972.5
         ]
        }
       ],
       "layout": {
        "legend": {
         "tracegroupgap": 0
        },
        "template": {
         "data": {
          "bar": [
           {
            "error_x": {
             "color": "#2a3f5f"
            },
            "error_y": {
             "color": "#2a3f5f"
            },
            "marker": {
             "line": {
              "color": "#E5ECF6",
              "width": 0.5
             },
             "pattern": {
              "fillmode": "overlay",
              "size": 10,
              "solidity": 0.2
             }
            },
            "type": "bar"
           }
          ],
          "barpolar": [
           {
            "marker": {
             "line": {
              "color": "#E5ECF6",
              "width": 0.5
             },
             "pattern": {
              "fillmode": "overlay",
              "size": 10,
              "solidity": 0.2
             }
            },
            "type": "barpolar"
           }
          ],
          "carpet": [
           {
            "aaxis": {
             "endlinecolor": "#2a3f5f",
             "gridcolor": "white",
             "linecolor": "white",
             "minorgridcolor": "white",
             "startlinecolor": "#2a3f5f"
            },
            "baxis": {
             "endlinecolor": "#2a3f5f",
             "gridcolor": "white",
             "linecolor": "white",
             "minorgridcolor": "white",
             "startlinecolor": "#2a3f5f"
            },
            "type": "carpet"
           }
          ],
          "choropleth": [
           {
            "colorbar": {
             "outlinewidth": 0,
             "ticks": ""
            },
            "type": "choropleth"
           }
          ],
          "contour": [
           {
            "colorbar": {
             "outlinewidth": 0,
             "ticks": ""
            },
            "colorscale": [
             [
              0,
              "#0d0887"
             ],
             [
              0.1111111111111111,
              "#46039f"
             ],
             [
              0.2222222222222222,
              "#7201a8"
             ],
             [
              0.3333333333333333,
              "#9c179e"
             ],
             [
              0.4444444444444444,
              "#bd3786"
             ],
             [
              0.5555555555555556,
              "#d8576b"
             ],
             [
              0.6666666666666666,
              "#ed7953"
             ],
             [
              0.7777777777777778,
              "#fb9f3a"
             ],
             [
              0.8888888888888888,
              "#fdca26"
             ],
             [
              1,
              "#f0f921"
             ]
            ],
            "type": "contour"
           }
          ],
          "contourcarpet": [
           {
            "colorbar": {
             "outlinewidth": 0,
             "ticks": ""
            },
            "type": "contourcarpet"
           }
          ],
          "heatmap": [
           {
            "colorbar": {
             "outlinewidth": 0,
             "ticks": ""
            },
            "colorscale": [
             [
              0,
              "#0d0887"
             ],
             [
              0.1111111111111111,
              "#46039f"
             ],
             [
              0.2222222222222222,
              "#7201a8"
             ],
             [
              0.3333333333333333,
              "#9c179e"
             ],
             [
              0.4444444444444444,
              "#bd3786"
             ],
             [
              0.5555555555555556,
              "#d8576b"
             ],
             [
              0.6666666666666666,
              "#ed7953"
             ],
             [
              0.7777777777777778,
              "#fb9f3a"
             ],
             [
              0.8888888888888888,
              "#fdca26"
             ],
             [
              1,
              "#f0f921"
             ]
            ],
            "type": "heatmap"
           }
          ],
          "heatmapgl": [
           {
            "colorbar": {
             "outlinewidth": 0,
             "ticks": ""
            },
            "colorscale": [
             [
              0,
              "#0d0887"
             ],
             [
              0.1111111111111111,
              "#46039f"
             ],
             [
              0.2222222222222222,
              "#7201a8"
             ],
             [
              0.3333333333333333,
              "#9c179e"
             ],
             [
              0.4444444444444444,
              "#bd3786"
             ],
             [
              0.5555555555555556,
              "#d8576b"
             ],
             [
              0.6666666666666666,
              "#ed7953"
             ],
             [
              0.7777777777777778,
              "#fb9f3a"
             ],
             [
              0.8888888888888888,
              "#fdca26"
             ],
             [
              1,
              "#f0f921"
             ]
            ],
            "type": "heatmapgl"
           }
          ],
          "histogram": [
           {
            "marker": {
             "pattern": {
              "fillmode": "overlay",
              "size": 10,
              "solidity": 0.2
             }
            },
            "type": "histogram"
           }
          ],
          "histogram2d": [
           {
            "colorbar": {
             "outlinewidth": 0,
             "ticks": ""
            },
            "colorscale": [
             [
              0,
              "#0d0887"
             ],
             [
              0.1111111111111111,
              "#46039f"
             ],
             [
              0.2222222222222222,
              "#7201a8"
             ],
             [
              0.3333333333333333,
              "#9c179e"
             ],
             [
              0.4444444444444444,
              "#bd3786"
             ],
             [
              0.5555555555555556,
              "#d8576b"
             ],
             [
              0.6666666666666666,
              "#ed7953"
             ],
             [
              0.7777777777777778,
              "#fb9f3a"
             ],
             [
              0.8888888888888888,
              "#fdca26"
             ],
             [
              1,
              "#f0f921"
             ]
            ],
            "type": "histogram2d"
           }
          ],
          "histogram2dcontour": [
           {
            "colorbar": {
             "outlinewidth": 0,
             "ticks": ""
            },
            "colorscale": [
             [
              0,
              "#0d0887"
             ],
             [
              0.1111111111111111,
              "#46039f"
             ],
             [
              0.2222222222222222,
              "#7201a8"
             ],
             [
              0.3333333333333333,
              "#9c179e"
             ],
             [
              0.4444444444444444,
              "#bd3786"
             ],
             [
              0.5555555555555556,
              "#d8576b"
             ],
             [
              0.6666666666666666,
              "#ed7953"
             ],
             [
              0.7777777777777778,
              "#fb9f3a"
             ],
             [
              0.8888888888888888,
              "#fdca26"
             ],
             [
              1,
              "#f0f921"
             ]
            ],
            "type": "histogram2dcontour"
           }
          ],
          "mesh3d": [
           {
            "colorbar": {
             "outlinewidth": 0,
             "ticks": ""
            },
            "type": "mesh3d"
           }
          ],
          "parcoords": [
           {
            "line": {
             "colorbar": {
              "outlinewidth": 0,
              "ticks": ""
             }
            },
            "type": "parcoords"
           }
          ],
          "pie": [
           {
            "automargin": true,
            "type": "pie"
           }
          ],
          "scatter": [
           {
            "fillpattern": {
             "fillmode": "overlay",
             "size": 10,
             "solidity": 0.2
            },
            "type": "scatter"
           }
          ],
          "scatter3d": [
           {
            "line": {
             "colorbar": {
              "outlinewidth": 0,
              "ticks": ""
             }
            },
            "marker": {
             "colorbar": {
              "outlinewidth": 0,
              "ticks": ""
             }
            },
            "type": "scatter3d"
           }
          ],
          "scattercarpet": [
           {
            "marker": {
             "colorbar": {
              "outlinewidth": 0,
              "ticks": ""
             }
            },
            "type": "scattercarpet"
           }
          ],
          "scattergeo": [
           {
            "marker": {
             "colorbar": {
              "outlinewidth": 0,
              "ticks": ""
             }
            },
            "type": "scattergeo"
           }
          ],
          "scattergl": [
           {
            "marker": {
             "colorbar": {
              "outlinewidth": 0,
              "ticks": ""
             }
            },
            "type": "scattergl"
           }
          ],
          "scattermapbox": [
           {
            "marker": {
             "colorbar": {
              "outlinewidth": 0,
              "ticks": ""
             }
            },
            "type": "scattermapbox"
           }
          ],
          "scatterpolar": [
           {
            "marker": {
             "colorbar": {
              "outlinewidth": 0,
              "ticks": ""
             }
            },
            "type": "scatterpolar"
           }
          ],
          "scatterpolargl": [
           {
            "marker": {
             "colorbar": {
              "outlinewidth": 0,
              "ticks": ""
             }
            },
            "type": "scatterpolargl"
           }
          ],
          "scatterternary": [
           {
            "marker": {
             "colorbar": {
              "outlinewidth": 0,
              "ticks": ""
             }
            },
            "type": "scatterternary"
           }
          ],
          "surface": [
           {
            "colorbar": {
             "outlinewidth": 0,
             "ticks": ""
            },
            "colorscale": [
             [
              0,
              "#0d0887"
             ],
             [
              0.1111111111111111,
              "#46039f"
             ],
             [
              0.2222222222222222,
              "#7201a8"
             ],
             [
              0.3333333333333333,
              "#9c179e"
             ],
             [
              0.4444444444444444,
              "#bd3786"
             ],
             [
              0.5555555555555556,
              "#d8576b"
             ],
             [
              0.6666666666666666,
              "#ed7953"
             ],
             [
              0.7777777777777778,
              "#fb9f3a"
             ],
             [
              0.8888888888888888,
              "#fdca26"
             ],
             [
              1,
              "#f0f921"
             ]
            ],
            "type": "surface"
           }
          ],
          "table": [
           {
            "cells": {
             "fill": {
              "color": "#EBF0F8"
             },
             "line": {
              "color": "white"
             }
            },
            "header": {
             "fill": {
              "color": "#C8D4E3"
             },
             "line": {
              "color": "white"
             }
            },
            "type": "table"
           }
          ]
         },
         "layout": {
          "annotationdefaults": {
           "arrowcolor": "#2a3f5f",
           "arrowhead": 0,
           "arrowwidth": 1
          },
          "autotypenumbers": "strict",
          "coloraxis": {
           "colorbar": {
            "outlinewidth": 0,
            "ticks": ""
           }
          },
          "colorscale": {
           "diverging": [
            [
             0,
             "#8e0152"
            ],
            [
             0.1,
             "#c51b7d"
            ],
            [
             0.2,
             "#de77ae"
            ],
            [
             0.3,
             "#f1b6da"
            ],
            [
             0.4,
             "#fde0ef"
            ],
            [
             0.5,
             "#f7f7f7"
            ],
            [
             0.6,
             "#e6f5d0"
            ],
            [
             0.7,
             "#b8e186"
            ],
            [
             0.8,
             "#7fbc41"
            ],
            [
             0.9,
             "#4d9221"
            ],
            [
             1,
             "#276419"
            ]
           ],
           "sequential": [
            [
             0,
             "#0d0887"
            ],
            [
             0.1111111111111111,
             "#46039f"
            ],
            [
             0.2222222222222222,
             "#7201a8"
            ],
            [
             0.3333333333333333,
             "#9c179e"
            ],
            [
             0.4444444444444444,
             "#bd3786"
            ],
            [
             0.5555555555555556,
             "#d8576b"
            ],
            [
             0.6666666666666666,
             "#ed7953"
            ],
            [
             0.7777777777777778,
             "#fb9f3a"
            ],
            [
             0.8888888888888888,
             "#fdca26"
            ],
            [
             1,
             "#f0f921"
            ]
           ],
           "sequentialminus": [
            [
             0,
             "#0d0887"
            ],
            [
             0.1111111111111111,
             "#46039f"
            ],
            [
             0.2222222222222222,
             "#7201a8"
            ],
            [
             0.3333333333333333,
             "#9c179e"
            ],
            [
             0.4444444444444444,
             "#bd3786"
            ],
            [
             0.5555555555555556,
             "#d8576b"
            ],
            [
             0.6666666666666666,
             "#ed7953"
            ],
            [
             0.7777777777777778,
             "#fb9f3a"
            ],
            [
             0.8888888888888888,
             "#fdca26"
            ],
            [
             1,
             "#f0f921"
            ]
           ]
          },
          "colorway": [
           "#636efa",
           "#EF553B",
           "#00cc96",
           "#ab63fa",
           "#FFA15A",
           "#19d3f3",
           "#FF6692",
           "#B6E880",
           "#FF97FF",
           "#FECB52"
          ],
          "font": {
           "color": "#2a3f5f"
          },
          "geo": {
           "bgcolor": "white",
           "lakecolor": "white",
           "landcolor": "#E5ECF6",
           "showlakes": true,
           "showland": true,
           "subunitcolor": "white"
          },
          "hoverlabel": {
           "align": "left"
          },
          "hovermode": "closest",
          "mapbox": {
           "style": "light"
          },
          "paper_bgcolor": "white",
          "plot_bgcolor": "#E5ECF6",
          "polar": {
           "angularaxis": {
            "gridcolor": "white",
            "linecolor": "white",
            "ticks": ""
           },
           "bgcolor": "#E5ECF6",
           "radialaxis": {
            "gridcolor": "white",
            "linecolor": "white",
            "ticks": ""
           }
          },
          "scene": {
           "xaxis": {
            "backgroundcolor": "#E5ECF6",
            "gridcolor": "white",
            "gridwidth": 2,
            "linecolor": "white",
            "showbackground": true,
            "ticks": "",
            "zerolinecolor": "white"
           },
           "yaxis": {
            "backgroundcolor": "#E5ECF6",
            "gridcolor": "white",
            "gridwidth": 2,
            "linecolor": "white",
            "showbackground": true,
            "ticks": "",
            "zerolinecolor": "white"
           },
           "zaxis": {
            "backgroundcolor": "#E5ECF6",
            "gridcolor": "white",
            "gridwidth": 2,
            "linecolor": "white",
            "showbackground": true,
            "ticks": "",
            "zerolinecolor": "white"
           }
          },
          "shapedefaults": {
           "line": {
            "color": "#2a3f5f"
           }
          },
          "ternary": {
           "aaxis": {
            "gridcolor": "white",
            "linecolor": "white",
            "ticks": ""
           },
           "baxis": {
            "gridcolor": "white",
            "linecolor": "white",
            "ticks": ""
           },
           "bgcolor": "#E5ECF6",
           "caxis": {
            "gridcolor": "white",
            "linecolor": "white",
            "ticks": ""
           }
          },
          "title": {
           "x": 0.05
          },
          "xaxis": {
           "automargin": true,
           "gridcolor": "white",
           "linecolor": "white",
           "ticks": "",
           "title": {
            "standoff": 15
           },
           "zerolinecolor": "white",
           "zerolinewidth": 2
          },
          "yaxis": {
           "automargin": true,
           "gridcolor": "white",
           "linecolor": "white",
           "ticks": "",
           "title": {
            "standoff": 15
           },
           "zerolinecolor": "white",
           "zerolinewidth": 2
          }
         }
        },
        "title": {
         "text": "Weekday vs Weekend Sales"
        }
       }
      }
     },
     "metadata": {},
     "output_type": "display_data"
    },
    {
     "data": {
      "application/vnd.plotly.v1+json": {
       "config": {
        "plotlyServerURL": "https://plot.ly"
       },
       "data": [
        {
         "hovertemplate": "Quantity=%{x}<br>Net sales=%{y}<extra></extra>",
         "legendgroup": "",
         "marker": {
          "color": "#636efa",
          "symbol": "circle"
         },
         "mode": "markers",
         "name": "",
         "orientation": "v",
         "showlegend": false,
         "type": "scatter",
         "x": [
          41,
          33,
          17,
          25,
          26,
          28,
          45,
          29,
          12,
          29,
          22,
          39,
          47,
          56,
          38,
          22,
          17,
          18,
          21,
          46,
          39,
          25,
          15,
          29,
          29,
          52,
          57,
          63,
          28,
          24,
          30,
          28,
          30,
          39,
          42,
          21,
          19,
          36,
          25,
          38,
          51,
          41,
          42,
          40,
          57,
          25,
          30,
          68,
          49,
          22,
          21,
          40,
          46,
          35,
          25,
          44,
          21,
          48,
          52,
          38,
          55,
          70,
          55,
          57,
          49,
          67,
          39,
          37,
          51,
          51,
          40,
          32,
          49,
          34,
          35,
          25,
          35,
          27,
          20,
          36,
          62,
          31,
          40,
          43,
          30,
          26,
          45,
          13,
          37,
          75,
          60,
          50,
          47,
          57,
          72,
          64,
          48,
          75,
          44,
          60,
          39,
          65,
          48,
          60,
          70,
          56,
          57,
          44,
          65,
          32,
          60,
          99,
          67,
          98,
          111,
          81,
          59,
          87,
          66,
          52,
          74,
          59,
          62,
          68,
          111,
          75,
          76,
          51,
          40,
          46,
          66,
          76,
          123,
          69,
          72,
          55,
          57,
          68,
          116,
          107,
          70,
          79,
          88,
          125,
          159,
          120,
          126,
          85,
          126,
          69,
          79,
          69,
          113,
          90,
          104,
          86,
          107,
          74,
          78,
          92,
          87,
          72,
          78,
          80,
          90,
          88,
          68,
          89,
          61,
          73,
          79,
          95,
          94,
          113,
          93,
          93,
          111,
          81,
          97,
          116,
          98,
          90,
          67,
          107,
          88,
          81,
          90,
          94,
          70,
          95,
          80,
          84,
          68,
          87,
          95,
          82,
          72,
          76,
          84,
          63,
          63,
          62,
          91,
          68,
          76,
          63,
          71,
          74,
          66,
          92,
          71,
          62,
          55,
          67,
          74,
          62,
          79,
          59,
          55,
          74,
          67,
          78,
          65,
          73,
          66,
          83,
          65,
          100,
          88,
          86,
          89,
          80,
          67,
          69,
          65,
          97,
          93,
          83,
          63,
          73,
          64,
          77,
          60,
          70,
          127,
          46,
          63,
          79,
          77,
          62,
          93,
          78,
          40,
          50,
          67,
          55,
          59,
          79,
          54,
          56,
          51,
          62,
          42,
          102,
          77,
          126,
          86,
          71,
          77,
          79,
          75,
          82,
          84,
          79,
          63,
          59,
          73,
          70,
          72,
          73,
          53,
          46,
          56,
          62,
          79,
          62,
          62,
          47,
          68,
          53,
          46,
          47,
          61,
          63,
          44,
          39,
          53,
          43,
          81,
          79,
          92,
          48,
          31,
          38,
          57,
          80,
          69,
          49,
          37,
          55,
          48,
          59,
          57,
          86,
          44,
          33,
          49,
          26,
          43,
          25,
          42,
          47,
          52,
          27,
          33,
          90,
          39,
          50,
          43,
          33,
          66,
          28,
          30,
          39,
          45,
          46,
          35,
          42,
          34,
          36,
          62,
          68,
          55,
          37,
          56,
          52,
          33,
          34,
          35,
          27,
          29,
          15,
          22,
          29,
          20,
          47,
          25,
          24,
          38,
          45,
          38,
          60,
          31,
          60,
          23
         ],
         "xaxis": "x",
         "y": [
          609,
          492.75,
          248.25,
          372,
          382.5,
          413.25,
          670.84,
          430.5,
          177.75,
          435,
          330,
          577.5,
          700.5,
          828,
          562.5,
          330,
          255,
          270,
          315,
          663.75,
          563.25,
          352.5,
          217.5,
          427.5,
          417.75,
          777.75,
          847.5,
          938.25,
          420,
          360,
          447.75,
          396,
          450,
          585,
          616.5,
          315,
          277.5,
          528.75,
          338.25,
          561,
          753.75,
          583.5,
          617.25,
          591.75,
          838.5,
          360.75,
          447.75,
          1005,
          702,
          321,
          295.5,
          573,
          666,
          506.25,
          373.5,
          660,
          315,
          667.5,
          765,
          532.5,
          765.75,
          1011,
          813.75,
          818.25,
          693,
          990,
          565.5,
          541.5,
          760.5,
          575.25,
          593.25,
          477.75,
          723.75,
          505.5,
          495,
          355.5,
          516,
          389.25,
          275.25,
          533.25,
          888,
          465,
          570.75,
          630,
          446.25,
          390,
          641.25,
          193.5,
          555,
          1125,
          900,
          750,
          705,
          825,
          990,
          945,
          705,
          1125,
          660,
          900,
          555,
          975,
          720,
          900,
          1050,
          840,
          855,
          660,
          975,
          480,
          900,
          1470,
          982.5,
          1402.5,
          1635,
          1155,
          855,
          1252.5,
          967.5,
          720,
          1110,
          832.5,
          840,
          982.5,
          1537.5,
          1087.5,
          1095,
          765,
          600,
          690,
          990,
          1140,
          1845,
          1035,
          1080,
          825,
          855,
          1020,
          1740,
          1605,
          1050,
          1185,
          1320,
          1875,
          2385,
          1800,
          1890,
          1275,
          1890,
          1035,
          1185,
          1035,
          1695,
          1350,
          1560,
          1290,
          1605,
          1110,
          1170,
          1380,
          1305,
          1080,
          1170,
          1200,
          1350,
          1320,
          1020,
          1335,
          915,
          1095,
          1185,
          1425,
          1410,
          1695,
          1395,
          1395,
          1665,
          1215,
          1455,
          1740,
          1470,
          1350,
          1005,
          1605,
          1320,
          1215,
          1350,
          1410,
          1050,
          1425,
          1200,
          1260,
          1020,
          1305,
          1425,
          1230,
          1080,
          1140,
          1260,
          945,
          945,
          930,
          1365,
          1020,
          1140,
          945,
          1065,
          1110,
          990,
          1380,
          1065,
          930,
          825,
          1005,
          1110,
          930,
          1185,
          885,
          825,
          1110,
          1005,
          1170,
          975,
          1095,
          990,
          1245,
          975,
          1500,
          1320,
          1290,
          1335,
          1200,
          1005,
          1035,
          975,
          1455,
          1395,
          1245,
          945,
          1095,
          960,
          1155,
          900,
          1050,
          1905,
          690,
          945,
          1185,
          1155,
          930,
          1395,
          1170,
          600,
          750,
          1005,
          810,
          885,
          1185,
          810,
          840,
          765,
          930,
          630,
          1530,
          1050,
          1447.5,
          1147.5,
          1065,
          1155,
          1185,
          1125,
          1230,
          1260,
          1185,
          945,
          885,
          1095,
          1050,
          1080,
          1095,
          795,
          690,
          840,
          930,
          1185,
          930,
          930,
          705,
          1020,
          795,
          690,
          654,
          861,
          930,
          660,
          585,
          795,
          645,
          1215,
          1185,
          1380,
          720,
          465,
          570,
          855,
          1200,
          1035,
          735,
          555,
          825,
          720,
          885,
          832.5,
          1290,
          630,
          487.5,
          735,
          390,
          637.5,
          360,
          615,
          705,
          765,
          397.5,
          487.5,
          900,
          560,
          742.5,
          645,
          495,
          975,
          420,
          450,
          562.5,
          667.5,
          682.5,
          517.5,
          615,
          510,
          532.5,
          907.5,
          1020,
          817.5,
          547.5,
          817.5,
          780,
          465,
          480,
          525,
          397.5,
          435,
          225,
          330,
          420,
          270,
          705,
          375,
          360,
          555,
          667.5,
          570,
          900,
          457.5,
          885,
          322.5
         ],
         "yaxis": "y"
        },
        {
         "hovertemplate": "<b>OLS trendline</b><br>Net sales = 14.8585 * Quantity + -2.54446<br>R<sup>2</sup>=0.989803<br><br>Quantity=%{x}<br>Net sales=%{y} <b>(trend)</b><extra></extra>",
         "legendgroup": "",
         "line": {
          "color": "red"
         },
         "marker": {
          "color": "#636efa",
          "symbol": "circle"
         },
         "mode": "lines",
         "name": "",
         "showlegend": false,
         "type": "scatter",
         "x": [
          12,
          13,
          15,
          15,
          17,
          17,
          18,
          19,
          20,
          20,
          21,
          21,
          21,
          21,
          22,
          22,
          22,
          22,
          23,
          24,
          24,
          25,
          25,
          25,
          25,
          25,
          25,
          25,
          25,
          26,
          26,
          26,
          27,
          27,
          27,
          28,
          28,
          28,
          28,
          29,
          29,
          29,
          29,
          29,
          29,
          30,
          30,
          30,
          30,
          30,
          31,
          31,
          31,
          32,
          32,
          33,
          33,
          33,
          33,
          33,
          34,
          34,
          34,
          35,
          35,
          35,
          35,
          35,
          36,
          36,
          36,
          37,
          37,
          37,
          37,
          38,
          38,
          38,
          38,
          38,
          38,
          39,
          39,
          39,
          39,
          39,
          39,
          39,
          39,
          40,
          40,
          40,
          40,
          40,
          40,
          41,
          41,
          42,
          42,
          42,
          42,
          42,
          43,
          43,
          43,
          43,
          44,
          44,
          44,
          44,
          44,
          45,
          45,
          45,
          45,
          46,
          46,
          46,
          46,
          46,
          46,
          46,
          47,
          47,
          47,
          47,
          47,
          47,
          48,
          48,
          48,
          48,
          48,
          49,
          49,
          49,
          49,
          49,
          50,
          50,
          50,
          51,
          51,
          51,
          51,
          51,
          52,
          52,
          52,
          52,
          52,
          53,
          53,
          53,
          54,
          55,
          55,
          55,
          55,
          55,
          55,
          55,
          55,
          56,
          56,
          56,
          56,
          56,
          57,
          57,
          57,
          57,
          57,
          57,
          57,
          57,
          59,
          59,
          59,
          59,
          59,
          59,
          60,
          60,
          60,
          60,
          60,
          60,
          60,
          61,
          61,
          62,
          62,
          62,
          62,
          62,
          62,
          62,
          62,
          62,
          62,
          62,
          63,
          63,
          63,
          63,
          63,
          63,
          63,
          63,
          64,
          64,
          65,
          65,
          65,
          65,
          65,
          66,
          66,
          66,
          66,
          66,
          67,
          67,
          67,
          67,
          67,
          67,
          67,
          68,
          68,
          68,
          68,
          68,
          68,
          68,
          68,
          69,
          69,
          69,
          69,
          69,
          70,
          70,
          70,
          70,
          70,
          70,
          71,
          71,
          71,
          72,
          72,
          72,
          72,
          72,
          73,
          73,
          73,
          73,
          73,
          74,
          74,
          74,
          74,
          74,
          75,
          75,
          75,
          75,
          76,
          76,
          76,
          76,
          77,
          77,
          77,
          77,
          78,
          78,
          78,
          78,
          79,
          79,
          79,
          79,
          79,
          79,
          79,
          79,
          79,
          79,
          80,
          80,
          80,
          80,
          81,
          81,
          81,
          81,
          82,
          82,
          83,
          83,
          84,
          84,
          84,
          85,
          86,
          86,
          86,
          86,
          87,
          87,
          87,
          88,
          88,
          88,
          88,
          89,
          89,
          90,
          90,
          90,
          90,
          90,
          91,
          92,
          92,
          92,
          93,
          93,
          93,
          93,
          94,
          94,
          95,
          95,
          95,
          97,
          97,
          98,
          98,
          99,
          100,
          102,
          104,
          107,
          107,
          107,
          111,
          111,
          111,
          113,
          113,
          116,
          116,
          120,
          123,
          125,
          126,
          126,
          126,
          127,
          159
         ],
         "xaxis": "x",
         "y": [
          175.75766008630063,
          190.61617044609582,
          220.3331911656862,
          220.3331911656862,
          250.05021188527658,
          250.05021188527658,
          264.9087222450718,
          279.76723260486693,
          294.62574296466215,
          294.62574296466215,
          309.48425332445737,
          309.48425332445737,
          309.48425332445737,
          309.48425332445737,
          324.34276368425253,
          324.34276368425253,
          324.34276368425253,
          324.34276368425253,
          339.2012740440477,
          354.0597844038429,
          354.0597844038429,
          368.91829476363813,
          368.91829476363813,
          368.91829476363813,
          368.91829476363813,
          368.91829476363813,
          368.91829476363813,
          368.91829476363813,
          368.91829476363813,
          383.7768051234333,
          383.7768051234333,
          383.7768051234333,
          398.63531548322845,
          398.63531548322845,
          398.63531548322845,
          413.49382584302367,
          413.49382584302367,
          413.49382584302367,
          413.49382584302367,
          428.3523362028189,
          428.3523362028189,
          428.3523362028189,
          428.3523362028189,
          428.3523362028189,
          428.3523362028189,
          443.21084656261405,
          443.21084656261405,
          443.21084656261405,
          443.21084656261405,
          443.21084656261405,
          458.0693569224092,
          458.0693569224092,
          458.0693569224092,
          472.92786728220443,
          472.92786728220443,
          487.78637764199965,
          487.78637764199965,
          487.78637764199965,
          487.78637764199965,
          487.78637764199965,
          502.6448880017948,
          502.6448880017948,
          502.6448880017948,
          517.50339836159,
          517.50339836159,
          517.50339836159,
          517.50339836159,
          517.50339836159,
          532.3619087213852,
          532.3619087213852,
          532.3619087213852,
          547.2204190811805,
          547.2204190811805,
          547.2204190811805,
          547.2204190811805,
          562.0789294409756,
          562.0789294409756,
          562.0789294409756,
          562.0789294409756,
          562.0789294409756,
          562.0789294409756,
          576.9374398007708,
          576.9374398007708,
          576.9374398007708,
          576.9374398007708,
          576.9374398007708,
          576.9374398007708,
          576.9374398007708,
          576.9374398007708,
          591.795950160566,
          591.795950160566,
          591.795950160566,
          591.795950160566,
          591.795950160566,
          591.795950160566,
          606.6544605203612,
          606.6544605203612,
          621.5129708801564,
          621.5129708801564,
          621.5129708801564,
          621.5129708801564,
          621.5129708801564,
          636.3714812399515,
          636.3714812399515,
          636.3714812399515,
          636.3714812399515,
          651.2299915997468,
          651.2299915997468,
          651.2299915997468,
          651.2299915997468,
          651.2299915997468,
          666.088501959542,
          666.088501959542,
          666.088501959542,
          666.088501959542,
          680.9470123193371,
          680.9470123193371,
          680.9470123193371,
          680.9470123193371,
          680.9470123193371,
          680.9470123193371,
          680.9470123193371,
          695.8055226791323,
          695.8055226791323,
          695.8055226791323,
          695.8055226791323,
          695.8055226791323,
          695.8055226791323,
          710.6640330389275,
          710.6640330389275,
          710.6640330389275,
          710.6640330389275,
          710.6640330389275,
          725.5225433987227,
          725.5225433987227,
          725.5225433987227,
          725.5225433987227,
          725.5225433987227,
          740.381053758518,
          740.381053758518,
          740.381053758518,
          755.2395641183131,
          755.2395641183131,
          755.2395641183131,
          755.2395641183131,
          755.2395641183131,
          770.0980744781083,
          770.0980744781083,
          770.0980744781083,
          770.0980744781083,
          770.0980744781083,
          784.9565848379035,
          784.9565848379035,
          784.9565848379035,
          799.8150951976986,
          814.6736055574938,
          814.6736055574938,
          814.6736055574938,
          814.6736055574938,
          814.6736055574938,
          814.6736055574938,
          814.6736055574938,
          814.6736055574938,
          829.532115917289,
          829.532115917289,
          829.532115917289,
          829.532115917289,
          829.532115917289,
          844.3906262770843,
          844.3906262770843,
          844.3906262770843,
          844.3906262770843,
          844.3906262770843,
          844.3906262770843,
          844.3906262770843,
          844.3906262770843,
          874.1076469966746,
          874.1076469966746,
          874.1076469966746,
          874.1076469966746,
          874.1076469966746,
          874.1076469966746,
          888.9661573564698,
          888.9661573564698,
          888.9661573564698,
          888.9661573564698,
          888.9661573564698,
          888.9661573564698,
          888.9661573564698,
          903.824667716265,
          903.824667716265,
          918.6831780760601,
          918.6831780760601,
          918.6831780760601,
          918.6831780760601,
          918.6831780760601,
          918.6831780760601,
          918.6831780760601,
          918.6831780760601,
          918.6831780760601,
          918.6831780760601,
          918.6831780760601,
          933.5416884358553,
          933.5416884358553,
          933.5416884358553,
          933.5416884358553,
          933.5416884358553,
          933.5416884358553,
          933.5416884358553,
          933.5416884358553,
          948.4001987956506,
          948.4001987956506,
          963.2587091554458,
          963.2587091554458,
          963.2587091554458,
          963.2587091554458,
          963.2587091554458,
          978.117219515241,
          978.117219515241,
          978.117219515241,
          978.117219515241,
          978.117219515241,
          992.9757298750361,
          992.9757298750361,
          992.9757298750361,
          992.9757298750361,
          992.9757298750361,
          992.9757298750361,
          992.9757298750361,
          1007.8342402348313,
          1007.8342402348313,
          1007.8342402348313,
          1007.8342402348313,
          1007.8342402348313,
          1007.8342402348313,
          1007.8342402348313,
          1007.8342402348313,
          1022.6927505946264,
          1022.6927505946264,
          1022.6927505946264,
          1022.6927505946264,
          1022.6927505946264,
          1037.5512609544217,
          1037.5512609544217,
          1037.5512609544217,
          1037.5512609544217,
          1037.5512609544217,
          1037.5512609544217,
          1052.4097713142169,
          1052.4097713142169,
          1052.4097713142169,
          1067.268281674012,
          1067.268281674012,
          1067.268281674012,
          1067.268281674012,
          1067.268281674012,
          1082.1267920338073,
          1082.1267920338073,
          1082.1267920338073,
          1082.1267920338073,
          1082.1267920338073,
          1096.9853023936025,
          1096.9853023936025,
          1096.9853023936025,
          1096.9853023936025,
          1096.9853023936025,
          1111.8438127533977,
          1111.8438127533977,
          1111.8438127533977,
          1111.8438127533977,
          1126.7023231131927,
          1126.7023231131927,
          1126.7023231131927,
          1126.7023231131927,
          1141.560833472988,
          1141.560833472988,
          1141.560833472988,
          1141.560833472988,
          1156.4193438327832,
          1156.4193438327832,
          1156.4193438327832,
          1156.4193438327832,
          1171.2778541925784,
          1171.2778541925784,
          1171.2778541925784,
          1171.2778541925784,
          1171.2778541925784,
          1171.2778541925784,
          1171.2778541925784,
          1171.2778541925784,
          1171.2778541925784,
          1171.2778541925784,
          1186.1363645523736,
          1186.1363645523736,
          1186.1363645523736,
          1186.1363645523736,
          1200.9948749121688,
          1200.9948749121688,
          1200.9948749121688,
          1200.9948749121688,
          1215.853385271964,
          1215.853385271964,
          1230.7118956317593,
          1230.7118956317593,
          1245.5704059915545,
          1245.5704059915545,
          1245.5704059915545,
          1260.4289163513495,
          1275.2874267111447,
          1275.2874267111447,
          1275.2874267111447,
          1275.2874267111447,
          1290.14593707094,
          1290.14593707094,
          1290.14593707094,
          1305.0044474307351,
          1305.0044474307351,
          1305.0044474307351,
          1305.0044474307351,
          1319.8629577905303,
          1319.8629577905303,
          1334.7214681503256,
          1334.7214681503256,
          1334.7214681503256,
          1334.7214681503256,
          1334.7214681503256,
          1349.5799785101208,
          1364.4384888699158,
          1364.4384888699158,
          1364.4384888699158,
          1379.296999229711,
          1379.296999229711,
          1379.296999229711,
          1379.296999229711,
          1394.1555095895062,
          1394.1555095895062,
          1409.0140199493014,
          1409.0140199493014,
          1409.0140199493014,
          1438.7310406688919,
          1438.7310406688919,
          1453.589551028687,
          1453.589551028687,
          1468.4480613884823,
          1483.3065717482775,
          1513.0235924678677,
          1542.7406131874582,
          1587.3161442668438,
          1587.3161442668438,
          1587.3161442668438,
          1646.7501857060245,
          1646.7501857060245,
          1646.7501857060245,
          1676.467206425615,
          1676.467206425615,
          1721.0427375050006,
          1721.0427375050006,
          1780.4767789441812,
          1825.0523100235669,
          1854.769330743157,
          1869.6278411029523,
          1869.6278411029523,
          1869.6278411029523,
          1884.4863514627475,
          2359.9586829761934
         ],
         "yaxis": "y"
        }
       ],
       "layout": {
        "legend": {
         "tracegroupgap": 0
        },
        "template": {
         "data": {
          "bar": [
           {
            "error_x": {
             "color": "#2a3f5f"
            },
            "error_y": {
             "color": "#2a3f5f"
            },
            "marker": {
             "line": {
              "color": "#E5ECF6",
              "width": 0.5
             },
             "pattern": {
              "fillmode": "overlay",
              "size": 10,
              "solidity": 0.2
             }
            },
            "type": "bar"
           }
          ],
          "barpolar": [
           {
            "marker": {
             "line": {
              "color": "#E5ECF6",
              "width": 0.5
             },
             "pattern": {
              "fillmode": "overlay",
              "size": 10,
              "solidity": 0.2
             }
            },
            "type": "barpolar"
           }
          ],
          "carpet": [
           {
            "aaxis": {
             "endlinecolor": "#2a3f5f",
             "gridcolor": "white",
             "linecolor": "white",
             "minorgridcolor": "white",
             "startlinecolor": "#2a3f5f"
            },
            "baxis": {
             "endlinecolor": "#2a3f5f",
             "gridcolor": "white",
             "linecolor": "white",
             "minorgridcolor": "white",
             "startlinecolor": "#2a3f5f"
            },
            "type": "carpet"
           }
          ],
          "choropleth": [
           {
            "colorbar": {
             "outlinewidth": 0,
             "ticks": ""
            },
            "type": "choropleth"
           }
          ],
          "contour": [
           {
            "colorbar": {
             "outlinewidth": 0,
             "ticks": ""
            },
            "colorscale": [
             [
              0,
              "#0d0887"
             ],
             [
              0.1111111111111111,
              "#46039f"
             ],
             [
              0.2222222222222222,
              "#7201a8"
             ],
             [
              0.3333333333333333,
              "#9c179e"
             ],
             [
              0.4444444444444444,
              "#bd3786"
             ],
             [
              0.5555555555555556,
              "#d8576b"
             ],
             [
              0.6666666666666666,
              "#ed7953"
             ],
             [
              0.7777777777777778,
              "#fb9f3a"
             ],
             [
              0.8888888888888888,
              "#fdca26"
             ],
             [
              1,
              "#f0f921"
             ]
            ],
            "type": "contour"
           }
          ],
          "contourcarpet": [
           {
            "colorbar": {
             "outlinewidth": 0,
             "ticks": ""
            },
            "type": "contourcarpet"
           }
          ],
          "heatmap": [
           {
            "colorbar": {
             "outlinewidth": 0,
             "ticks": ""
            },
            "colorscale": [
             [
              0,
              "#0d0887"
             ],
             [
              0.1111111111111111,
              "#46039f"
             ],
             [
              0.2222222222222222,
              "#7201a8"
             ],
             [
              0.3333333333333333,
              "#9c179e"
             ],
             [
              0.4444444444444444,
              "#bd3786"
             ],
             [
              0.5555555555555556,
              "#d8576b"
             ],
             [
              0.6666666666666666,
              "#ed7953"
             ],
             [
              0.7777777777777778,
              "#fb9f3a"
             ],
             [
              0.8888888888888888,
              "#fdca26"
             ],
             [
              1,
              "#f0f921"
             ]
            ],
            "type": "heatmap"
           }
          ],
          "heatmapgl": [
           {
            "colorbar": {
             "outlinewidth": 0,
             "ticks": ""
            },
            "colorscale": [
             [
              0,
              "#0d0887"
             ],
             [
              0.1111111111111111,
              "#46039f"
             ],
             [
              0.2222222222222222,
              "#7201a8"
             ],
             [
              0.3333333333333333,
              "#9c179e"
             ],
             [
              0.4444444444444444,
              "#bd3786"
             ],
             [
              0.5555555555555556,
              "#d8576b"
             ],
             [
              0.6666666666666666,
              "#ed7953"
             ],
             [
              0.7777777777777778,
              "#fb9f3a"
             ],
             [
              0.8888888888888888,
              "#fdca26"
             ],
             [
              1,
              "#f0f921"
             ]
            ],
            "type": "heatmapgl"
           }
          ],
          "histogram": [
           {
            "marker": {
             "pattern": {
              "fillmode": "overlay",
              "size": 10,
              "solidity": 0.2
             }
            },
            "type": "histogram"
           }
          ],
          "histogram2d": [
           {
            "colorbar": {
             "outlinewidth": 0,
             "ticks": ""
            },
            "colorscale": [
             [
              0,
              "#0d0887"
             ],
             [
              0.1111111111111111,
              "#46039f"
             ],
             [
              0.2222222222222222,
              "#7201a8"
             ],
             [
              0.3333333333333333,
              "#9c179e"
             ],
             [
              0.4444444444444444,
              "#bd3786"
             ],
             [
              0.5555555555555556,
              "#d8576b"
             ],
             [
              0.6666666666666666,
              "#ed7953"
             ],
             [
              0.7777777777777778,
              "#fb9f3a"
             ],
             [
              0.8888888888888888,
              "#fdca26"
             ],
             [
              1,
              "#f0f921"
             ]
            ],
            "type": "histogram2d"
           }
          ],
          "histogram2dcontour": [
           {
            "colorbar": {
             "outlinewidth": 0,
             "ticks": ""
            },
            "colorscale": [
             [
              0,
              "#0d0887"
             ],
             [
              0.1111111111111111,
              "#46039f"
             ],
             [
              0.2222222222222222,
              "#7201a8"
             ],
             [
              0.3333333333333333,
              "#9c179e"
             ],
             [
              0.4444444444444444,
              "#bd3786"
             ],
             [
              0.5555555555555556,
              "#d8576b"
             ],
             [
              0.6666666666666666,
              "#ed7953"
             ],
             [
              0.7777777777777778,
              "#fb9f3a"
             ],
             [
              0.8888888888888888,
              "#fdca26"
             ],
             [
              1,
              "#f0f921"
             ]
            ],
            "type": "histogram2dcontour"
           }
          ],
          "mesh3d": [
           {
            "colorbar": {
             "outlinewidth": 0,
             "ticks": ""
            },
            "type": "mesh3d"
           }
          ],
          "parcoords": [
           {
            "line": {
             "colorbar": {
              "outlinewidth": 0,
              "ticks": ""
             }
            },
            "type": "parcoords"
           }
          ],
          "pie": [
           {
            "automargin": true,
            "type": "pie"
           }
          ],
          "scatter": [
           {
            "fillpattern": {
             "fillmode": "overlay",
             "size": 10,
             "solidity": 0.2
            },
            "type": "scatter"
           }
          ],
          "scatter3d": [
           {
            "line": {
             "colorbar": {
              "outlinewidth": 0,
              "ticks": ""
             }
            },
            "marker": {
             "colorbar": {
              "outlinewidth": 0,
              "ticks": ""
             }
            },
            "type": "scatter3d"
           }
          ],
          "scattercarpet": [
           {
            "marker": {
             "colorbar": {
              "outlinewidth": 0,
              "ticks": ""
             }
            },
            "type": "scattercarpet"
           }
          ],
          "scattergeo": [
           {
            "marker": {
             "colorbar": {
              "outlinewidth": 0,
              "ticks": ""
             }
            },
            "type": "scattergeo"
           }
          ],
          "scattergl": [
           {
            "marker": {
             "colorbar": {
              "outlinewidth": 0,
              "ticks": ""
             }
            },
            "type": "scattergl"
           }
          ],
          "scattermapbox": [
           {
            "marker": {
             "colorbar": {
              "outlinewidth": 0,
              "ticks": ""
             }
            },
            "type": "scattermapbox"
           }
          ],
          "scatterpolar": [
           {
            "marker": {
             "colorbar": {
              "outlinewidth": 0,
              "ticks": ""
             }
            },
            "type": "scatterpolar"
           }
          ],
          "scatterpolargl": [
           {
            "marker": {
             "colorbar": {
              "outlinewidth": 0,
              "ticks": ""
             }
            },
            "type": "scatterpolargl"
           }
          ],
          "scatterternary": [
           {
            "marker": {
             "colorbar": {
              "outlinewidth": 0,
              "ticks": ""
             }
            },
            "type": "scatterternary"
           }
          ],
          "surface": [
           {
            "colorbar": {
             "outlinewidth": 0,
             "ticks": ""
            },
            "colorscale": [
             [
              0,
              "#0d0887"
             ],
             [
              0.1111111111111111,
              "#46039f"
             ],
             [
              0.2222222222222222,
              "#7201a8"
             ],
             [
              0.3333333333333333,
              "#9c179e"
             ],
             [
              0.4444444444444444,
              "#bd3786"
             ],
             [
              0.5555555555555556,
              "#d8576b"
             ],
             [
              0.6666666666666666,
              "#ed7953"
             ],
             [
              0.7777777777777778,
              "#fb9f3a"
             ],
             [
              0.8888888888888888,
              "#fdca26"
             ],
             [
              1,
              "#f0f921"
             ]
            ],
            "type": "surface"
           }
          ],
          "table": [
           {
            "cells": {
             "fill": {
              "color": "#EBF0F8"
             },
             "line": {
              "color": "white"
             }
            },
            "header": {
             "fill": {
              "color": "#C8D4E3"
             },
             "line": {
              "color": "white"
             }
            },
            "type": "table"
           }
          ]
         },
         "layout": {
          "annotationdefaults": {
           "arrowcolor": "#2a3f5f",
           "arrowhead": 0,
           "arrowwidth": 1
          },
          "autotypenumbers": "strict",
          "coloraxis": {
           "colorbar": {
            "outlinewidth": 0,
            "ticks": ""
           }
          },
          "colorscale": {
           "diverging": [
            [
             0,
             "#8e0152"
            ],
            [
             0.1,
             "#c51b7d"
            ],
            [
             0.2,
             "#de77ae"
            ],
            [
             0.3,
             "#f1b6da"
            ],
            [
             0.4,
             "#fde0ef"
            ],
            [
             0.5,
             "#f7f7f7"
            ],
            [
             0.6,
             "#e6f5d0"
            ],
            [
             0.7,
             "#b8e186"
            ],
            [
             0.8,
             "#7fbc41"
            ],
            [
             0.9,
             "#4d9221"
            ],
            [
             1,
             "#276419"
            ]
           ],
           "sequential": [
            [
             0,
             "#0d0887"
            ],
            [
             0.1111111111111111,
             "#46039f"
            ],
            [
             0.2222222222222222,
             "#7201a8"
            ],
            [
             0.3333333333333333,
             "#9c179e"
            ],
            [
             0.4444444444444444,
             "#bd3786"
            ],
            [
             0.5555555555555556,
             "#d8576b"
            ],
            [
             0.6666666666666666,
             "#ed7953"
            ],
            [
             0.7777777777777778,
             "#fb9f3a"
            ],
            [
             0.8888888888888888,
             "#fdca26"
            ],
            [
             1,
             "#f0f921"
            ]
           ],
           "sequentialminus": [
            [
             0,
             "#0d0887"
            ],
            [
             0.1111111111111111,
             "#46039f"
            ],
            [
             0.2222222222222222,
             "#7201a8"
            ],
            [
             0.3333333333333333,
             "#9c179e"
            ],
            [
             0.4444444444444444,
             "#bd3786"
            ],
            [
             0.5555555555555556,
             "#d8576b"
            ],
            [
             0.6666666666666666,
             "#ed7953"
            ],
            [
             0.7777777777777778,
             "#fb9f3a"
            ],
            [
             0.8888888888888888,
             "#fdca26"
            ],
            [
             1,
             "#f0f921"
            ]
           ]
          },
          "colorway": [
           "#636efa",
           "#EF553B",
           "#00cc96",
           "#ab63fa",
           "#FFA15A",
           "#19d3f3",
           "#FF6692",
           "#B6E880",
           "#FF97FF",
           "#FECB52"
          ],
          "font": {
           "color": "#2a3f5f"
          },
          "geo": {
           "bgcolor": "white",
           "lakecolor": "white",
           "landcolor": "#E5ECF6",
           "showlakes": true,
           "showland": true,
           "subunitcolor": "white"
          },
          "hoverlabel": {
           "align": "left"
          },
          "hovermode": "closest",
          "mapbox": {
           "style": "light"
          },
          "paper_bgcolor": "white",
          "plot_bgcolor": "#E5ECF6",
          "polar": {
           "angularaxis": {
            "gridcolor": "white",
            "linecolor": "white",
            "ticks": ""
           },
           "bgcolor": "#E5ECF6",
           "radialaxis": {
            "gridcolor": "white",
            "linecolor": "white",
            "ticks": ""
           }
          },
          "scene": {
           "xaxis": {
            "backgroundcolor": "#E5ECF6",
            "gridcolor": "white",
            "gridwidth": 2,
            "linecolor": "white",
            "showbackground": true,
            "ticks": "",
            "zerolinecolor": "white"
           },
           "yaxis": {
            "backgroundcolor": "#E5ECF6",
            "gridcolor": "white",
            "gridwidth": 2,
            "linecolor": "white",
            "showbackground": true,
            "ticks": "",
            "zerolinecolor": "white"
           },
           "zaxis": {
            "backgroundcolor": "#E5ECF6",
            "gridcolor": "white",
            "gridwidth": 2,
            "linecolor": "white",
            "showbackground": true,
            "ticks": "",
            "zerolinecolor": "white"
           }
          },
          "shapedefaults": {
           "line": {
            "color": "#2a3f5f"
           }
          },
          "ternary": {
           "aaxis": {
            "gridcolor": "white",
            "linecolor": "white",
            "ticks": ""
           },
           "baxis": {
            "gridcolor": "white",
            "linecolor": "white",
            "ticks": ""
           },
           "bgcolor": "#E5ECF6",
           "caxis": {
            "gridcolor": "white",
            "linecolor": "white",
            "ticks": ""
           }
          },
          "title": {
           "x": 0.05
          },
          "xaxis": {
           "automargin": true,
           "gridcolor": "white",
           "linecolor": "white",
           "ticks": "",
           "title": {
            "standoff": 15
           },
           "zerolinecolor": "white",
           "zerolinewidth": 2
          },
          "yaxis": {
           "automargin": true,
           "gridcolor": "white",
           "linecolor": "white",
           "ticks": "",
           "title": {
            "standoff": 15
           },
           "zerolinecolor": "white",
           "zerolinewidth": 2
          }
         }
        },
        "title": {
         "text": "Quantity vs Net Sales"
        },
        "xaxis": {
         "anchor": "y",
         "domain": [
          0,
          1
         ],
         "title": {
          "text": "Quantity"
         }
        },
        "yaxis": {
         "anchor": "x",
         "domain": [
          0,
          1
         ],
         "title": {
          "text": "Net sales"
         }
        }
       }
      }
     },
     "metadata": {},
     "output_type": "display_data"
    },
    {
     "data": {
      "application/vnd.plotly.v1+json": {
       "config": {
        "plotlyServerURL": "https://plot.ly"
       },
       "data": [
        {
         "hovertemplate": "Date=%{x}<br>Gross Profit Margin=%{y}<extra></extra>",
         "legendgroup": "",
         "line": {
          "color": "#636efa",
          "dash": "solid"
         },
         "marker": {
          "symbol": "circle"
         },
         "mode": "lines",
         "name": "",
         "orientation": "v",
         "showlegend": false,
         "type": "scatter",
         "x": [
          "2023-01-01T00:00:00",
          "2023-01-02T00:00:00",
          "2023-01-03T00:00:00",
          "2023-01-04T00:00:00",
          "2023-01-05T00:00:00",
          "2023-01-06T00:00:00",
          "2023-01-07T00:00:00",
          "2023-01-08T00:00:00",
          "2023-01-09T00:00:00",
          "2023-01-10T00:00:00",
          "2023-01-11T00:00:00",
          "2023-01-12T00:00:00",
          "2023-01-13T00:00:00",
          "2023-01-14T00:00:00",
          "2023-01-15T00:00:00",
          "2023-01-16T00:00:00",
          "2023-01-17T00:00:00",
          "2023-01-18T00:00:00",
          "2023-01-19T00:00:00",
          "2023-01-20T00:00:00",
          "2023-01-21T00:00:00",
          "2023-01-22T00:00:00",
          "2023-01-23T00:00:00",
          "2023-01-24T00:00:00",
          "2023-01-25T00:00:00",
          "2023-01-26T00:00:00",
          "2023-01-27T00:00:00",
          "2023-01-28T00:00:00",
          "2023-01-29T00:00:00",
          "2023-01-30T00:00:00",
          "2023-01-31T00:00:00",
          "2023-02-01T00:00:00",
          "2023-02-02T00:00:00",
          "2023-02-03T00:00:00",
          "2023-02-04T00:00:00",
          "2023-02-05T00:00:00",
          "2023-02-06T00:00:00",
          "2023-02-07T00:00:00",
          "2023-02-08T00:00:00",
          "2023-02-09T00:00:00",
          "2023-02-10T00:00:00",
          "2023-02-11T00:00:00",
          "2023-02-12T00:00:00",
          "2023-02-13T00:00:00",
          "2023-02-14T00:00:00",
          "2023-02-15T00:00:00",
          "2023-02-16T00:00:00",
          "2023-02-17T00:00:00",
          "2023-02-18T00:00:00",
          "2023-02-19T00:00:00",
          "2023-02-20T00:00:00",
          "2023-02-21T00:00:00",
          "2023-02-22T00:00:00",
          "2023-02-23T00:00:00",
          "2023-02-24T00:00:00",
          "2023-02-25T00:00:00",
          "2023-02-26T00:00:00",
          "2023-02-27T00:00:00",
          "2023-02-28T00:00:00",
          "2023-03-01T00:00:00",
          "2023-03-02T00:00:00",
          "2023-03-03T00:00:00",
          "2023-03-04T00:00:00",
          "2023-03-05T00:00:00",
          "2023-03-06T00:00:00",
          "2023-03-07T00:00:00",
          "2023-03-08T00:00:00",
          "2023-03-09T00:00:00",
          "2023-03-10T00:00:00",
          "2023-03-11T00:00:00",
          "2023-03-12T00:00:00",
          "2023-03-13T00:00:00",
          "2023-03-14T00:00:00",
          "2023-03-15T00:00:00",
          "2023-03-16T00:00:00",
          "2023-03-17T00:00:00",
          "2023-03-18T00:00:00",
          "2023-03-19T00:00:00",
          "2023-03-20T00:00:00",
          "2023-03-21T00:00:00",
          "2023-03-22T00:00:00",
          "2023-03-23T00:00:00",
          "2023-03-24T00:00:00",
          "2023-03-25T00:00:00",
          "2023-03-26T00:00:00",
          "2023-03-27T00:00:00",
          "2023-03-28T00:00:00",
          "2023-03-29T00:00:00",
          "2023-03-30T00:00:00",
          "2023-03-31T00:00:00",
          "2023-04-01T00:00:00",
          "2023-04-02T00:00:00",
          "2023-04-03T00:00:00",
          "2023-04-04T00:00:00",
          "2023-04-05T00:00:00",
          "2023-04-06T00:00:00",
          "2023-04-07T00:00:00",
          "2023-04-08T00:00:00",
          "2023-04-09T00:00:00",
          "2023-04-10T00:00:00",
          "2023-04-11T00:00:00",
          "2023-04-12T00:00:00",
          "2023-04-13T00:00:00",
          "2023-04-14T00:00:00",
          "2023-04-15T00:00:00",
          "2023-04-16T00:00:00",
          "2023-04-17T00:00:00",
          "2023-04-18T00:00:00",
          "2023-04-19T00:00:00",
          "2023-04-20T00:00:00",
          "2023-04-21T00:00:00",
          "2023-04-22T00:00:00",
          "2023-04-23T00:00:00",
          "2023-04-24T00:00:00",
          "2023-04-25T00:00:00",
          "2023-04-26T00:00:00",
          "2023-04-27T00:00:00",
          "2023-04-28T00:00:00",
          "2023-04-29T00:00:00",
          "2023-04-30T00:00:00",
          "2023-05-01T00:00:00",
          "2023-05-02T00:00:00",
          "2023-05-03T00:00:00",
          "2023-05-04T00:00:00",
          "2023-05-05T00:00:00",
          "2023-05-06T00:00:00",
          "2023-05-07T00:00:00",
          "2023-05-08T00:00:00",
          "2023-05-09T00:00:00",
          "2023-05-10T00:00:00",
          "2023-05-11T00:00:00",
          "2023-05-12T00:00:00",
          "2023-05-13T00:00:00",
          "2023-05-14T00:00:00",
          "2023-05-15T00:00:00",
          "2023-05-16T00:00:00",
          "2023-05-17T00:00:00",
          "2023-05-18T00:00:00",
          "2023-05-19T00:00:00",
          "2023-05-20T00:00:00",
          "2023-05-21T00:00:00",
          "2023-05-22T00:00:00",
          "2023-05-23T00:00:00",
          "2023-05-24T00:00:00",
          "2023-05-25T00:00:00",
          "2023-05-26T00:00:00",
          "2023-05-27T00:00:00",
          "2023-05-28T00:00:00",
          "2023-05-29T00:00:00",
          "2023-05-30T00:00:00",
          "2023-05-31T00:00:00",
          "2023-06-01T00:00:00",
          "2023-06-02T00:00:00",
          "2023-06-03T00:00:00",
          "2023-06-04T00:00:00",
          "2023-06-05T00:00:00",
          "2023-06-06T00:00:00",
          "2023-06-07T00:00:00",
          "2023-06-08T00:00:00",
          "2023-06-09T00:00:00",
          "2023-06-10T00:00:00",
          "2023-06-11T00:00:00",
          "2023-06-12T00:00:00",
          "2023-06-13T00:00:00",
          "2023-06-14T00:00:00",
          "2023-06-15T00:00:00",
          "2023-06-16T00:00:00",
          "2023-06-17T00:00:00",
          "2023-06-18T00:00:00",
          "2023-06-19T00:00:00",
          "2023-06-20T00:00:00",
          "2023-06-21T00:00:00",
          "2023-06-22T00:00:00",
          "2023-06-23T00:00:00",
          "2023-06-24T00:00:00",
          "2023-06-25T00:00:00",
          "2023-06-26T00:00:00",
          "2023-06-27T00:00:00",
          "2023-06-28T00:00:00",
          "2023-06-29T00:00:00",
          "2023-06-30T00:00:00",
          "2023-07-01T00:00:00",
          "2023-07-02T00:00:00",
          "2023-07-03T00:00:00",
          "2023-07-04T00:00:00",
          "2023-07-05T00:00:00",
          "2023-07-06T00:00:00",
          "2023-07-07T00:00:00",
          "2023-07-08T00:00:00",
          "2023-07-09T00:00:00",
          "2023-07-10T00:00:00",
          "2023-07-11T00:00:00",
          "2023-07-12T00:00:00",
          "2023-07-13T00:00:00",
          "2023-07-14T00:00:00",
          "2023-07-15T00:00:00",
          "2023-07-16T00:00:00",
          "2023-07-17T00:00:00",
          "2023-07-18T00:00:00",
          "2023-07-19T00:00:00",
          "2023-07-20T00:00:00",
          "2023-07-21T00:00:00",
          "2023-07-22T00:00:00",
          "2023-07-23T00:00:00",
          "2023-07-24T00:00:00",
          "2023-07-25T00:00:00",
          "2023-07-26T00:00:00",
          "2023-07-27T00:00:00",
          "2023-07-28T00:00:00",
          "2023-07-29T00:00:00",
          "2023-07-30T00:00:00",
          "2023-07-31T00:00:00",
          "2023-08-01T00:00:00",
          "2023-08-02T00:00:00",
          "2023-08-03T00:00:00",
          "2023-08-04T00:00:00",
          "2023-08-05T00:00:00",
          "2023-08-06T00:00:00",
          "2023-08-07T00:00:00",
          "2023-08-08T00:00:00",
          "2023-08-09T00:00:00",
          "2023-08-10T00:00:00",
          "2023-08-11T00:00:00",
          "2023-08-12T00:00:00",
          "2023-08-13T00:00:00",
          "2023-08-14T00:00:00",
          "2023-08-15T00:00:00",
          "2023-08-16T00:00:00",
          "2023-08-17T00:00:00",
          "2023-08-18T00:00:00",
          "2023-08-19T00:00:00",
          "2023-08-20T00:00:00",
          "2023-08-21T00:00:00",
          "2023-08-22T00:00:00",
          "2023-08-23T00:00:00",
          "2023-08-24T00:00:00",
          "2023-08-25T00:00:00",
          "2023-08-26T00:00:00",
          "2023-08-27T00:00:00",
          "2023-08-28T00:00:00",
          "2023-08-29T00:00:00",
          "2023-08-30T00:00:00",
          "2023-08-31T00:00:00",
          "2023-09-01T00:00:00",
          "2023-09-02T00:00:00",
          "2023-09-03T00:00:00",
          "2023-09-04T00:00:00",
          "2023-09-05T00:00:00",
          "2023-09-06T00:00:00",
          "2023-09-07T00:00:00",
          "2023-09-08T00:00:00",
          "2023-09-09T00:00:00",
          "2023-09-10T00:00:00",
          "2023-09-11T00:00:00",
          "2023-09-12T00:00:00",
          "2023-09-13T00:00:00",
          "2023-09-14T00:00:00",
          "2023-09-15T00:00:00",
          "2023-09-16T00:00:00",
          "2023-09-17T00:00:00",
          "2023-09-18T00:00:00",
          "2023-09-19T00:00:00",
          "2023-09-20T00:00:00",
          "2023-09-21T00:00:00",
          "2023-09-22T00:00:00",
          "2023-09-23T00:00:00",
          "2023-09-24T00:00:00",
          "2023-09-25T00:00:00",
          "2023-09-26T00:00:00",
          "2023-09-27T00:00:00",
          "2023-09-28T00:00:00",
          "2023-09-29T00:00:00",
          "2023-09-30T00:00:00",
          "2023-10-01T00:00:00",
          "2023-10-02T00:00:00",
          "2023-10-03T00:00:00",
          "2023-10-04T00:00:00",
          "2023-10-05T00:00:00",
          "2023-10-06T00:00:00",
          "2023-10-07T00:00:00",
          "2023-10-08T00:00:00",
          "2023-10-09T00:00:00",
          "2023-10-10T00:00:00",
          "2023-10-11T00:00:00",
          "2023-10-12T00:00:00",
          "2023-10-13T00:00:00",
          "2023-10-14T00:00:00",
          "2023-10-15T00:00:00",
          "2023-10-16T00:00:00",
          "2023-10-17T00:00:00",
          "2023-10-18T00:00:00",
          "2023-10-19T00:00:00",
          "2023-10-20T00:00:00",
          "2023-10-21T00:00:00",
          "2023-10-22T00:00:00",
          "2023-10-23T00:00:00",
          "2023-10-24T00:00:00",
          "2023-10-25T00:00:00",
          "2023-10-26T00:00:00",
          "2023-10-27T00:00:00",
          "2023-10-28T00:00:00",
          "2023-10-29T00:00:00",
          "2023-10-30T00:00:00",
          "2023-10-31T00:00:00",
          "2023-11-01T00:00:00",
          "2023-11-02T00:00:00",
          "2023-11-03T00:00:00",
          "2023-11-04T00:00:00",
          "2023-11-05T00:00:00",
          "2023-11-06T00:00:00",
          "2023-11-07T00:00:00",
          "2023-11-08T00:00:00",
          "2023-11-09T00:00:00",
          "2023-11-10T00:00:00",
          "2023-11-11T00:00:00",
          "2023-11-12T00:00:00",
          "2023-11-13T00:00:00",
          "2023-11-14T00:00:00",
          "2023-11-15T00:00:00",
          "2023-11-16T00:00:00",
          "2023-11-17T00:00:00",
          "2023-11-18T00:00:00",
          "2023-11-19T00:00:00",
          "2023-11-20T00:00:00",
          "2023-11-21T00:00:00",
          "2023-11-22T00:00:00",
          "2023-11-23T00:00:00",
          "2023-11-24T00:00:00",
          "2023-11-25T00:00:00",
          "2023-11-26T00:00:00",
          "2023-11-27T00:00:00",
          "2023-11-28T00:00:00",
          "2023-11-29T00:00:00",
          "2023-11-30T00:00:00",
          "2023-12-01T00:00:00",
          "2023-12-02T00:00:00",
          "2023-12-03T00:00:00",
          "2023-12-04T00:00:00",
          "2023-12-05T00:00:00",
          "2023-12-06T00:00:00",
          "2023-12-07T00:00:00",
          "2023-12-08T00:00:00",
          "2023-12-09T00:00:00",
          "2023-12-10T00:00:00",
          "2023-12-11T00:00:00",
          "2023-12-12T00:00:00",
          "2023-12-13T00:00:00",
          "2023-12-14T00:00:00",
          "2023-12-15T00:00:00",
          "2023-12-16T00:00:00",
          "2023-12-17T00:00:00",
          "2023-12-18T00:00:00",
          "2023-12-19T00:00:00",
          "2023-12-20T00:00:00",
          "2023-12-21T00:00:00",
          "2023-12-22T00:00:00",
          "2023-12-23T00:00:00",
          "2023-12-24T00:00:00",
          "2023-12-25T00:00:00",
          "2023-12-26T00:00:00",
          "2023-12-27T00:00:00",
          "2023-12-28T00:00:00",
          "2023-12-29T00:00:00",
          "2023-12-30T00:00:00",
          "2023-12-31T00:00:00"
         ],
         "xaxis": "x",
         "y": [
          0.764367816091954,
          0.7656012176560122,
          0.7603222557905337,
          0.7647849462365591,
          0.7620915032679738,
          0.7628554143980641,
          0.7652197245244768,
          0.7642276422764228,
          0.7637130801687764,
          0.7666666666666667,
          0.7666666666666667,
          0.7636363636363637,
          0.7651677373304783,
          0.7632850241545893,
          0.7635555555555555,
          0.7666666666666667,
          0.7666666666666667,
          0.7666666666666667,
          0.7666666666666667,
          0.7574387947269303,
          0.7576564580559254,
          0.75177304964539,
          0.7586206896551724,
          0.7625730994152047,
          0.7570317175344106,
          0.7659916425586628,
          0.7646017699115044,
          0.7649880095923262,
          0.7666666666666667,
          0.7666666666666667,
          0.7654941373534339,
          0.7525252525252525,
          0.7666666666666667,
          0.7666666666666667,
          0.7615571776155717,
          0.7666666666666667,
          0.7603603603603604,
          0.7617021276595745,
          0.7413155949741316,
          0.7629233511586453,
          0.7631840796019901,
          0.7540702656383891,
          0.7618469015795869,
          0.7634136037177862,
          0.7620751341681574,
          0.7574497574497574,
          0.7654941373534339,
          0.7631840796019901,
          0.7556980056980057,
          0.7601246105919003,
          0.751269035532995,
          0.7556719022687609,
          0.7582582582582582,
          0.7580246913580246,
          0.7657295850066934,
          0.7666666666666667,
          0.7666666666666667,
          0.748314606741573,
          0.7620915032679738,
          0.7502347417840376,
          0.7486124714332354,
          0.7576656775469832,
          0.7634408602150538,
          0.7561869844179652,
          0.7525252525252525,
          0.7631313131313131,
          0.7586206896551724,
          0.7608494921514312,
          0.7652859960552268,
          0.6897001303780965,
          0.7640117994100295,
          0.7655677655677655,
          0.7630397236614853,
          0.7645895153313551,
          0.7525252525252525,
          0.7538677918424754,
          0.7625968992248062,
          0.7572254335260116,
          0.745685740236149,
          0.7637130801687764,
          0.7556306306306306,
          0.7666666666666667,
          0.7547087166009636,
          0.7611111111111111,
          0.7647058823529411,
          0.7666666666666667,
          0.7543859649122807,
          0.7648578811369509,
          0.7666666666666667,
          0.7666666666666667,
          0.7666666666666667,
          0.7666666666666667,
          0.7666666666666667,
          0.7581818181818182,
          0.7454545454545455,
          0.762962962962963,
          0.7617021276595745,
          0.7666666666666667,
          0.7666666666666667,
          0.7666666666666667,
          0.754054054054054,
          0.7666666666666667,
          0.7666666666666667,
          0.7666666666666667,
          0.7666666666666667,
          0.7196190476190476,
          0.7044444444444445,
          0.6883636363636364,
          0.6653333333333333,
          0.6653333333333333,
          0.6653333333333334,
          0.6619183673469389,
          0.6576692111959287,
          0.6492263814616757,
          0.6591926605504587,
          0.6479480519480519,
          0.6535906432748538,
          0.6513053892215569,
          0.6575503875968993,
          0.6374444444444445,
          0.6653333333333333,
          0.6442282282282283,
          0.6294761904761904,
          0.652559796437659,
          0.6375804878048781,
          0.6537931034482759,
          0.6515799086757991,
          0.6653333333333333,
          0.6653333333333334,
          0.6653333333333334,
          0.6653333333333334,
          0.6653333333333333,
          0.6653333333333333,
          0.6653333333333333,
          0.6653333333333334,
          0.6653333333333333,
          0.6653333333333333,
          0.6653333333333333,
          0.6653333333333333,
          0.6653333333333334,
          0.6653333333333333,
          0.6653333333333334,
          0.6653333333333333,
          0.6653333333333333,
          0.6653333333333334,
          0.6653333333333334,
          0.6653333333333333,
          0.6653333333333333,
          0.6653333333333333,
          0.6653333333333333,
          0.6653333333333334,
          0.6653333333333333,
          0.6653333333333333,
          0.6653333333333333,
          0.6653333333333333,
          0.6653333333333334,
          0.6653333333333334,
          0.6653333333333333,
          0.6653333333333333,
          0.6653333333333334,
          0.6653333333333333,
          0.6653333333333334,
          0.6653333333333333,
          0.6653333333333334,
          0.6653333333333333,
          0.6653333333333333,
          0.6653333333333333,
          0.6653333333333333,
          0.6653333333333333,
          0.6653333333333334,
          0.6653333333333334,
          0.6653333333333333,
          0.6653333333333333,
          0.6653333333333333,
          0.6653333333333333,
          0.6653333333333333,
          0.6653333333333333,
          0.6653333333333333,
          0.6653333333333333,
          0.6653333333333333,
          0.6653333333333333,
          0.6653333333333333,
          0.6653333333333334,
          0.6653333333333334,
          0.6653333333333333,
          0.6653333333333333,
          0.6653333333333333,
          0.6653333333333333,
          0.6653333333333333,
          0.6653333333333333,
          0.6653333333333334,
          0.6653333333333333,
          0.6653333333333333,
          0.729816091954023,
          0.79,
          0.7857317073170731,
          0.78,
          0.7799999999999999,
          0.7799999999999999,
          0.7799999999999999,
          0.7799999999999999,
          0.78,
          0.78,
          0.7799999999999999,
          0.7799999999999999,
          0.7799999999999999,
          0.7799999999999999,
          0.7799999999999999,
          0.7799999999999999,
          0.7799999999999999,
          0.7799999999999999,
          0.78,
          0.78,
          0.78,
          0.7799999999999999,
          0.78,
          0.7799999999999999,
          0.7799999999999999,
          0.78,
          0.7799999999999999,
          0.78,
          0.7799999999999999,
          0.78,
          0.7799999999999999,
          0.7799999999999999,
          0.7799999999999999,
          0.78,
          0.78,
          0.7799999999999999,
          0.7799999999999999,
          0.7799999999999999,
          0.78,
          0.78,
          0.7799999999999999,
          0.78,
          0.7799999999999999,
          0.7799999999999999,
          0.7799999999999999,
          0.7799999999999999,
          0.7799999999999999,
          0.7799999999999999,
          0.78,
          0.78,
          0.78,
          0.7799999999999999,
          0.7799999999999999,
          0.7799999999999999,
          0.7799999999999999,
          0.78,
          0.78,
          0.7799999999999999,
          0.78,
          0.78,
          0.78,
          0.78,
          0.7759259259259259,
          0.7799999999999999,
          0.7799999999999999,
          0.7799999999999999,
          0.7799999999999999,
          0.7799999999999999,
          0.78,
          0.7799999999999999,
          0.7799999999999999,
          0.758,
          0.7127461139896374,
          0.7526797385620915,
          0.7799999999999999,
          0.78,
          0.7799999999999999,
          0.78,
          0.78,
          0.7799999999999999,
          0.7799999999999999,
          0.7799999999999999,
          0.7799999999999999,
          0.7799999999999999,
          0.78,
          0.78,
          0.78,
          0.7799999999999999,
          0.7799999999999999,
          0.7799999999999999,
          0.78,
          0.7799999999999999,
          0.78,
          0.78,
          0.7799999999999999,
          0.7799999999999999,
          0.7799999999999999,
          0.78,
          0.7628440366972477,
          0.7662020905923345,
          0.7764516129032258,
          0.7799999999999999,
          0.7799999999999999,
          0.7799999999999999,
          0.7799999999999999,
          0.7799999999999999,
          0.7799999999999999,
          0.7799999999999999,
          0.78,
          0.78,
          0.7799999999999999,
          0.78,
          0.78,
          0.7799999999999999,
          0.7799999999999999,
          0.7799999999999999,
          0.78,
          0.78,
          0.7799999999999999,
          0.774054054054054,
          0.7799999999999999,
          0.7695238095238095,
          0.7766153846153846,
          0.7799999999999999,
          0.7799999999999999,
          0.7774117647058822,
          0.7708333333333334,
          0.7746341463414633,
          0.7799999999999999,
          0.7756862745098039,
          0.7758490566037736,
          0.7766153846153846,
          0.67,
          0.7701785714285714,
          0.7777777777777778,
          0.7799999999999999,
          0.7799999999999999,
          0.7766153846153846,
          0.7799999999999999,
          0.78,
          0.7711999999999999,
          0.7775280898876404,
          0.7775824175824175,
          0.7768115942028986,
          0.7746341463414633,
          0.7799999999999999,
          0.7769014084507042,
          0.7745454545454545,
          0.7799999999999999,
          0.7779816513761468,
          0.776986301369863,
          0.7739449541284403,
          0.7799999999999999,
          0.7658064516129032,
          0.7662499999999999,
          0.78,
          0.7758490566037736,
          0.7799999999999999,
          0.78,
          0.7799999999999999,
          0.7721428571428571,
          0.7555555555555555,
          0.7799999999999999,
          0.78,
          0.7799999999999999,
          0.774054054054054,
          0.7775280898876404,
          0.7799999999999999,
          0.78,
          0.7763934426229508,
          0.7762711864406779,
          0.7646511627906977
         ],
         "yaxis": "y"
        }
       ],
       "layout": {
        "legend": {
         "tracegroupgap": 0
        },
        "template": {
         "data": {
          "bar": [
           {
            "error_x": {
             "color": "#2a3f5f"
            },
            "error_y": {
             "color": "#2a3f5f"
            },
            "marker": {
             "line": {
              "color": "#E5ECF6",
              "width": 0.5
             },
             "pattern": {
              "fillmode": "overlay",
              "size": 10,
              "solidity": 0.2
             }
            },
            "type": "bar"
           }
          ],
          "barpolar": [
           {
            "marker": {
             "line": {
              "color": "#E5ECF6",
              "width": 0.5
             },
             "pattern": {
              "fillmode": "overlay",
              "size": 10,
              "solidity": 0.2
             }
            },
            "type": "barpolar"
           }
          ],
          "carpet": [
           {
            "aaxis": {
             "endlinecolor": "#2a3f5f",
             "gridcolor": "white",
             "linecolor": "white",
             "minorgridcolor": "white",
             "startlinecolor": "#2a3f5f"
            },
            "baxis": {
             "endlinecolor": "#2a3f5f",
             "gridcolor": "white",
             "linecolor": "white",
             "minorgridcolor": "white",
             "startlinecolor": "#2a3f5f"
            },
            "type": "carpet"
           }
          ],
          "choropleth": [
           {
            "colorbar": {
             "outlinewidth": 0,
             "ticks": ""
            },
            "type": "choropleth"
           }
          ],
          "contour": [
           {
            "colorbar": {
             "outlinewidth": 0,
             "ticks": ""
            },
            "colorscale": [
             [
              0,
              "#0d0887"
             ],
             [
              0.1111111111111111,
              "#46039f"
             ],
             [
              0.2222222222222222,
              "#7201a8"
             ],
             [
              0.3333333333333333,
              "#9c179e"
             ],
             [
              0.4444444444444444,
              "#bd3786"
             ],
             [
              0.5555555555555556,
              "#d8576b"
             ],
             [
              0.6666666666666666,
              "#ed7953"
             ],
             [
              0.7777777777777778,
              "#fb9f3a"
             ],
             [
              0.8888888888888888,
              "#fdca26"
             ],
             [
              1,
              "#f0f921"
             ]
            ],
            "type": "contour"
           }
          ],
          "contourcarpet": [
           {
            "colorbar": {
             "outlinewidth": 0,
             "ticks": ""
            },
            "type": "contourcarpet"
           }
          ],
          "heatmap": [
           {
            "colorbar": {
             "outlinewidth": 0,
             "ticks": ""
            },
            "colorscale": [
             [
              0,
              "#0d0887"
             ],
             [
              0.1111111111111111,
              "#46039f"
             ],
             [
              0.2222222222222222,
              "#7201a8"
             ],
             [
              0.3333333333333333,
              "#9c179e"
             ],
             [
              0.4444444444444444,
              "#bd3786"
             ],
             [
              0.5555555555555556,
              "#d8576b"
             ],
             [
              0.6666666666666666,
              "#ed7953"
             ],
             [
              0.7777777777777778,
              "#fb9f3a"
             ],
             [
              0.8888888888888888,
              "#fdca26"
             ],
             [
              1,
              "#f0f921"
             ]
            ],
            "type": "heatmap"
           }
          ],
          "heatmapgl": [
           {
            "colorbar": {
             "outlinewidth": 0,
             "ticks": ""
            },
            "colorscale": [
             [
              0,
              "#0d0887"
             ],
             [
              0.1111111111111111,
              "#46039f"
             ],
             [
              0.2222222222222222,
              "#7201a8"
             ],
             [
              0.3333333333333333,
              "#9c179e"
             ],
             [
              0.4444444444444444,
              "#bd3786"
             ],
             [
              0.5555555555555556,
              "#d8576b"
             ],
             [
              0.6666666666666666,
              "#ed7953"
             ],
             [
              0.7777777777777778,
              "#fb9f3a"
             ],
             [
              0.8888888888888888,
              "#fdca26"
             ],
             [
              1,
              "#f0f921"
             ]
            ],
            "type": "heatmapgl"
           }
          ],
          "histogram": [
           {
            "marker": {
             "pattern": {
              "fillmode": "overlay",
              "size": 10,
              "solidity": 0.2
             }
            },
            "type": "histogram"
           }
          ],
          "histogram2d": [
           {
            "colorbar": {
             "outlinewidth": 0,
             "ticks": ""
            },
            "colorscale": [
             [
              0,
              "#0d0887"
             ],
             [
              0.1111111111111111,
              "#46039f"
             ],
             [
              0.2222222222222222,
              "#7201a8"
             ],
             [
              0.3333333333333333,
              "#9c179e"
             ],
             [
              0.4444444444444444,
              "#bd3786"
             ],
             [
              0.5555555555555556,
              "#d8576b"
             ],
             [
              0.6666666666666666,
              "#ed7953"
             ],
             [
              0.7777777777777778,
              "#fb9f3a"
             ],
             [
              0.8888888888888888,
              "#fdca26"
             ],
             [
              1,
              "#f0f921"
             ]
            ],
            "type": "histogram2d"
           }
          ],
          "histogram2dcontour": [
           {
            "colorbar": {
             "outlinewidth": 0,
             "ticks": ""
            },
            "colorscale": [
             [
              0,
              "#0d0887"
             ],
             [
              0.1111111111111111,
              "#46039f"
             ],
             [
              0.2222222222222222,
              "#7201a8"
             ],
             [
              0.3333333333333333,
              "#9c179e"
             ],
             [
              0.4444444444444444,
              "#bd3786"
             ],
             [
              0.5555555555555556,
              "#d8576b"
             ],
             [
              0.6666666666666666,
              "#ed7953"
             ],
             [
              0.7777777777777778,
              "#fb9f3a"
             ],
             [
              0.8888888888888888,
              "#fdca26"
             ],
             [
              1,
              "#f0f921"
             ]
            ],
            "type": "histogram2dcontour"
           }
          ],
          "mesh3d": [
           {
            "colorbar": {
             "outlinewidth": 0,
             "ticks": ""
            },
            "type": "mesh3d"
           }
          ],
          "parcoords": [
           {
            "line": {
             "colorbar": {
              "outlinewidth": 0,
              "ticks": ""
             }
            },
            "type": "parcoords"
           }
          ],
          "pie": [
           {
            "automargin": true,
            "type": "pie"
           }
          ],
          "scatter": [
           {
            "fillpattern": {
             "fillmode": "overlay",
             "size": 10,
             "solidity": 0.2
            },
            "type": "scatter"
           }
          ],
          "scatter3d": [
           {
            "line": {
             "colorbar": {
              "outlinewidth": 0,
              "ticks": ""
             }
            },
            "marker": {
             "colorbar": {
              "outlinewidth": 0,
              "ticks": ""
             }
            },
            "type": "scatter3d"
           }
          ],
          "scattercarpet": [
           {
            "marker": {
             "colorbar": {
              "outlinewidth": 0,
              "ticks": ""
             }
            },
            "type": "scattercarpet"
           }
          ],
          "scattergeo": [
           {
            "marker": {
             "colorbar": {
              "outlinewidth": 0,
              "ticks": ""
             }
            },
            "type": "scattergeo"
           }
          ],
          "scattergl": [
           {
            "marker": {
             "colorbar": {
              "outlinewidth": 0,
              "ticks": ""
             }
            },
            "type": "scattergl"
           }
          ],
          "scattermapbox": [
           {
            "marker": {
             "colorbar": {
              "outlinewidth": 0,
              "ticks": ""
             }
            },
            "type": "scattermapbox"
           }
          ],
          "scatterpolar": [
           {
            "marker": {
             "colorbar": {
              "outlinewidth": 0,
              "ticks": ""
             }
            },
            "type": "scatterpolar"
           }
          ],
          "scatterpolargl": [
           {
            "marker": {
             "colorbar": {
              "outlinewidth": 0,
              "ticks": ""
             }
            },
            "type": "scatterpolargl"
           }
          ],
          "scatterternary": [
           {
            "marker": {
             "colorbar": {
              "outlinewidth": 0,
              "ticks": ""
             }
            },
            "type": "scatterternary"
           }
          ],
          "surface": [
           {
            "colorbar": {
             "outlinewidth": 0,
             "ticks": ""
            },
            "colorscale": [
             [
              0,
              "#0d0887"
             ],
             [
              0.1111111111111111,
              "#46039f"
             ],
             [
              0.2222222222222222,
              "#7201a8"
             ],
             [
              0.3333333333333333,
              "#9c179e"
             ],
             [
              0.4444444444444444,
              "#bd3786"
             ],
             [
              0.5555555555555556,
              "#d8576b"
             ],
             [
              0.6666666666666666,
              "#ed7953"
             ],
             [
              0.7777777777777778,
              "#fb9f3a"
             ],
             [
              0.8888888888888888,
              "#fdca26"
             ],
             [
              1,
              "#f0f921"
             ]
            ],
            "type": "surface"
           }
          ],
          "table": [
           {
            "cells": {
             "fill": {
              "color": "#EBF0F8"
             },
             "line": {
              "color": "white"
             }
            },
            "header": {
             "fill": {
              "color": "#C8D4E3"
             },
             "line": {
              "color": "white"
             }
            },
            "type": "table"
           }
          ]
         },
         "layout": {
          "annotationdefaults": {
           "arrowcolor": "#2a3f5f",
           "arrowhead": 0,
           "arrowwidth": 1
          },
          "autotypenumbers": "strict",
          "coloraxis": {
           "colorbar": {
            "outlinewidth": 0,
            "ticks": ""
           }
          },
          "colorscale": {
           "diverging": [
            [
             0,
             "#8e0152"
            ],
            [
             0.1,
             "#c51b7d"
            ],
            [
             0.2,
             "#de77ae"
            ],
            [
             0.3,
             "#f1b6da"
            ],
            [
             0.4,
             "#fde0ef"
            ],
            [
             0.5,
             "#f7f7f7"
            ],
            [
             0.6,
             "#e6f5d0"
            ],
            [
             0.7,
             "#b8e186"
            ],
            [
             0.8,
             "#7fbc41"
            ],
            [
             0.9,
             "#4d9221"
            ],
            [
             1,
             "#276419"
            ]
           ],
           "sequential": [
            [
             0,
             "#0d0887"
            ],
            [
             0.1111111111111111,
             "#46039f"
            ],
            [
             0.2222222222222222,
             "#7201a8"
            ],
            [
             0.3333333333333333,
             "#9c179e"
            ],
            [
             0.4444444444444444,
             "#bd3786"
            ],
            [
             0.5555555555555556,
             "#d8576b"
            ],
            [
             0.6666666666666666,
             "#ed7953"
            ],
            [
             0.7777777777777778,
             "#fb9f3a"
            ],
            [
             0.8888888888888888,
             "#fdca26"
            ],
            [
             1,
             "#f0f921"
            ]
           ],
           "sequentialminus": [
            [
             0,
             "#0d0887"
            ],
            [
             0.1111111111111111,
             "#46039f"
            ],
            [
             0.2222222222222222,
             "#7201a8"
            ],
            [
             0.3333333333333333,
             "#9c179e"
            ],
            [
             0.4444444444444444,
             "#bd3786"
            ],
            [
             0.5555555555555556,
             "#d8576b"
            ],
            [
             0.6666666666666666,
             "#ed7953"
            ],
            [
             0.7777777777777778,
             "#fb9f3a"
            ],
            [
             0.8888888888888888,
             "#fdca26"
            ],
            [
             1,
             "#f0f921"
            ]
           ]
          },
          "colorway": [
           "#636efa",
           "#EF553B",
           "#00cc96",
           "#ab63fa",
           "#FFA15A",
           "#19d3f3",
           "#FF6692",
           "#B6E880",
           "#FF97FF",
           "#FECB52"
          ],
          "font": {
           "color": "#2a3f5f"
          },
          "geo": {
           "bgcolor": "white",
           "lakecolor": "white",
           "landcolor": "#E5ECF6",
           "showlakes": true,
           "showland": true,
           "subunitcolor": "white"
          },
          "hoverlabel": {
           "align": "left"
          },
          "hovermode": "closest",
          "mapbox": {
           "style": "light"
          },
          "paper_bgcolor": "white",
          "plot_bgcolor": "#E5ECF6",
          "polar": {
           "angularaxis": {
            "gridcolor": "white",
            "linecolor": "white",
            "ticks": ""
           },
           "bgcolor": "#E5ECF6",
           "radialaxis": {
            "gridcolor": "white",
            "linecolor": "white",
            "ticks": ""
           }
          },
          "scene": {
           "xaxis": {
            "backgroundcolor": "#E5ECF6",
            "gridcolor": "white",
            "gridwidth": 2,
            "linecolor": "white",
            "showbackground": true,
            "ticks": "",
            "zerolinecolor": "white"
           },
           "yaxis": {
            "backgroundcolor": "#E5ECF6",
            "gridcolor": "white",
            "gridwidth": 2,
            "linecolor": "white",
            "showbackground": true,
            "ticks": "",
            "zerolinecolor": "white"
           },
           "zaxis": {
            "backgroundcolor": "#E5ECF6",
            "gridcolor": "white",
            "gridwidth": 2,
            "linecolor": "white",
            "showbackground": true,
            "ticks": "",
            "zerolinecolor": "white"
           }
          },
          "shapedefaults": {
           "line": {
            "color": "#2a3f5f"
           }
          },
          "ternary": {
           "aaxis": {
            "gridcolor": "white",
            "linecolor": "white",
            "ticks": ""
           },
           "baxis": {
            "gridcolor": "white",
            "linecolor": "white",
            "ticks": ""
           },
           "bgcolor": "#E5ECF6",
           "caxis": {
            "gridcolor": "white",
            "linecolor": "white",
            "ticks": ""
           }
          },
          "title": {
           "x": 0.05
          },
          "xaxis": {
           "automargin": true,
           "gridcolor": "white",
           "linecolor": "white",
           "ticks": "",
           "title": {
            "standoff": 15
           },
           "zerolinecolor": "white",
           "zerolinewidth": 2
          },
          "yaxis": {
           "automargin": true,
           "gridcolor": "white",
           "linecolor": "white",
           "ticks": "",
           "title": {
            "standoff": 15
           },
           "zerolinecolor": "white",
           "zerolinewidth": 2
          }
         }
        },
        "title": {
         "text": "Gross Profit Margin Over Time"
        },
        "xaxis": {
         "anchor": "y",
         "domain": [
          0,
          1
         ],
         "title": {
          "text": "Date"
         }
        },
        "yaxis": {
         "anchor": "x",
         "domain": [
          0,
          1
         ],
         "title": {
          "text": "Gross Profit Margin"
         }
        }
       }
      }
     },
     "metadata": {},
     "output_type": "display_data"
    },
    {
     "data": {
      "application/vnd.plotly.v1+json": {
       "config": {
        "plotlyServerURL": "https://plot.ly"
       },
       "data": [
        {
         "alignmentgroup": "True",
         "hovertemplate": "Date=%{x}<br>Net sales=%{y}<extra></extra>",
         "legendgroup": "",
         "marker": {
          "color": "#636efa",
          "pattern": {
           "shape": ""
          }
         },
         "name": "",
         "offsetgroup": "",
         "orientation": "v",
         "showlegend": false,
         "textposition": "auto",
         "type": "bar",
         "x": [
          "2023-05-25T00:00:00",
          "2023-09-02T00:00:00",
          "2023-05-27T00:00:00",
          "2023-05-29T00:00:00",
          "2023-05-24T00:00:00",
          "2023-05-13T00:00:00",
          "2023-05-26T00:00:00",
          "2023-05-19T00:00:00",
          "2023-06-29T00:00:00",
          "2023-06-02T00:00:00"
         ],
         "xaxis": "x",
         "y": [
          2385,
          1905,
          1890,
          1890,
          1875,
          1845,
          1800,
          1740,
          1740,
          1695
         ],
         "yaxis": "y"
        }
       ],
       "layout": {
        "barmode": "relative",
        "legend": {
         "tracegroupgap": 0
        },
        "template": {
         "data": {
          "bar": [
           {
            "error_x": {
             "color": "#2a3f5f"
            },
            "error_y": {
             "color": "#2a3f5f"
            },
            "marker": {
             "line": {
              "color": "#E5ECF6",
              "width": 0.5
             },
             "pattern": {
              "fillmode": "overlay",
              "size": 10,
              "solidity": 0.2
             }
            },
            "type": "bar"
           }
          ],
          "barpolar": [
           {
            "marker": {
             "line": {
              "color": "#E5ECF6",
              "width": 0.5
             },
             "pattern": {
              "fillmode": "overlay",
              "size": 10,
              "solidity": 0.2
             }
            },
            "type": "barpolar"
           }
          ],
          "carpet": [
           {
            "aaxis": {
             "endlinecolor": "#2a3f5f",
             "gridcolor": "white",
             "linecolor": "white",
             "minorgridcolor": "white",
             "startlinecolor": "#2a3f5f"
            },
            "baxis": {
             "endlinecolor": "#2a3f5f",
             "gridcolor": "white",
             "linecolor": "white",
             "minorgridcolor": "white",
             "startlinecolor": "#2a3f5f"
            },
            "type": "carpet"
           }
          ],
          "choropleth": [
           {
            "colorbar": {
             "outlinewidth": 0,
             "ticks": ""
            },
            "type": "choropleth"
           }
          ],
          "contour": [
           {
            "colorbar": {
             "outlinewidth": 0,
             "ticks": ""
            },
            "colorscale": [
             [
              0,
              "#0d0887"
             ],
             [
              0.1111111111111111,
              "#46039f"
             ],
             [
              0.2222222222222222,
              "#7201a8"
             ],
             [
              0.3333333333333333,
              "#9c179e"
             ],
             [
              0.4444444444444444,
              "#bd3786"
             ],
             [
              0.5555555555555556,
              "#d8576b"
             ],
             [
              0.6666666666666666,
              "#ed7953"
             ],
             [
              0.7777777777777778,
              "#fb9f3a"
             ],
             [
              0.8888888888888888,
              "#fdca26"
             ],
             [
              1,
              "#f0f921"
             ]
            ],
            "type": "contour"
           }
          ],
          "contourcarpet": [
           {
            "colorbar": {
             "outlinewidth": 0,
             "ticks": ""
            },
            "type": "contourcarpet"
           }
          ],
          "heatmap": [
           {
            "colorbar": {
             "outlinewidth": 0,
             "ticks": ""
            },
            "colorscale": [
             [
              0,
              "#0d0887"
             ],
             [
              0.1111111111111111,
              "#46039f"
             ],
             [
              0.2222222222222222,
              "#7201a8"
             ],
             [
              0.3333333333333333,
              "#9c179e"
             ],
             [
              0.4444444444444444,
              "#bd3786"
             ],
             [
              0.5555555555555556,
              "#d8576b"
             ],
             [
              0.6666666666666666,
              "#ed7953"
             ],
             [
              0.7777777777777778,
              "#fb9f3a"
             ],
             [
              0.8888888888888888,
              "#fdca26"
             ],
             [
              1,
              "#f0f921"
             ]
            ],
            "type": "heatmap"
           }
          ],
          "heatmapgl": [
           {
            "colorbar": {
             "outlinewidth": 0,
             "ticks": ""
            },
            "colorscale": [
             [
              0,
              "#0d0887"
             ],
             [
              0.1111111111111111,
              "#46039f"
             ],
             [
              0.2222222222222222,
              "#7201a8"
             ],
             [
              0.3333333333333333,
              "#9c179e"
             ],
             [
              0.4444444444444444,
              "#bd3786"
             ],
             [
              0.5555555555555556,
              "#d8576b"
             ],
             [
              0.6666666666666666,
              "#ed7953"
             ],
             [
              0.7777777777777778,
              "#fb9f3a"
             ],
             [
              0.8888888888888888,
              "#fdca26"
             ],
             [
              1,
              "#f0f921"
             ]
            ],
            "type": "heatmapgl"
           }
          ],
          "histogram": [
           {
            "marker": {
             "pattern": {
              "fillmode": "overlay",
              "size": 10,
              "solidity": 0.2
             }
            },
            "type": "histogram"
           }
          ],
          "histogram2d": [
           {
            "colorbar": {
             "outlinewidth": 0,
             "ticks": ""
            },
            "colorscale": [
             [
              0,
              "#0d0887"
             ],
             [
              0.1111111111111111,
              "#46039f"
             ],
             [
              0.2222222222222222,
              "#7201a8"
             ],
             [
              0.3333333333333333,
              "#9c179e"
             ],
             [
              0.4444444444444444,
              "#bd3786"
             ],
             [
              0.5555555555555556,
              "#d8576b"
             ],
             [
              0.6666666666666666,
              "#ed7953"
             ],
             [
              0.7777777777777778,
              "#fb9f3a"
             ],
             [
              0.8888888888888888,
              "#fdca26"
             ],
             [
              1,
              "#f0f921"
             ]
            ],
            "type": "histogram2d"
           }
          ],
          "histogram2dcontour": [
           {
            "colorbar": {
             "outlinewidth": 0,
             "ticks": ""
            },
            "colorscale": [
             [
              0,
              "#0d0887"
             ],
             [
              0.1111111111111111,
              "#46039f"
             ],
             [
              0.2222222222222222,
              "#7201a8"
             ],
             [
              0.3333333333333333,
              "#9c179e"
             ],
             [
              0.4444444444444444,
              "#bd3786"
             ],
             [
              0.5555555555555556,
              "#d8576b"
             ],
             [
              0.6666666666666666,
              "#ed7953"
             ],
             [
              0.7777777777777778,
              "#fb9f3a"
             ],
             [
              0.8888888888888888,
              "#fdca26"
             ],
             [
              1,
              "#f0f921"
             ]
            ],
            "type": "histogram2dcontour"
           }
          ],
          "mesh3d": [
           {
            "colorbar": {
             "outlinewidth": 0,
             "ticks": ""
            },
            "type": "mesh3d"
           }
          ],
          "parcoords": [
           {
            "line": {
             "colorbar": {
              "outlinewidth": 0,
              "ticks": ""
             }
            },
            "type": "parcoords"
           }
          ],
          "pie": [
           {
            "automargin": true,
            "type": "pie"
           }
          ],
          "scatter": [
           {
            "fillpattern": {
             "fillmode": "overlay",
             "size": 10,
             "solidity": 0.2
            },
            "type": "scatter"
           }
          ],
          "scatter3d": [
           {
            "line": {
             "colorbar": {
              "outlinewidth": 0,
              "ticks": ""
             }
            },
            "marker": {
             "colorbar": {
              "outlinewidth": 0,
              "ticks": ""
             }
            },
            "type": "scatter3d"
           }
          ],
          "scattercarpet": [
           {
            "marker": {
             "colorbar": {
              "outlinewidth": 0,
              "ticks": ""
             }
            },
            "type": "scattercarpet"
           }
          ],
          "scattergeo": [
           {
            "marker": {
             "colorbar": {
              "outlinewidth": 0,
              "ticks": ""
             }
            },
            "type": "scattergeo"
           }
          ],
          "scattergl": [
           {
            "marker": {
             "colorbar": {
              "outlinewidth": 0,
              "ticks": ""
             }
            },
            "type": "scattergl"
           }
          ],
          "scattermapbox": [
           {
            "marker": {
             "colorbar": {
              "outlinewidth": 0,
              "ticks": ""
             }
            },
            "type": "scattermapbox"
           }
          ],
          "scatterpolar": [
           {
            "marker": {
             "colorbar": {
              "outlinewidth": 0,
              "ticks": ""
             }
            },
            "type": "scatterpolar"
           }
          ],
          "scatterpolargl": [
           {
            "marker": {
             "colorbar": {
              "outlinewidth": 0,
              "ticks": ""
             }
            },
            "type": "scatterpolargl"
           }
          ],
          "scatterternary": [
           {
            "marker": {
             "colorbar": {
              "outlinewidth": 0,
              "ticks": ""
             }
            },
            "type": "scatterternary"
           }
          ],
          "surface": [
           {
            "colorbar": {
             "outlinewidth": 0,
             "ticks": ""
            },
            "colorscale": [
             [
              0,
              "#0d0887"
             ],
             [
              0.1111111111111111,
              "#46039f"
             ],
             [
              0.2222222222222222,
              "#7201a8"
             ],
             [
              0.3333333333333333,
              "#9c179e"
             ],
             [
              0.4444444444444444,
              "#bd3786"
             ],
             [
              0.5555555555555556,
              "#d8576b"
             ],
             [
              0.6666666666666666,
              "#ed7953"
             ],
             [
              0.7777777777777778,
              "#fb9f3a"
             ],
             [
              0.8888888888888888,
              "#fdca26"
             ],
             [
              1,
              "#f0f921"
             ]
            ],
            "type": "surface"
           }
          ],
          "table": [
           {
            "cells": {
             "fill": {
              "color": "#EBF0F8"
             },
             "line": {
              "color": "white"
             }
            },
            "header": {
             "fill": {
              "color": "#C8D4E3"
             },
             "line": {
              "color": "white"
             }
            },
            "type": "table"
           }
          ]
         },
         "layout": {
          "annotationdefaults": {
           "arrowcolor": "#2a3f5f",
           "arrowhead": 0,
           "arrowwidth": 1
          },
          "autotypenumbers": "strict",
          "coloraxis": {
           "colorbar": {
            "outlinewidth": 0,
            "ticks": ""
           }
          },
          "colorscale": {
           "diverging": [
            [
             0,
             "#8e0152"
            ],
            [
             0.1,
             "#c51b7d"
            ],
            [
             0.2,
             "#de77ae"
            ],
            [
             0.3,
             "#f1b6da"
            ],
            [
             0.4,
             "#fde0ef"
            ],
            [
             0.5,
             "#f7f7f7"
            ],
            [
             0.6,
             "#e6f5d0"
            ],
            [
             0.7,
             "#b8e186"
            ],
            [
             0.8,
             "#7fbc41"
            ],
            [
             0.9,
             "#4d9221"
            ],
            [
             1,
             "#276419"
            ]
           ],
           "sequential": [
            [
             0,
             "#0d0887"
            ],
            [
             0.1111111111111111,
             "#46039f"
            ],
            [
             0.2222222222222222,
             "#7201a8"
            ],
            [
             0.3333333333333333,
             "#9c179e"
            ],
            [
             0.4444444444444444,
             "#bd3786"
            ],
            [
             0.5555555555555556,
             "#d8576b"
            ],
            [
             0.6666666666666666,
             "#ed7953"
            ],
            [
             0.7777777777777778,
             "#fb9f3a"
            ],
            [
             0.8888888888888888,
             "#fdca26"
            ],
            [
             1,
             "#f0f921"
            ]
           ],
           "sequentialminus": [
            [
             0,
             "#0d0887"
            ],
            [
             0.1111111111111111,
             "#46039f"
            ],
            [
             0.2222222222222222,
             "#7201a8"
            ],
            [
             0.3333333333333333,
             "#9c179e"
            ],
            [
             0.4444444444444444,
             "#bd3786"
            ],
            [
             0.5555555555555556,
             "#d8576b"
            ],
            [
             0.6666666666666666,
             "#ed7953"
            ],
            [
             0.7777777777777778,
             "#fb9f3a"
            ],
            [
             0.8888888888888888,
             "#fdca26"
            ],
            [
             1,
             "#f0f921"
            ]
           ]
          },
          "colorway": [
           "#636efa",
           "#EF553B",
           "#00cc96",
           "#ab63fa",
           "#FFA15A",
           "#19d3f3",
           "#FF6692",
           "#B6E880",
           "#FF97FF",
           "#FECB52"
          ],
          "font": {
           "color": "#2a3f5f"
          },
          "geo": {
           "bgcolor": "white",
           "lakecolor": "white",
           "landcolor": "#E5ECF6",
           "showlakes": true,
           "showland": true,
           "subunitcolor": "white"
          },
          "hoverlabel": {
           "align": "left"
          },
          "hovermode": "closest",
          "mapbox": {
           "style": "light"
          },
          "paper_bgcolor": "white",
          "plot_bgcolor": "#E5ECF6",
          "polar": {
           "angularaxis": {
            "gridcolor": "white",
            "linecolor": "white",
            "ticks": ""
           },
           "bgcolor": "#E5ECF6",
           "radialaxis": {
            "gridcolor": "white",
            "linecolor": "white",
            "ticks": ""
           }
          },
          "scene": {
           "xaxis": {
            "backgroundcolor": "#E5ECF6",
            "gridcolor": "white",
            "gridwidth": 2,
            "linecolor": "white",
            "showbackground": true,
            "ticks": "",
            "zerolinecolor": "white"
           },
           "yaxis": {
            "backgroundcolor": "#E5ECF6",
            "gridcolor": "white",
            "gridwidth": 2,
            "linecolor": "white",
            "showbackground": true,
            "ticks": "",
            "zerolinecolor": "white"
           },
           "zaxis": {
            "backgroundcolor": "#E5ECF6",
            "gridcolor": "white",
            "gridwidth": 2,
            "linecolor": "white",
            "showbackground": true,
            "ticks": "",
            "zerolinecolor": "white"
           }
          },
          "shapedefaults": {
           "line": {
            "color": "#2a3f5f"
           }
          },
          "ternary": {
           "aaxis": {
            "gridcolor": "white",
            "linecolor": "white",
            "ticks": ""
           },
           "baxis": {
            "gridcolor": "white",
            "linecolor": "white",
            "ticks": ""
           },
           "bgcolor": "#E5ECF6",
           "caxis": {
            "gridcolor": "white",
            "linecolor": "white",
            "ticks": ""
           }
          },
          "title": {
           "x": 0.05
          },
          "xaxis": {
           "automargin": true,
           "gridcolor": "white",
           "linecolor": "white",
           "ticks": "",
           "title": {
            "standoff": 15
           },
           "zerolinecolor": "white",
           "zerolinewidth": 2
          },
          "yaxis": {
           "automargin": true,
           "gridcolor": "white",
           "linecolor": "white",
           "ticks": "",
           "title": {
            "standoff": 15
           },
           "zerolinecolor": "white",
           "zerolinewidth": 2
          }
         }
        },
        "title": {
         "text": "Top 10 Days by Sales"
        },
        "xaxis": {
         "anchor": "y",
         "domain": [
          0,
          1
         ],
         "title": {
          "text": "Date"
         }
        },
        "yaxis": {
         "anchor": "x",
         "domain": [
          0,
          1
         ],
         "title": {
          "text": "Net sales"
         }
        }
       }
      }
     },
     "metadata": {},
     "output_type": "display_data"
    },
    {
     "data": {
      "application/vnd.plotly.v1+json": {
       "config": {
        "plotlyServerURL": "https://plot.ly"
       },
       "data": [
        {
         "hovertemplate": "Date=%{x}<br>Net sales=%{y}<extra></extra>",
         "legendgroup": "",
         "line": {
          "color": "#636efa",
          "dash": "solid"
         },
         "marker": {
          "symbol": "circle"
         },
         "mode": "lines",
         "name": "",
         "orientation": "v",
         "showlegend": false,
         "type": "scatter",
         "x": [
          "2023-01-01T00:00:00",
          "2023-01-02T00:00:00",
          "2023-01-03T00:00:00",
          "2023-01-04T00:00:00",
          "2023-01-05T00:00:00",
          "2023-01-06T00:00:00",
          "2023-01-07T00:00:00",
          "2023-01-08T00:00:00",
          "2023-01-09T00:00:00",
          "2023-01-10T00:00:00",
          "2023-01-11T00:00:00",
          "2023-01-12T00:00:00",
          "2023-01-13T00:00:00",
          "2023-01-14T00:00:00",
          "2023-01-15T00:00:00",
          "2023-01-16T00:00:00",
          "2023-01-17T00:00:00",
          "2023-01-18T00:00:00",
          "2023-01-19T00:00:00",
          "2023-01-20T00:00:00",
          "2023-01-21T00:00:00",
          "2023-01-22T00:00:00",
          "2023-01-23T00:00:00",
          "2023-01-24T00:00:00",
          "2023-01-25T00:00:00",
          "2023-01-26T00:00:00",
          "2023-01-27T00:00:00",
          "2023-01-28T00:00:00",
          "2023-01-29T00:00:00",
          "2023-01-30T00:00:00",
          "2023-01-31T00:00:00",
          "2023-02-01T00:00:00",
          "2023-02-02T00:00:00",
          "2023-02-03T00:00:00",
          "2023-02-04T00:00:00",
          "2023-02-05T00:00:00",
          "2023-02-06T00:00:00",
          "2023-02-07T00:00:00",
          "2023-02-08T00:00:00",
          "2023-02-09T00:00:00",
          "2023-02-10T00:00:00",
          "2023-02-11T00:00:00",
          "2023-02-12T00:00:00",
          "2023-02-13T00:00:00",
          "2023-02-14T00:00:00",
          "2023-02-15T00:00:00",
          "2023-02-16T00:00:00",
          "2023-02-17T00:00:00",
          "2023-02-18T00:00:00",
          "2023-02-19T00:00:00",
          "2023-02-20T00:00:00",
          "2023-02-21T00:00:00",
          "2023-02-22T00:00:00",
          "2023-02-23T00:00:00",
          "2023-02-24T00:00:00",
          "2023-02-25T00:00:00",
          "2023-02-26T00:00:00",
          "2023-02-27T00:00:00",
          "2023-02-28T00:00:00",
          "2023-03-01T00:00:00",
          "2023-03-02T00:00:00",
          "2023-03-03T00:00:00",
          "2023-03-04T00:00:00",
          "2023-03-05T00:00:00",
          "2023-03-06T00:00:00",
          "2023-03-07T00:00:00",
          "2023-03-08T00:00:00",
          "2023-03-09T00:00:00",
          "2023-03-10T00:00:00",
          "2023-03-11T00:00:00",
          "2023-03-12T00:00:00",
          "2023-03-13T00:00:00",
          "2023-03-14T00:00:00",
          "2023-03-15T00:00:00",
          "2023-03-16T00:00:00",
          "2023-03-17T00:00:00",
          "2023-03-18T00:00:00",
          "2023-03-19T00:00:00",
          "2023-03-20T00:00:00",
          "2023-03-21T00:00:00",
          "2023-03-22T00:00:00",
          "2023-03-23T00:00:00",
          "2023-03-24T00:00:00",
          "2023-03-25T00:00:00",
          "2023-03-26T00:00:00",
          "2023-03-27T00:00:00",
          "2023-03-28T00:00:00",
          "2023-03-29T00:00:00",
          "2023-03-30T00:00:00",
          "2023-03-31T00:00:00",
          "2023-04-01T00:00:00",
          "2023-04-02T00:00:00",
          "2023-04-03T00:00:00",
          "2023-04-04T00:00:00",
          "2023-04-05T00:00:00",
          "2023-04-06T00:00:00",
          "2023-04-07T00:00:00",
          "2023-04-08T00:00:00",
          "2023-04-09T00:00:00",
          "2023-04-10T00:00:00",
          "2023-04-11T00:00:00",
          "2023-04-12T00:00:00",
          "2023-04-13T00:00:00",
          "2023-04-14T00:00:00",
          "2023-04-15T00:00:00",
          "2023-04-16T00:00:00",
          "2023-04-17T00:00:00",
          "2023-04-18T00:00:00",
          "2023-04-19T00:00:00",
          "2023-04-20T00:00:00",
          "2023-04-21T00:00:00",
          "2023-04-22T00:00:00",
          "2023-04-23T00:00:00",
          "2023-04-24T00:00:00",
          "2023-04-25T00:00:00",
          "2023-04-26T00:00:00",
          "2023-04-27T00:00:00",
          "2023-04-28T00:00:00",
          "2023-04-29T00:00:00",
          "2023-04-30T00:00:00",
          "2023-05-01T00:00:00",
          "2023-05-02T00:00:00",
          "2023-05-03T00:00:00",
          "2023-05-04T00:00:00",
          "2023-05-05T00:00:00",
          "2023-05-06T00:00:00",
          "2023-05-07T00:00:00",
          "2023-05-08T00:00:00",
          "2023-05-09T00:00:00",
          "2023-05-10T00:00:00",
          "2023-05-11T00:00:00",
          "2023-05-12T00:00:00",
          "2023-05-13T00:00:00",
          "2023-05-14T00:00:00",
          "2023-05-15T00:00:00",
          "2023-05-16T00:00:00",
          "2023-05-17T00:00:00",
          "2023-05-18T00:00:00",
          "2023-05-19T00:00:00",
          "2023-05-20T00:00:00",
          "2023-05-21T00:00:00",
          "2023-05-22T00:00:00",
          "2023-05-23T00:00:00",
          "2023-05-24T00:00:00",
          "2023-05-25T00:00:00",
          "2023-05-26T00:00:00",
          "2023-05-27T00:00:00",
          "2023-05-28T00:00:00",
          "2023-05-29T00:00:00",
          "2023-05-30T00:00:00",
          "2023-05-31T00:00:00",
          "2023-06-01T00:00:00",
          "2023-06-02T00:00:00",
          "2023-06-03T00:00:00",
          "2023-06-04T00:00:00",
          "2023-06-05T00:00:00",
          "2023-06-06T00:00:00",
          "2023-06-07T00:00:00",
          "2023-06-08T00:00:00",
          "2023-06-09T00:00:00",
          "2023-06-10T00:00:00",
          "2023-06-11T00:00:00",
          "2023-06-12T00:00:00",
          "2023-06-13T00:00:00",
          "2023-06-14T00:00:00",
          "2023-06-15T00:00:00",
          "2023-06-16T00:00:00",
          "2023-06-17T00:00:00",
          "2023-06-18T00:00:00",
          "2023-06-19T00:00:00",
          "2023-06-20T00:00:00",
          "2023-06-21T00:00:00",
          "2023-06-22T00:00:00",
          "2023-06-23T00:00:00",
          "2023-06-24T00:00:00",
          "2023-06-25T00:00:00",
          "2023-06-26T00:00:00",
          "2023-06-27T00:00:00",
          "2023-06-28T00:00:00",
          "2023-06-29T00:00:00",
          "2023-06-30T00:00:00",
          "2023-07-01T00:00:00",
          "2023-07-02T00:00:00",
          "2023-07-03T00:00:00",
          "2023-07-04T00:00:00",
          "2023-07-05T00:00:00",
          "2023-07-06T00:00:00",
          "2023-07-07T00:00:00",
          "2023-07-08T00:00:00",
          "2023-07-09T00:00:00",
          "2023-07-10T00:00:00",
          "2023-07-11T00:00:00",
          "2023-07-12T00:00:00",
          "2023-07-13T00:00:00",
          "2023-07-14T00:00:00",
          "2023-07-15T00:00:00",
          "2023-07-16T00:00:00",
          "2023-07-17T00:00:00",
          "2023-07-18T00:00:00",
          "2023-07-19T00:00:00",
          "2023-07-20T00:00:00",
          "2023-07-21T00:00:00",
          "2023-07-22T00:00:00",
          "2023-07-23T00:00:00",
          "2023-07-24T00:00:00",
          "2023-07-25T00:00:00",
          "2023-07-26T00:00:00",
          "2023-07-27T00:00:00",
          "2023-07-28T00:00:00",
          "2023-07-29T00:00:00",
          "2023-07-30T00:00:00",
          "2023-07-31T00:00:00",
          "2023-08-01T00:00:00",
          "2023-08-02T00:00:00",
          "2023-08-03T00:00:00",
          "2023-08-04T00:00:00",
          "2023-08-05T00:00:00",
          "2023-08-06T00:00:00",
          "2023-08-07T00:00:00",
          "2023-08-08T00:00:00",
          "2023-08-09T00:00:00",
          "2023-08-10T00:00:00",
          "2023-08-11T00:00:00",
          "2023-08-12T00:00:00",
          "2023-08-13T00:00:00",
          "2023-08-14T00:00:00",
          "2023-08-15T00:00:00",
          "2023-08-16T00:00:00",
          "2023-08-17T00:00:00",
          "2023-08-18T00:00:00",
          "2023-08-19T00:00:00",
          "2023-08-20T00:00:00",
          "2023-08-21T00:00:00",
          "2023-08-22T00:00:00",
          "2023-08-23T00:00:00",
          "2023-08-24T00:00:00",
          "2023-08-25T00:00:00",
          "2023-08-26T00:00:00",
          "2023-08-27T00:00:00",
          "2023-08-28T00:00:00",
          "2023-08-29T00:00:00",
          "2023-08-30T00:00:00",
          "2023-08-31T00:00:00",
          "2023-09-01T00:00:00",
          "2023-09-02T00:00:00",
          "2023-09-03T00:00:00",
          "2023-09-04T00:00:00",
          "2023-09-05T00:00:00",
          "2023-09-06T00:00:00",
          "2023-09-07T00:00:00",
          "2023-09-08T00:00:00",
          "2023-09-09T00:00:00",
          "2023-09-10T00:00:00",
          "2023-09-11T00:00:00",
          "2023-09-12T00:00:00",
          "2023-09-13T00:00:00",
          "2023-09-14T00:00:00",
          "2023-09-15T00:00:00",
          "2023-09-16T00:00:00",
          "2023-09-17T00:00:00",
          "2023-09-18T00:00:00",
          "2023-09-19T00:00:00",
          "2023-09-20T00:00:00",
          "2023-09-21T00:00:00",
          "2023-09-22T00:00:00",
          "2023-09-23T00:00:00",
          "2023-09-24T00:00:00",
          "2023-09-25T00:00:00",
          "2023-09-26T00:00:00",
          "2023-09-27T00:00:00",
          "2023-09-28T00:00:00",
          "2023-09-29T00:00:00",
          "2023-09-30T00:00:00",
          "2023-10-01T00:00:00",
          "2023-10-02T00:00:00",
          "2023-10-03T00:00:00",
          "2023-10-04T00:00:00",
          "2023-10-05T00:00:00",
          "2023-10-06T00:00:00",
          "2023-10-07T00:00:00",
          "2023-10-08T00:00:00",
          "2023-10-09T00:00:00",
          "2023-10-10T00:00:00",
          "2023-10-11T00:00:00",
          "2023-10-12T00:00:00",
          "2023-10-13T00:00:00",
          "2023-10-14T00:00:00",
          "2023-10-15T00:00:00",
          "2023-10-16T00:00:00",
          "2023-10-17T00:00:00",
          "2023-10-18T00:00:00",
          "2023-10-19T00:00:00",
          "2023-10-20T00:00:00",
          "2023-10-21T00:00:00",
          "2023-10-22T00:00:00",
          "2023-10-23T00:00:00",
          "2023-10-24T00:00:00",
          "2023-10-25T00:00:00",
          "2023-10-26T00:00:00",
          "2023-10-27T00:00:00",
          "2023-10-28T00:00:00",
          "2023-10-29T00:00:00",
          "2023-10-30T00:00:00",
          "2023-10-31T00:00:00",
          "2023-11-01T00:00:00",
          "2023-11-02T00:00:00",
          "2023-11-03T00:00:00",
          "2023-11-04T00:00:00",
          "2023-11-05T00:00:00",
          "2023-11-06T00:00:00",
          "2023-11-07T00:00:00",
          "2023-11-08T00:00:00",
          "2023-11-09T00:00:00",
          "2023-11-10T00:00:00",
          "2023-11-11T00:00:00",
          "2023-11-12T00:00:00",
          "2023-11-13T00:00:00",
          "2023-11-14T00:00:00",
          "2023-11-15T00:00:00",
          "2023-11-16T00:00:00",
          "2023-11-17T00:00:00",
          "2023-11-18T00:00:00",
          "2023-11-19T00:00:00",
          "2023-11-20T00:00:00",
          "2023-11-21T00:00:00",
          "2023-11-22T00:00:00",
          "2023-11-23T00:00:00",
          "2023-11-24T00:00:00",
          "2023-11-25T00:00:00",
          "2023-11-26T00:00:00",
          "2023-11-27T00:00:00",
          "2023-11-28T00:00:00",
          "2023-11-29T00:00:00",
          "2023-11-30T00:00:00",
          "2023-12-01T00:00:00",
          "2023-12-02T00:00:00",
          "2023-12-03T00:00:00",
          "2023-12-04T00:00:00",
          "2023-12-05T00:00:00",
          "2023-12-06T00:00:00",
          "2023-12-07T00:00:00",
          "2023-12-08T00:00:00",
          "2023-12-09T00:00:00",
          "2023-12-10T00:00:00",
          "2023-12-11T00:00:00",
          "2023-12-12T00:00:00",
          "2023-12-13T00:00:00",
          "2023-12-14T00:00:00",
          "2023-12-15T00:00:00",
          "2023-12-16T00:00:00",
          "2023-12-17T00:00:00",
          "2023-12-18T00:00:00",
          "2023-12-19T00:00:00",
          "2023-12-20T00:00:00",
          "2023-12-21T00:00:00",
          "2023-12-22T00:00:00",
          "2023-12-23T00:00:00",
          "2023-12-24T00:00:00",
          "2023-12-25T00:00:00",
          "2023-12-26T00:00:00",
          "2023-12-27T00:00:00",
          "2023-12-28T00:00:00",
          "2023-12-29T00:00:00",
          "2023-12-30T00:00:00",
          "2023-12-31T00:00:00"
         ],
         "xaxis": "x",
         "y": [
          609,
          492.75,
          248.25,
          372,
          382.5,
          413.25,
          670.84,
          430.5,
          177.75,
          435,
          330,
          577.5,
          700.5,
          828,
          562.5,
          330,
          255,
          270,
          315,
          663.75,
          563.25,
          352.5,
          217.5,
          427.5,
          417.75,
          777.75,
          847.5,
          938.25,
          420,
          360,
          447.75,
          396,
          450,
          585,
          616.5,
          315,
          277.5,
          528.75,
          338.25,
          561,
          753.75,
          583.5,
          617.25,
          591.75,
          838.5,
          360.75,
          447.75,
          1005,
          702,
          321,
          295.5,
          573,
          666,
          506.25,
          373.5,
          660,
          315,
          667.5,
          765,
          532.5,
          765.75,
          1011,
          813.75,
          818.25,
          693,
          990,
          565.5,
          541.5,
          760.5,
          575.25,
          593.25,
          477.75,
          723.75,
          505.5,
          495,
          355.5,
          516,
          389.25,
          275.25,
          533.25,
          888,
          465,
          570.75,
          630,
          446.25,
          390,
          641.25,
          193.5,
          555,
          1125,
          900,
          750,
          705,
          825,
          990,
          945,
          705,
          1125,
          660,
          900,
          555,
          975,
          720,
          900,
          1050,
          840,
          855,
          660,
          975,
          480,
          900,
          1470,
          982.5,
          1402.5,
          1635,
          1155,
          855,
          1252.5,
          967.5,
          720,
          1110,
          832.5,
          840,
          982.5,
          1537.5,
          1087.5,
          1095,
          765,
          600,
          690,
          990,
          1140,
          1845,
          1035,
          1080,
          825,
          855,
          1020,
          1740,
          1605,
          1050,
          1185,
          1320,
          1875,
          2385,
          1800,
          1890,
          1275,
          1890,
          1035,
          1185,
          1035,
          1695,
          1350,
          1560,
          1290,
          1605,
          1110,
          1170,
          1380,
          1305,
          1080,
          1170,
          1200,
          1350,
          1320,
          1020,
          1335,
          915,
          1095,
          1185,
          1425,
          1410,
          1695,
          1395,
          1395,
          1665,
          1215,
          1455,
          1740,
          1470,
          1350,
          1005,
          1605,
          1320,
          1215,
          1350,
          1410,
          1050,
          1425,
          1200,
          1260,
          1020,
          1305,
          1425,
          1230,
          1080,
          1140,
          1260,
          945,
          945,
          930,
          1365,
          1020,
          1140,
          945,
          1065,
          1110,
          990,
          1380,
          1065,
          930,
          825,
          1005,
          1110,
          930,
          1185,
          885,
          825,
          1110,
          1005,
          1170,
          975,
          1095,
          990,
          1245,
          975,
          1500,
          1320,
          1290,
          1335,
          1200,
          1005,
          1035,
          975,
          1455,
          1395,
          1245,
          945,
          1095,
          960,
          1155,
          900,
          1050,
          1905,
          690,
          945,
          1185,
          1155,
          930,
          1395,
          1170,
          600,
          750,
          1005,
          810,
          885,
          1185,
          810,
          840,
          765,
          930,
          630,
          1530,
          1050,
          1447.5,
          1147.5,
          1065,
          1155,
          1185,
          1125,
          1230,
          1260,
          1185,
          945,
          885,
          1095,
          1050,
          1080,
          1095,
          795,
          690,
          840,
          930,
          1185,
          930,
          930,
          705,
          1020,
          795,
          690,
          654,
          861,
          930,
          660,
          585,
          795,
          645,
          1215,
          1185,
          1380,
          720,
          465,
          570,
          855,
          1200,
          1035,
          735,
          555,
          825,
          720,
          885,
          832.5,
          1290,
          630,
          487.5,
          735,
          390,
          637.5,
          360,
          615,
          705,
          765,
          397.5,
          487.5,
          900,
          560,
          742.5,
          645,
          495,
          975,
          420,
          450,
          562.5,
          667.5,
          682.5,
          517.5,
          615,
          510,
          532.5,
          907.5,
          1020,
          817.5,
          547.5,
          817.5,
          780,
          465,
          480,
          525,
          397.5,
          435,
          225,
          330,
          420,
          270,
          705,
          375,
          360,
          555,
          667.5,
          570,
          900,
          457.5,
          885,
          322.5
         ],
         "yaxis": "y"
        },
        {
         "alignmentgroup": "True",
         "hovertemplate": "Month=%{x}<br>Net sales=%{y}<extra></extra>",
         "legendgroup": "",
         "marker": {
          "color": "#636efa",
          "pattern": {
           "shape": ""
          }
         },
         "name": "",
         "offsetgroup": "",
         "orientation": "v",
         "showlegend": false,
         "textposition": "auto",
         "type": "bar",
         "x": [
          1,
          2,
          3,
          4,
          5,
          6,
          7,
          8,
          9,
          10,
          11,
          12
         ],
         "xaxis": "x2",
         "y": [
          14833.84,
          15111,
          18836.25,
          27855,
          38565,
          40035,
          36480,
          34140,
          31830,
          27510,
          20892.5,
          17760
         ],
         "yaxis": "y2"
        },
        {
         "domain": {
          "x": [
           0,
           0.475
          ],
          "y": [
           0.3666666666666667,
           0.6333333333333333
          ]
         },
         "hovertemplate": "Is_Weekend=%{label}<br>Net sales=%{value}<extra></extra>",
         "labels": [
          0,
          1
         ],
         "legendgroup": "",
         "name": "",
         "showlegend": true,
         "type": "pie",
         "values": [
          223876.09,
          99972.5
         ]
        },
        {
         "hovertemplate": "Quantity=%{x}<br>Net sales=%{y}<extra></extra>",
         "legendgroup": "",
         "marker": {
          "color": "#636efa",
          "symbol": "circle"
         },
         "mode": "markers",
         "name": "",
         "orientation": "v",
         "showlegend": false,
         "type": "scatter",
         "x": [
          41,
          33,
          17,
          25,
          26,
          28,
          45,
          29,
          12,
          29,
          22,
          39,
          47,
          56,
          38,
          22,
          17,
          18,
          21,
          46,
          39,
          25,
          15,
          29,
          29,
          52,
          57,
          63,
          28,
          24,
          30,
          28,
          30,
          39,
          42,
          21,
          19,
          36,
          25,
          38,
          51,
          41,
          42,
          40,
          57,
          25,
          30,
          68,
          49,
          22,
          21,
          40,
          46,
          35,
          25,
          44,
          21,
          48,
          52,
          38,
          55,
          70,
          55,
          57,
          49,
          67,
          39,
          37,
          51,
          51,
          40,
          32,
          49,
          34,
          35,
          25,
          35,
          27,
          20,
          36,
          62,
          31,
          40,
          43,
          30,
          26,
          45,
          13,
          37,
          75,
          60,
          50,
          47,
          57,
          72,
          64,
          48,
          75,
          44,
          60,
          39,
          65,
          48,
          60,
          70,
          56,
          57,
          44,
          65,
          32,
          60,
          99,
          67,
          98,
          111,
          81,
          59,
          87,
          66,
          52,
          74,
          59,
          62,
          68,
          111,
          75,
          76,
          51,
          40,
          46,
          66,
          76,
          123,
          69,
          72,
          55,
          57,
          68,
          116,
          107,
          70,
          79,
          88,
          125,
          159,
          120,
          126,
          85,
          126,
          69,
          79,
          69,
          113,
          90,
          104,
          86,
          107,
          74,
          78,
          92,
          87,
          72,
          78,
          80,
          90,
          88,
          68,
          89,
          61,
          73,
          79,
          95,
          94,
          113,
          93,
          93,
          111,
          81,
          97,
          116,
          98,
          90,
          67,
          107,
          88,
          81,
          90,
          94,
          70,
          95,
          80,
          84,
          68,
          87,
          95,
          82,
          72,
          76,
          84,
          63,
          63,
          62,
          91,
          68,
          76,
          63,
          71,
          74,
          66,
          92,
          71,
          62,
          55,
          67,
          74,
          62,
          79,
          59,
          55,
          74,
          67,
          78,
          65,
          73,
          66,
          83,
          65,
          100,
          88,
          86,
          89,
          80,
          67,
          69,
          65,
          97,
          93,
          83,
          63,
          73,
          64,
          77,
          60,
          70,
          127,
          46,
          63,
          79,
          77,
          62,
          93,
          78,
          40,
          50,
          67,
          55,
          59,
          79,
          54,
          56,
          51,
          62,
          42,
          102,
          77,
          126,
          86,
          71,
          77,
          79,
          75,
          82,
          84,
          79,
          63,
          59,
          73,
          70,
          72,
          73,
          53,
          46,
          56,
          62,
          79,
          62,
          62,
          47,
          68,
          53,
          46,
          47,
          61,
          63,
          44,
          39,
          53,
          43,
          81,
          79,
          92,
          48,
          31,
          38,
          57,
          80,
          69,
          49,
          37,
          55,
          48,
          59,
          57,
          86,
          44,
          33,
          49,
          26,
          43,
          25,
          42,
          47,
          52,
          27,
          33,
          90,
          39,
          50,
          43,
          33,
          66,
          28,
          30,
          39,
          45,
          46,
          35,
          42,
          34,
          36,
          62,
          68,
          55,
          37,
          56,
          52,
          33,
          34,
          35,
          27,
          29,
          15,
          22,
          29,
          20,
          47,
          25,
          24,
          38,
          45,
          38,
          60,
          31,
          60,
          23
         ],
         "xaxis": "x3",
         "y": [
          609,
          492.75,
          248.25,
          372,
          382.5,
          413.25,
          670.84,
          430.5,
          177.75,
          435,
          330,
          577.5,
          700.5,
          828,
          562.5,
          330,
          255,
          270,
          315,
          663.75,
          563.25,
          352.5,
          217.5,
          427.5,
          417.75,
          777.75,
          847.5,
          938.25,
          420,
          360,
          447.75,
          396,
          450,
          585,
          616.5,
          315,
          277.5,
          528.75,
          338.25,
          561,
          753.75,
          583.5,
          617.25,
          591.75,
          838.5,
          360.75,
          447.75,
          1005,
          702,
          321,
          295.5,
          573,
          666,
          506.25,
          373.5,
          660,
          315,
          667.5,
          765,
          532.5,
          765.75,
          1011,
          813.75,
          818.25,
          693,
          990,
          565.5,
          541.5,
          760.5,
          575.25,
          593.25,
          477.75,
          723.75,
          505.5,
          495,
          355.5,
          516,
          389.25,
          275.25,
          533.25,
          888,
          465,
          570.75,
          630,
          446.25,
          390,
          641.25,
          193.5,
          555,
          1125,
          900,
          750,
          705,
          825,
          990,
          945,
          705,
          1125,
          660,
          900,
          555,
          975,
          720,
          900,
          1050,
          840,
          855,
          660,
          975,
          480,
          900,
          1470,
          982.5,
          1402.5,
          1635,
          1155,
          855,
          1252.5,
          967.5,
          720,
          1110,
          832.5,
          840,
          982.5,
          1537.5,
          1087.5,
          1095,
          765,
          600,
          690,
          990,
          1140,
          1845,
          1035,
          1080,
          825,
          855,
          1020,
          1740,
          1605,
          1050,
          1185,
          1320,
          1875,
          2385,
          1800,
          1890,
          1275,
          1890,
          1035,
          1185,
          1035,
          1695,
          1350,
          1560,
          1290,
          1605,
          1110,
          1170,
          1380,
          1305,
          1080,
          1170,
          1200,
          1350,
          1320,
          1020,
          1335,
          915,
          1095,
          1185,
          1425,
          1410,
          1695,
          1395,
          1395,
          1665,
          1215,
          1455,
          1740,
          1470,
          1350,
          1005,
          1605,
          1320,
          1215,
          1350,
          1410,
          1050,
          1425,
          1200,
          1260,
          1020,
          1305,
          1425,
          1230,
          1080,
          1140,
          1260,
          945,
          945,
          930,
          1365,
          1020,
          1140,
          945,
          1065,
          1110,
          990,
          1380,
          1065,
          930,
          825,
          1005,
          1110,
          930,
          1185,
          885,
          825,
          1110,
          1005,
          1170,
          975,
          1095,
          990,
          1245,
          975,
          1500,
          1320,
          1290,
          1335,
          1200,
          1005,
          1035,
          975,
          1455,
          1395,
          1245,
          945,
          1095,
          960,
          1155,
          900,
          1050,
          1905,
          690,
          945,
          1185,
          1155,
          930,
          1395,
          1170,
          600,
          750,
          1005,
          810,
          885,
          1185,
          810,
          840,
          765,
          930,
          630,
          1530,
          1050,
          1447.5,
          1147.5,
          1065,
          1155,
          1185,
          1125,
          1230,
          1260,
          1185,
          945,
          885,
          1095,
          1050,
          1080,
          1095,
          795,
          690,
          840,
          930,
          1185,
          930,
          930,
          705,
          1020,
          795,
          690,
          654,
          861,
          930,
          660,
          585,
          795,
          645,
          1215,
          1185,
          1380,
          720,
          465,
          570,
          855,
          1200,
          1035,
          735,
          555,
          825,
          720,
          885,
          832.5,
          1290,
          630,
          487.5,
          735,
          390,
          637.5,
          360,
          615,
          705,
          765,
          397.5,
          487.5,
          900,
          560,
          742.5,
          645,
          495,
          975,
          420,
          450,
          562.5,
          667.5,
          682.5,
          517.5,
          615,
          510,
          532.5,
          907.5,
          1020,
          817.5,
          547.5,
          817.5,
          780,
          465,
          480,
          525,
          397.5,
          435,
          225,
          330,
          420,
          270,
          705,
          375,
          360,
          555,
          667.5,
          570,
          900,
          457.5,
          885,
          322.5
         ],
         "yaxis": "y3"
        },
        {
         "hovertemplate": "Date=%{x}<br>Gross Profit Margin=%{y}<extra></extra>",
         "legendgroup": "",
         "line": {
          "color": "#636efa",
          "dash": "solid"
         },
         "marker": {
          "symbol": "circle"
         },
         "mode": "lines",
         "name": "",
         "orientation": "v",
         "showlegend": false,
         "type": "scatter",
         "x": [
          "2023-01-01T00:00:00",
          "2023-01-02T00:00:00",
          "2023-01-03T00:00:00",
          "2023-01-04T00:00:00",
          "2023-01-05T00:00:00",
          "2023-01-06T00:00:00",
          "2023-01-07T00:00:00",
          "2023-01-08T00:00:00",
          "2023-01-09T00:00:00",
          "2023-01-10T00:00:00",
          "2023-01-11T00:00:00",
          "2023-01-12T00:00:00",
          "2023-01-13T00:00:00",
          "2023-01-14T00:00:00",
          "2023-01-15T00:00:00",
          "2023-01-16T00:00:00",
          "2023-01-17T00:00:00",
          "2023-01-18T00:00:00",
          "2023-01-19T00:00:00",
          "2023-01-20T00:00:00",
          "2023-01-21T00:00:00",
          "2023-01-22T00:00:00",
          "2023-01-23T00:00:00",
          "2023-01-24T00:00:00",
          "2023-01-25T00:00:00",
          "2023-01-26T00:00:00",
          "2023-01-27T00:00:00",
          "2023-01-28T00:00:00",
          "2023-01-29T00:00:00",
          "2023-01-30T00:00:00",
          "2023-01-31T00:00:00",
          "2023-02-01T00:00:00",
          "2023-02-02T00:00:00",
          "2023-02-03T00:00:00",
          "2023-02-04T00:00:00",
          "2023-02-05T00:00:00",
          "2023-02-06T00:00:00",
          "2023-02-07T00:00:00",
          "2023-02-08T00:00:00",
          "2023-02-09T00:00:00",
          "2023-02-10T00:00:00",
          "2023-02-11T00:00:00",
          "2023-02-12T00:00:00",
          "2023-02-13T00:00:00",
          "2023-02-14T00:00:00",
          "2023-02-15T00:00:00",
          "2023-02-16T00:00:00",
          "2023-02-17T00:00:00",
          "2023-02-18T00:00:00",
          "2023-02-19T00:00:00",
          "2023-02-20T00:00:00",
          "2023-02-21T00:00:00",
          "2023-02-22T00:00:00",
          "2023-02-23T00:00:00",
          "2023-02-24T00:00:00",
          "2023-02-25T00:00:00",
          "2023-02-26T00:00:00",
          "2023-02-27T00:00:00",
          "2023-02-28T00:00:00",
          "2023-03-01T00:00:00",
          "2023-03-02T00:00:00",
          "2023-03-03T00:00:00",
          "2023-03-04T00:00:00",
          "2023-03-05T00:00:00",
          "2023-03-06T00:00:00",
          "2023-03-07T00:00:00",
          "2023-03-08T00:00:00",
          "2023-03-09T00:00:00",
          "2023-03-10T00:00:00",
          "2023-03-11T00:00:00",
          "2023-03-12T00:00:00",
          "2023-03-13T00:00:00",
          "2023-03-14T00:00:00",
          "2023-03-15T00:00:00",
          "2023-03-16T00:00:00",
          "2023-03-17T00:00:00",
          "2023-03-18T00:00:00",
          "2023-03-19T00:00:00",
          "2023-03-20T00:00:00",
          "2023-03-21T00:00:00",
          "2023-03-22T00:00:00",
          "2023-03-23T00:00:00",
          "2023-03-24T00:00:00",
          "2023-03-25T00:00:00",
          "2023-03-26T00:00:00",
          "2023-03-27T00:00:00",
          "2023-03-28T00:00:00",
          "2023-03-29T00:00:00",
          "2023-03-30T00:00:00",
          "2023-03-31T00:00:00",
          "2023-04-01T00:00:00",
          "2023-04-02T00:00:00",
          "2023-04-03T00:00:00",
          "2023-04-04T00:00:00",
          "2023-04-05T00:00:00",
          "2023-04-06T00:00:00",
          "2023-04-07T00:00:00",
          "2023-04-08T00:00:00",
          "2023-04-09T00:00:00",
          "2023-04-10T00:00:00",
          "2023-04-11T00:00:00",
          "2023-04-12T00:00:00",
          "2023-04-13T00:00:00",
          "2023-04-14T00:00:00",
          "2023-04-15T00:00:00",
          "2023-04-16T00:00:00",
          "2023-04-17T00:00:00",
          "2023-04-18T00:00:00",
          "2023-04-19T00:00:00",
          "2023-04-20T00:00:00",
          "2023-04-21T00:00:00",
          "2023-04-22T00:00:00",
          "2023-04-23T00:00:00",
          "2023-04-24T00:00:00",
          "2023-04-25T00:00:00",
          "2023-04-26T00:00:00",
          "2023-04-27T00:00:00",
          "2023-04-28T00:00:00",
          "2023-04-29T00:00:00",
          "2023-04-30T00:00:00",
          "2023-05-01T00:00:00",
          "2023-05-02T00:00:00",
          "2023-05-03T00:00:00",
          "2023-05-04T00:00:00",
          "2023-05-05T00:00:00",
          "2023-05-06T00:00:00",
          "2023-05-07T00:00:00",
          "2023-05-08T00:00:00",
          "2023-05-09T00:00:00",
          "2023-05-10T00:00:00",
          "2023-05-11T00:00:00",
          "2023-05-12T00:00:00",
          "2023-05-13T00:00:00",
          "2023-05-14T00:00:00",
          "2023-05-15T00:00:00",
          "2023-05-16T00:00:00",
          "2023-05-17T00:00:00",
          "2023-05-18T00:00:00",
          "2023-05-19T00:00:00",
          "2023-05-20T00:00:00",
          "2023-05-21T00:00:00",
          "2023-05-22T00:00:00",
          "2023-05-23T00:00:00",
          "2023-05-24T00:00:00",
          "2023-05-25T00:00:00",
          "2023-05-26T00:00:00",
          "2023-05-27T00:00:00",
          "2023-05-28T00:00:00",
          "2023-05-29T00:00:00",
          "2023-05-30T00:00:00",
          "2023-05-31T00:00:00",
          "2023-06-01T00:00:00",
          "2023-06-02T00:00:00",
          "2023-06-03T00:00:00",
          "2023-06-04T00:00:00",
          "2023-06-05T00:00:00",
          "2023-06-06T00:00:00",
          "2023-06-07T00:00:00",
          "2023-06-08T00:00:00",
          "2023-06-09T00:00:00",
          "2023-06-10T00:00:00",
          "2023-06-11T00:00:00",
          "2023-06-12T00:00:00",
          "2023-06-13T00:00:00",
          "2023-06-14T00:00:00",
          "2023-06-15T00:00:00",
          "2023-06-16T00:00:00",
          "2023-06-17T00:00:00",
          "2023-06-18T00:00:00",
          "2023-06-19T00:00:00",
          "2023-06-20T00:00:00",
          "2023-06-21T00:00:00",
          "2023-06-22T00:00:00",
          "2023-06-23T00:00:00",
          "2023-06-24T00:00:00",
          "2023-06-25T00:00:00",
          "2023-06-26T00:00:00",
          "2023-06-27T00:00:00",
          "2023-06-28T00:00:00",
          "2023-06-29T00:00:00",
          "2023-06-30T00:00:00",
          "2023-07-01T00:00:00",
          "2023-07-02T00:00:00",
          "2023-07-03T00:00:00",
          "2023-07-04T00:00:00",
          "2023-07-05T00:00:00",
          "2023-07-06T00:00:00",
          "2023-07-07T00:00:00",
          "2023-07-08T00:00:00",
          "2023-07-09T00:00:00",
          "2023-07-10T00:00:00",
          "2023-07-11T00:00:00",
          "2023-07-12T00:00:00",
          "2023-07-13T00:00:00",
          "2023-07-14T00:00:00",
          "2023-07-15T00:00:00",
          "2023-07-16T00:00:00",
          "2023-07-17T00:00:00",
          "2023-07-18T00:00:00",
          "2023-07-19T00:00:00",
          "2023-07-20T00:00:00",
          "2023-07-21T00:00:00",
          "2023-07-22T00:00:00",
          "2023-07-23T00:00:00",
          "2023-07-24T00:00:00",
          "2023-07-25T00:00:00",
          "2023-07-26T00:00:00",
          "2023-07-27T00:00:00",
          "2023-07-28T00:00:00",
          "2023-07-29T00:00:00",
          "2023-07-30T00:00:00",
          "2023-07-31T00:00:00",
          "2023-08-01T00:00:00",
          "2023-08-02T00:00:00",
          "2023-08-03T00:00:00",
          "2023-08-04T00:00:00",
          "2023-08-05T00:00:00",
          "2023-08-06T00:00:00",
          "2023-08-07T00:00:00",
          "2023-08-08T00:00:00",
          "2023-08-09T00:00:00",
          "2023-08-10T00:00:00",
          "2023-08-11T00:00:00",
          "2023-08-12T00:00:00",
          "2023-08-13T00:00:00",
          "2023-08-14T00:00:00",
          "2023-08-15T00:00:00",
          "2023-08-16T00:00:00",
          "2023-08-17T00:00:00",
          "2023-08-18T00:00:00",
          "2023-08-19T00:00:00",
          "2023-08-20T00:00:00",
          "2023-08-21T00:00:00",
          "2023-08-22T00:00:00",
          "2023-08-23T00:00:00",
          "2023-08-24T00:00:00",
          "2023-08-25T00:00:00",
          "2023-08-26T00:00:00",
          "2023-08-27T00:00:00",
          "2023-08-28T00:00:00",
          "2023-08-29T00:00:00",
          "2023-08-30T00:00:00",
          "2023-08-31T00:00:00",
          "2023-09-01T00:00:00",
          "2023-09-02T00:00:00",
          "2023-09-03T00:00:00",
          "2023-09-04T00:00:00",
          "2023-09-05T00:00:00",
          "2023-09-06T00:00:00",
          "2023-09-07T00:00:00",
          "2023-09-08T00:00:00",
          "2023-09-09T00:00:00",
          "2023-09-10T00:00:00",
          "2023-09-11T00:00:00",
          "2023-09-12T00:00:00",
          "2023-09-13T00:00:00",
          "2023-09-14T00:00:00",
          "2023-09-15T00:00:00",
          "2023-09-16T00:00:00",
          "2023-09-17T00:00:00",
          "2023-09-18T00:00:00",
          "2023-09-19T00:00:00",
          "2023-09-20T00:00:00",
          "2023-09-21T00:00:00",
          "2023-09-22T00:00:00",
          "2023-09-23T00:00:00",
          "2023-09-24T00:00:00",
          "2023-09-25T00:00:00",
          "2023-09-26T00:00:00",
          "2023-09-27T00:00:00",
          "2023-09-28T00:00:00",
          "2023-09-29T00:00:00",
          "2023-09-30T00:00:00",
          "2023-10-01T00:00:00",
          "2023-10-02T00:00:00",
          "2023-10-03T00:00:00",
          "2023-10-04T00:00:00",
          "2023-10-05T00:00:00",
          "2023-10-06T00:00:00",
          "2023-10-07T00:00:00",
          "2023-10-08T00:00:00",
          "2023-10-09T00:00:00",
          "2023-10-10T00:00:00",
          "2023-10-11T00:00:00",
          "2023-10-12T00:00:00",
          "2023-10-13T00:00:00",
          "2023-10-14T00:00:00",
          "2023-10-15T00:00:00",
          "2023-10-16T00:00:00",
          "2023-10-17T00:00:00",
          "2023-10-18T00:00:00",
          "2023-10-19T00:00:00",
          "2023-10-20T00:00:00",
          "2023-10-21T00:00:00",
          "2023-10-22T00:00:00",
          "2023-10-23T00:00:00",
          "2023-10-24T00:00:00",
          "2023-10-25T00:00:00",
          "2023-10-26T00:00:00",
          "2023-10-27T00:00:00",
          "2023-10-28T00:00:00",
          "2023-10-29T00:00:00",
          "2023-10-30T00:00:00",
          "2023-10-31T00:00:00",
          "2023-11-01T00:00:00",
          "2023-11-02T00:00:00",
          "2023-11-03T00:00:00",
          "2023-11-04T00:00:00",
          "2023-11-05T00:00:00",
          "2023-11-06T00:00:00",
          "2023-11-07T00:00:00",
          "2023-11-08T00:00:00",
          "2023-11-09T00:00:00",
          "2023-11-10T00:00:00",
          "2023-11-11T00:00:00",
          "2023-11-12T00:00:00",
          "2023-11-13T00:00:00",
          "2023-11-14T00:00:00",
          "2023-11-15T00:00:00",
          "2023-11-16T00:00:00",
          "2023-11-17T00:00:00",
          "2023-11-18T00:00:00",
          "2023-11-19T00:00:00",
          "2023-11-20T00:00:00",
          "2023-11-21T00:00:00",
          "2023-11-22T00:00:00",
          "2023-11-23T00:00:00",
          "2023-11-24T00:00:00",
          "2023-11-25T00:00:00",
          "2023-11-26T00:00:00",
          "2023-11-27T00:00:00",
          "2023-11-28T00:00:00",
          "2023-11-29T00:00:00",
          "2023-11-30T00:00:00",
          "2023-12-01T00:00:00",
          "2023-12-02T00:00:00",
          "2023-12-03T00:00:00",
          "2023-12-04T00:00:00",
          "2023-12-05T00:00:00",
          "2023-12-06T00:00:00",
          "2023-12-07T00:00:00",
          "2023-12-08T00:00:00",
          "2023-12-09T00:00:00",
          "2023-12-10T00:00:00",
          "2023-12-11T00:00:00",
          "2023-12-12T00:00:00",
          "2023-12-13T00:00:00",
          "2023-12-14T00:00:00",
          "2023-12-15T00:00:00",
          "2023-12-16T00:00:00",
          "2023-12-17T00:00:00",
          "2023-12-18T00:00:00",
          "2023-12-19T00:00:00",
          "2023-12-20T00:00:00",
          "2023-12-21T00:00:00",
          "2023-12-22T00:00:00",
          "2023-12-23T00:00:00",
          "2023-12-24T00:00:00",
          "2023-12-25T00:00:00",
          "2023-12-26T00:00:00",
          "2023-12-27T00:00:00",
          "2023-12-28T00:00:00",
          "2023-12-29T00:00:00",
          "2023-12-30T00:00:00",
          "2023-12-31T00:00:00"
         ],
         "xaxis": "x4",
         "y": [
          0.764367816091954,
          0.7656012176560122,
          0.7603222557905337,
          0.7647849462365591,
          0.7620915032679738,
          0.7628554143980641,
          0.7652197245244768,
          0.7642276422764228,
          0.7637130801687764,
          0.7666666666666667,
          0.7666666666666667,
          0.7636363636363637,
          0.7651677373304783,
          0.7632850241545893,
          0.7635555555555555,
          0.7666666666666667,
          0.7666666666666667,
          0.7666666666666667,
          0.7666666666666667,
          0.7574387947269303,
          0.7576564580559254,
          0.75177304964539,
          0.7586206896551724,
          0.7625730994152047,
          0.7570317175344106,
          0.7659916425586628,
          0.7646017699115044,
          0.7649880095923262,
          0.7666666666666667,
          0.7666666666666667,
          0.7654941373534339,
          0.7525252525252525,
          0.7666666666666667,
          0.7666666666666667,
          0.7615571776155717,
          0.7666666666666667,
          0.7603603603603604,
          0.7617021276595745,
          0.7413155949741316,
          0.7629233511586453,
          0.7631840796019901,
          0.7540702656383891,
          0.7618469015795869,
          0.7634136037177862,
          0.7620751341681574,
          0.7574497574497574,
          0.7654941373534339,
          0.7631840796019901,
          0.7556980056980057,
          0.7601246105919003,
          0.751269035532995,
          0.7556719022687609,
          0.7582582582582582,
          0.7580246913580246,
          0.7657295850066934,
          0.7666666666666667,
          0.7666666666666667,
          0.748314606741573,
          0.7620915032679738,
          0.7502347417840376,
          0.7486124714332354,
          0.7576656775469832,
          0.7634408602150538,
          0.7561869844179652,
          0.7525252525252525,
          0.7631313131313131,
          0.7586206896551724,
          0.7608494921514312,
          0.7652859960552268,
          0.6897001303780965,
          0.7640117994100295,
          0.7655677655677655,
          0.7630397236614853,
          0.7645895153313551,
          0.7525252525252525,
          0.7538677918424754,
          0.7625968992248062,
          0.7572254335260116,
          0.745685740236149,
          0.7637130801687764,
          0.7556306306306306,
          0.7666666666666667,
          0.7547087166009636,
          0.7611111111111111,
          0.7647058823529411,
          0.7666666666666667,
          0.7543859649122807,
          0.7648578811369509,
          0.7666666666666667,
          0.7666666666666667,
          0.7666666666666667,
          0.7666666666666667,
          0.7666666666666667,
          0.7581818181818182,
          0.7454545454545455,
          0.762962962962963,
          0.7617021276595745,
          0.7666666666666667,
          0.7666666666666667,
          0.7666666666666667,
          0.754054054054054,
          0.7666666666666667,
          0.7666666666666667,
          0.7666666666666667,
          0.7666666666666667,
          0.7196190476190476,
          0.7044444444444445,
          0.6883636363636364,
          0.6653333333333333,
          0.6653333333333333,
          0.6653333333333334,
          0.6619183673469389,
          0.6576692111959287,
          0.6492263814616757,
          0.6591926605504587,
          0.6479480519480519,
          0.6535906432748538,
          0.6513053892215569,
          0.6575503875968993,
          0.6374444444444445,
          0.6653333333333333,
          0.6442282282282283,
          0.6294761904761904,
          0.652559796437659,
          0.6375804878048781,
          0.6537931034482759,
          0.6515799086757991,
          0.6653333333333333,
          0.6653333333333334,
          0.6653333333333334,
          0.6653333333333334,
          0.6653333333333333,
          0.6653333333333333,
          0.6653333333333333,
          0.6653333333333334,
          0.6653333333333333,
          0.6653333333333333,
          0.6653333333333333,
          0.6653333333333333,
          0.6653333333333334,
          0.6653333333333333,
          0.6653333333333334,
          0.6653333333333333,
          0.6653333333333333,
          0.6653333333333334,
          0.6653333333333334,
          0.6653333333333333,
          0.6653333333333333,
          0.6653333333333333,
          0.6653333333333333,
          0.6653333333333334,
          0.6653333333333333,
          0.6653333333333333,
          0.6653333333333333,
          0.6653333333333333,
          0.6653333333333334,
          0.6653333333333334,
          0.6653333333333333,
          0.6653333333333333,
          0.6653333333333334,
          0.6653333333333333,
          0.6653333333333334,
          0.6653333333333333,
          0.6653333333333334,
          0.6653333333333333,
          0.6653333333333333,
          0.6653333333333333,
          0.6653333333333333,
          0.6653333333333333,
          0.6653333333333334,
          0.6653333333333334,
          0.6653333333333333,
          0.6653333333333333,
          0.6653333333333333,
          0.6653333333333333,
          0.6653333333333333,
          0.6653333333333333,
          0.6653333333333333,
          0.6653333333333333,
          0.6653333333333333,
          0.6653333333333333,
          0.6653333333333333,
          0.6653333333333334,
          0.6653333333333334,
          0.6653333333333333,
          0.6653333333333333,
          0.6653333333333333,
          0.6653333333333333,
          0.6653333333333333,
          0.6653333333333333,
          0.6653333333333334,
          0.6653333333333333,
          0.6653333333333333,
          0.729816091954023,
          0.79,
          0.7857317073170731,
          0.78,
          0.7799999999999999,
          0.7799999999999999,
          0.7799999999999999,
          0.7799999999999999,
          0.78,
          0.78,
          0.7799999999999999,
          0.7799999999999999,
          0.7799999999999999,
          0.7799999999999999,
          0.7799999999999999,
          0.7799999999999999,
          0.7799999999999999,
          0.7799999999999999,
          0.78,
          0.78,
          0.78,
          0.7799999999999999,
          0.78,
          0.7799999999999999,
          0.7799999999999999,
          0.78,
          0.7799999999999999,
          0.78,
          0.7799999999999999,
          0.78,
          0.7799999999999999,
          0.7799999999999999,
          0.7799999999999999,
          0.78,
          0.78,
          0.7799999999999999,
          0.7799999999999999,
          0.7799999999999999,
          0.78,
          0.78,
          0.7799999999999999,
          0.78,
          0.7799999999999999,
          0.7799999999999999,
          0.7799999999999999,
          0.7799999999999999,
          0.7799999999999999,
          0.7799999999999999,
          0.78,
          0.78,
          0.78,
          0.7799999999999999,
          0.7799999999999999,
          0.7799999999999999,
          0.7799999999999999,
          0.78,
          0.78,
          0.7799999999999999,
          0.78,
          0.78,
          0.78,
          0.78,
          0.7759259259259259,
          0.7799999999999999,
          0.7799999999999999,
          0.7799999999999999,
          0.7799999999999999,
          0.7799999999999999,
          0.78,
          0.7799999999999999,
          0.7799999999999999,
          0.758,
          0.7127461139896374,
          0.7526797385620915,
          0.7799999999999999,
          0.78,
          0.7799999999999999,
          0.78,
          0.78,
          0.7799999999999999,
          0.7799999999999999,
          0.7799999999999999,
          0.7799999999999999,
          0.7799999999999999,
          0.78,
          0.78,
          0.78,
          0.7799999999999999,
          0.7799999999999999,
          0.7799999999999999,
          0.78,
          0.7799999999999999,
          0.78,
          0.78,
          0.7799999999999999,
          0.7799999999999999,
          0.7799999999999999,
          0.78,
          0.7628440366972477,
          0.7662020905923345,
          0.7764516129032258,
          0.7799999999999999,
          0.7799999999999999,
          0.7799999999999999,
          0.7799999999999999,
          0.7799999999999999,
          0.7799999999999999,
          0.7799999999999999,
          0.78,
          0.78,
          0.7799999999999999,
          0.78,
          0.78,
          0.7799999999999999,
          0.7799999999999999,
          0.7799999999999999,
          0.78,
          0.78,
          0.7799999999999999,
          0.774054054054054,
          0.7799999999999999,
          0.7695238095238095,
          0.7766153846153846,
          0.7799999999999999,
          0.7799999999999999,
          0.7774117647058822,
          0.7708333333333334,
          0.7746341463414633,
          0.7799999999999999,
          0.7756862745098039,
          0.7758490566037736,
          0.7766153846153846,
          0.67,
          0.7701785714285714,
          0.7777777777777778,
          0.7799999999999999,
          0.7799999999999999,
          0.7766153846153846,
          0.7799999999999999,
          0.78,
          0.7711999999999999,
          0.7775280898876404,
          0.7775824175824175,
          0.7768115942028986,
          0.7746341463414633,
          0.7799999999999999,
          0.7769014084507042,
          0.7745454545454545,
          0.7799999999999999,
          0.7779816513761468,
          0.776986301369863,
          0.7739449541284403,
          0.7799999999999999,
          0.7658064516129032,
          0.7662499999999999,
          0.78,
          0.7758490566037736,
          0.7799999999999999,
          0.78,
          0.7799999999999999,
          0.7721428571428571,
          0.7555555555555555,
          0.7799999999999999,
          0.78,
          0.7799999999999999,
          0.774054054054054,
          0.7775280898876404,
          0.7799999999999999,
          0.78,
          0.7763934426229508,
          0.7762711864406779,
          0.7646511627906977
         ],
         "yaxis": "y4"
        },
        {
         "alignmentgroup": "True",
         "hovertemplate": "Date=%{x}<br>Net sales=%{y}<extra></extra>",
         "legendgroup": "",
         "marker": {
          "color": "#636efa",
          "pattern": {
           "shape": ""
          }
         },
         "name": "",
         "offsetgroup": "",
         "orientation": "v",
         "showlegend": false,
         "textposition": "auto",
         "type": "bar",
         "x": [
          "2023-05-25T00:00:00",
          "2023-09-02T00:00:00",
          "2023-05-27T00:00:00",
          "2023-05-29T00:00:00",
          "2023-05-24T00:00:00",
          "2023-05-13T00:00:00",
          "2023-05-26T00:00:00",
          "2023-05-19T00:00:00",
          "2023-06-29T00:00:00",
          "2023-06-02T00:00:00"
         ],
         "xaxis": "x5",
         "y": [
          2385,
          1905,
          1890,
          1890,
          1875,
          1845,
          1800,
          1740,
          1740,
          1695
         ],
         "yaxis": "y5"
        }
       ],
       "layout": {
        "annotations": [
         {
          "font": {
           "size": 16
          },
          "showarrow": false,
          "text": "Daily Sales Trend",
          "x": 0.2375,
          "xanchor": "center",
          "xref": "paper",
          "y": 1,
          "yanchor": "bottom",
          "yref": "paper"
         },
         {
          "font": {
           "size": 16
          },
          "showarrow": false,
          "text": "Monthly Sales Comparison",
          "x": 0.7625,
          "xanchor": "center",
          "xref": "paper",
          "y": 1,
          "yanchor": "bottom",
          "yref": "paper"
         },
         {
          "font": {
           "size": 16
          },
          "showarrow": false,
          "text": "Weekday vs Weekend Sales",
          "x": 0.2375,
          "xanchor": "center",
          "xref": "paper",
          "y": 0.6333333333333333,
          "yanchor": "bottom",
          "yref": "paper"
         },
         {
          "font": {
           "size": 16
          },
          "showarrow": false,
          "text": "Quantity vs Net Sales",
          "x": 0.7625,
          "xanchor": "center",
          "xref": "paper",
          "y": 0.6333333333333333,
          "yanchor": "bottom",
          "yref": "paper"
         },
         {
          "font": {
           "size": 16
          },
          "showarrow": false,
          "text": "Gross Profit Margin Over Time",
          "x": 0.2375,
          "xanchor": "center",
          "xref": "paper",
          "y": 0.26666666666666666,
          "yanchor": "bottom",
          "yref": "paper"
         },
         {
          "font": {
           "size": 16
          },
          "showarrow": false,
          "text": "Top 10 Days by Sales",
          "x": 0.7625,
          "xanchor": "center",
          "xref": "paper",
          "y": 0.26666666666666666,
          "yanchor": "bottom",
          "yref": "paper"
         }
        ],
        "height": 1800,
        "template": {
         "data": {
          "bar": [
           {
            "error_x": {
             "color": "#2a3f5f"
            },
            "error_y": {
             "color": "#2a3f5f"
            },
            "marker": {
             "line": {
              "color": "#E5ECF6",
              "width": 0.5
             },
             "pattern": {
              "fillmode": "overlay",
              "size": 10,
              "solidity": 0.2
             }
            },
            "type": "bar"
           }
          ],
          "barpolar": [
           {
            "marker": {
             "line": {
              "color": "#E5ECF6",
              "width": 0.5
             },
             "pattern": {
              "fillmode": "overlay",
              "size": 10,
              "solidity": 0.2
             }
            },
            "type": "barpolar"
           }
          ],
          "carpet": [
           {
            "aaxis": {
             "endlinecolor": "#2a3f5f",
             "gridcolor": "white",
             "linecolor": "white",
             "minorgridcolor": "white",
             "startlinecolor": "#2a3f5f"
            },
            "baxis": {
             "endlinecolor": "#2a3f5f",
             "gridcolor": "white",
             "linecolor": "white",
             "minorgridcolor": "white",
             "startlinecolor": "#2a3f5f"
            },
            "type": "carpet"
           }
          ],
          "choropleth": [
           {
            "colorbar": {
             "outlinewidth": 0,
             "ticks": ""
            },
            "type": "choropleth"
           }
          ],
          "contour": [
           {
            "colorbar": {
             "outlinewidth": 0,
             "ticks": ""
            },
            "colorscale": [
             [
              0,
              "#0d0887"
             ],
             [
              0.1111111111111111,
              "#46039f"
             ],
             [
              0.2222222222222222,
              "#7201a8"
             ],
             [
              0.3333333333333333,
              "#9c179e"
             ],
             [
              0.4444444444444444,
              "#bd3786"
             ],
             [
              0.5555555555555556,
              "#d8576b"
             ],
             [
              0.6666666666666666,
              "#ed7953"
             ],
             [
              0.7777777777777778,
              "#fb9f3a"
             ],
             [
              0.8888888888888888,
              "#fdca26"
             ],
             [
              1,
              "#f0f921"
             ]
            ],
            "type": "contour"
           }
          ],
          "contourcarpet": [
           {
            "colorbar": {
             "outlinewidth": 0,
             "ticks": ""
            },
            "type": "contourcarpet"
           }
          ],
          "heatmap": [
           {
            "colorbar": {
             "outlinewidth": 0,
             "ticks": ""
            },
            "colorscale": [
             [
              0,
              "#0d0887"
             ],
             [
              0.1111111111111111,
              "#46039f"
             ],
             [
              0.2222222222222222,
              "#7201a8"
             ],
             [
              0.3333333333333333,
              "#9c179e"
             ],
             [
              0.4444444444444444,
              "#bd3786"
             ],
             [
              0.5555555555555556,
              "#d8576b"
             ],
             [
              0.6666666666666666,
              "#ed7953"
             ],
             [
              0.7777777777777778,
              "#fb9f3a"
             ],
             [
              0.8888888888888888,
              "#fdca26"
             ],
             [
              1,
              "#f0f921"
             ]
            ],
            "type": "heatmap"
           }
          ],
          "heatmapgl": [
           {
            "colorbar": {
             "outlinewidth": 0,
             "ticks": ""
            },
            "colorscale": [
             [
              0,
              "#0d0887"
             ],
             [
              0.1111111111111111,
              "#46039f"
             ],
             [
              0.2222222222222222,
              "#7201a8"
             ],
             [
              0.3333333333333333,
              "#9c179e"
             ],
             [
              0.4444444444444444,
              "#bd3786"
             ],
             [
              0.5555555555555556,
              "#d8576b"
             ],
             [
              0.6666666666666666,
              "#ed7953"
             ],
             [
              0.7777777777777778,
              "#fb9f3a"
             ],
             [
              0.8888888888888888,
              "#fdca26"
             ],
             [
              1,
              "#f0f921"
             ]
            ],
            "type": "heatmapgl"
           }
          ],
          "histogram": [
           {
            "marker": {
             "pattern": {
              "fillmode": "overlay",
              "size": 10,
              "solidity": 0.2
             }
            },
            "type": "histogram"
           }
          ],
          "histogram2d": [
           {
            "colorbar": {
             "outlinewidth": 0,
             "ticks": ""
            },
            "colorscale": [
             [
              0,
              "#0d0887"
             ],
             [
              0.1111111111111111,
              "#46039f"
             ],
             [
              0.2222222222222222,
              "#7201a8"
             ],
             [
              0.3333333333333333,
              "#9c179e"
             ],
             [
              0.4444444444444444,
              "#bd3786"
             ],
             [
              0.5555555555555556,
              "#d8576b"
             ],
             [
              0.6666666666666666,
              "#ed7953"
             ],
             [
              0.7777777777777778,
              "#fb9f3a"
             ],
             [
              0.8888888888888888,
              "#fdca26"
             ],
             [
              1,
              "#f0f921"
             ]
            ],
            "type": "histogram2d"
           }
          ],
          "histogram2dcontour": [
           {
            "colorbar": {
             "outlinewidth": 0,
             "ticks": ""
            },
            "colorscale": [
             [
              0,
              "#0d0887"
             ],
             [
              0.1111111111111111,
              "#46039f"
             ],
             [
              0.2222222222222222,
              "#7201a8"
             ],
             [
              0.3333333333333333,
              "#9c179e"
             ],
             [
              0.4444444444444444,
              "#bd3786"
             ],
             [
              0.5555555555555556,
              "#d8576b"
             ],
             [
              0.6666666666666666,
              "#ed7953"
             ],
             [
              0.7777777777777778,
              "#fb9f3a"
             ],
             [
              0.8888888888888888,
              "#fdca26"
             ],
             [
              1,
              "#f0f921"
             ]
            ],
            "type": "histogram2dcontour"
           }
          ],
          "mesh3d": [
           {
            "colorbar": {
             "outlinewidth": 0,
             "ticks": ""
            },
            "type": "mesh3d"
           }
          ],
          "parcoords": [
           {
            "line": {
             "colorbar": {
              "outlinewidth": 0,
              "ticks": ""
             }
            },
            "type": "parcoords"
           }
          ],
          "pie": [
           {
            "automargin": true,
            "type": "pie"
           }
          ],
          "scatter": [
           {
            "fillpattern": {
             "fillmode": "overlay",
             "size": 10,
             "solidity": 0.2
            },
            "type": "scatter"
           }
          ],
          "scatter3d": [
           {
            "line": {
             "colorbar": {
              "outlinewidth": 0,
              "ticks": ""
             }
            },
            "marker": {
             "colorbar": {
              "outlinewidth": 0,
              "ticks": ""
             }
            },
            "type": "scatter3d"
           }
          ],
          "scattercarpet": [
           {
            "marker": {
             "colorbar": {
              "outlinewidth": 0,
              "ticks": ""
             }
            },
            "type": "scattercarpet"
           }
          ],
          "scattergeo": [
           {
            "marker": {
             "colorbar": {
              "outlinewidth": 0,
              "ticks": ""
             }
            },
            "type": "scattergeo"
           }
          ],
          "scattergl": [
           {
            "marker": {
             "colorbar": {
              "outlinewidth": 0,
              "ticks": ""
             }
            },
            "type": "scattergl"
           }
          ],
          "scattermapbox": [
           {
            "marker": {
             "colorbar": {
              "outlinewidth": 0,
              "ticks": ""
             }
            },
            "type": "scattermapbox"
           }
          ],
          "scatterpolar": [
           {
            "marker": {
             "colorbar": {
              "outlinewidth": 0,
              "ticks": ""
             }
            },
            "type": "scatterpolar"
           }
          ],
          "scatterpolargl": [
           {
            "marker": {
             "colorbar": {
              "outlinewidth": 0,
              "ticks": ""
             }
            },
            "type": "scatterpolargl"
           }
          ],
          "scatterternary": [
           {
            "marker": {
             "colorbar": {
              "outlinewidth": 0,
              "ticks": ""
             }
            },
            "type": "scatterternary"
           }
          ],
          "surface": [
           {
            "colorbar": {
             "outlinewidth": 0,
             "ticks": ""
            },
            "colorscale": [
             [
              0,
              "#0d0887"
             ],
             [
              0.1111111111111111,
              "#46039f"
             ],
             [
              0.2222222222222222,
              "#7201a8"
             ],
             [
              0.3333333333333333,
              "#9c179e"
             ],
             [
              0.4444444444444444,
              "#bd3786"
             ],
             [
              0.5555555555555556,
              "#d8576b"
             ],
             [
              0.6666666666666666,
              "#ed7953"
             ],
             [
              0.7777777777777778,
              "#fb9f3a"
             ],
             [
              0.8888888888888888,
              "#fdca26"
             ],
             [
              1,
              "#f0f921"
             ]
            ],
            "type": "surface"
           }
          ],
          "table": [
           {
            "cells": {
             "fill": {
              "color": "#EBF0F8"
             },
             "line": {
              "color": "white"
             }
            },
            "header": {
             "fill": {
              "color": "#C8D4E3"
             },
             "line": {
              "color": "white"
             }
            },
            "type": "table"
           }
          ]
         },
         "layout": {
          "annotationdefaults": {
           "arrowcolor": "#2a3f5f",
           "arrowhead": 0,
           "arrowwidth": 1
          },
          "autotypenumbers": "strict",
          "coloraxis": {
           "colorbar": {
            "outlinewidth": 0,
            "ticks": ""
           }
          },
          "colorscale": {
           "diverging": [
            [
             0,
             "#8e0152"
            ],
            [
             0.1,
             "#c51b7d"
            ],
            [
             0.2,
             "#de77ae"
            ],
            [
             0.3,
             "#f1b6da"
            ],
            [
             0.4,
             "#fde0ef"
            ],
            [
             0.5,
             "#f7f7f7"
            ],
            [
             0.6,
             "#e6f5d0"
            ],
            [
             0.7,
             "#b8e186"
            ],
            [
             0.8,
             "#7fbc41"
            ],
            [
             0.9,
             "#4d9221"
            ],
            [
             1,
             "#276419"
            ]
           ],
           "sequential": [
            [
             0,
             "#0d0887"
            ],
            [
             0.1111111111111111,
             "#46039f"
            ],
            [
             0.2222222222222222,
             "#7201a8"
            ],
            [
             0.3333333333333333,
             "#9c179e"
            ],
            [
             0.4444444444444444,
             "#bd3786"
            ],
            [
             0.5555555555555556,
             "#d8576b"
            ],
            [
             0.6666666666666666,
             "#ed7953"
            ],
            [
             0.7777777777777778,
             "#fb9f3a"
            ],
            [
             0.8888888888888888,
             "#fdca26"
            ],
            [
             1,
             "#f0f921"
            ]
           ],
           "sequentialminus": [
            [
             0,
             "#0d0887"
            ],
            [
             0.1111111111111111,
             "#46039f"
            ],
            [
             0.2222222222222222,
             "#7201a8"
            ],
            [
             0.3333333333333333,
             "#9c179e"
            ],
            [
             0.4444444444444444,
             "#bd3786"
            ],
            [
             0.5555555555555556,
             "#d8576b"
            ],
            [
             0.6666666666666666,
             "#ed7953"
            ],
            [
             0.7777777777777778,
             "#fb9f3a"
            ],
            [
             0.8888888888888888,
             "#fdca26"
            ],
            [
             1,
             "#f0f921"
            ]
           ]
          },
          "colorway": [
           "#636efa",
           "#EF553B",
           "#00cc96",
           "#ab63fa",
           "#FFA15A",
           "#19d3f3",
           "#FF6692",
           "#B6E880",
           "#FF97FF",
           "#FECB52"
          ],
          "font": {
           "color": "#2a3f5f"
          },
          "geo": {
           "bgcolor": "white",
           "lakecolor": "white",
           "landcolor": "#E5ECF6",
           "showlakes": true,
           "showland": true,
           "subunitcolor": "white"
          },
          "hoverlabel": {
           "align": "left"
          },
          "hovermode": "closest",
          "mapbox": {
           "style": "light"
          },
          "paper_bgcolor": "white",
          "plot_bgcolor": "#E5ECF6",
          "polar": {
           "angularaxis": {
            "gridcolor": "white",
            "linecolor": "white",
            "ticks": ""
           },
           "bgcolor": "#E5ECF6",
           "radialaxis": {
            "gridcolor": "white",
            "linecolor": "white",
            "ticks": ""
           }
          },
          "scene": {
           "xaxis": {
            "backgroundcolor": "#E5ECF6",
            "gridcolor": "white",
            "gridwidth": 2,
            "linecolor": "white",
            "showbackground": true,
            "ticks": "",
            "zerolinecolor": "white"
           },
           "yaxis": {
            "backgroundcolor": "#E5ECF6",
            "gridcolor": "white",
            "gridwidth": 2,
            "linecolor": "white",
            "showbackground": true,
            "ticks": "",
            "zerolinecolor": "white"
           },
           "zaxis": {
            "backgroundcolor": "#E5ECF6",
            "gridcolor": "white",
            "gridwidth": 2,
            "linecolor": "white",
            "showbackground": true,
            "ticks": "",
            "zerolinecolor": "white"
           }
          },
          "shapedefaults": {
           "line": {
            "color": "#2a3f5f"
           }
          },
          "ternary": {
           "aaxis": {
            "gridcolor": "white",
            "linecolor": "white",
            "ticks": ""
           },
           "baxis": {
            "gridcolor": "white",
            "linecolor": "white",
            "ticks": ""
           },
           "bgcolor": "#E5ECF6",
           "caxis": {
            "gridcolor": "white",
            "linecolor": "white",
            "ticks": ""
           }
          },
          "title": {
           "x": 0.05
          },
          "xaxis": {
           "automargin": true,
           "gridcolor": "white",
           "linecolor": "white",
           "ticks": "",
           "title": {
            "standoff": 15
           },
           "zerolinecolor": "white",
           "zerolinewidth": 2
          },
          "yaxis": {
           "automargin": true,
           "gridcolor": "white",
           "linecolor": "white",
           "ticks": "",
           "title": {
            "standoff": 15
           },
           "zerolinecolor": "white",
           "zerolinewidth": 2
          }
         }
        },
        "title": {
         "text": "Sales Data Analysis Dashboard"
        },
        "width": 1000,
        "xaxis": {
         "anchor": "y",
         "domain": [
          0,
          0.475
         ]
        },
        "xaxis2": {
         "anchor": "y2",
         "domain": [
          0.525,
          1
         ]
        },
        "xaxis3": {
         "anchor": "y3",
         "domain": [
          0.525,
          1
         ]
        },
        "xaxis4": {
         "anchor": "y4",
         "domain": [
          0,
          0.475
         ]
        },
        "xaxis5": {
         "anchor": "y5",
         "domain": [
          0.525,
          1
         ]
        },
        "yaxis": {
         "anchor": "x",
         "domain": [
          0.7333333333333334,
          1
         ]
        },
        "yaxis2": {
         "anchor": "x2",
         "domain": [
          0.7333333333333334,
          1
         ]
        },
        "yaxis3": {
         "anchor": "x3",
         "domain": [
          0.3666666666666667,
          0.6333333333333333
         ]
        },
        "yaxis4": {
         "anchor": "x4",
         "domain": [
          0,
          0.26666666666666666
         ]
        },
        "yaxis5": {
         "anchor": "x5",
         "domain": [
          0,
          0.26666666666666666
         ]
        }
       }
      }
     },
     "metadata": {},
     "output_type": "display_data"
    }
   ],
   "source": [
    "import pandas as pd\n",
    "import plotly.graph_objects as go\n",
    "import plotly.express as px\n",
    "from plotly.subplots import make_subplots\n",
    "\n",
    "# Load the data\n",
    "df = df_IcedTea\n",
    "\n",
    "\n",
    "df = df.copy()\n",
    "\n",
    "# 1. Daily Sales Trend\n",
    "daily_sales = df.groupby('Date')['Net sales'].sum().reset_index()\n",
    "fig1 = px.line(daily_sales, x='Date', y='Net sales', title='Daily Sales Trend')\n",
    "fig1.show()\n",
    "\n",
    "# 2. Monthly Sales Comparison\n",
    "monthly_sales = df.groupby('Month')['Net sales'].sum().reset_index()\n",
    "fig2 = px.bar(monthly_sales, x='Month', y='Net sales', title='Monthly Sales Comparison')\n",
    "fig2.show()\n",
    "\n",
    "# 3. Weekday vs Weekend Sales\n",
    "weekday_weekend = df.groupby('Is_Weekend')['Net sales'].sum().reset_index()\n",
    "fig3 = px.pie(weekday_weekend, values='Net sales', names='Is_Weekend', title='Weekday vs Weekend Sales')\n",
    "fig3.show()\n",
    "\n",
    "# 4. Quantity vs Net Sales Scatter Plot\n",
    "fig4 = px.scatter(df, x='Quantity', y='Net sales', title='Quantity vs Net Sales',\n",
    "                  trendline='ols', trendline_color_override='red')\n",
    "fig4.show()\n",
    "\n",
    "# 5. Gross Profit Margin Over Time\n",
    "df['Gross Profit Margin'] = df['Gross profit'] / df['Net sales']\n",
    "fig5 = px.line(df, x='Date', y='Gross Profit Margin', title='Gross Profit Margin Over Time')\n",
    "fig5.show()\n",
    "\n",
    "# 6. Top 10 Days by Sales\n",
    "top_10_days = df.groupby('Date')['Net sales'].sum().nlargest(10).reset_index()\n",
    "fig6 = px.bar(top_10_days, x='Date', y='Net sales', title='Top 10 Days by Sales')\n",
    "fig6.show()\n",
    "\n",
    "# Create a dashboard with all plots\n",
    "dashboard = make_subplots(rows=3, cols=2, \n",
    "                          specs=[[{\"type\": \"xy\"}, {\"type\": \"xy\"}],\n",
    "                                 [{\"type\": \"domain\"}, {\"type\": \"xy\"}],\n",
    "                                 [{\"type\": \"xy\"}, {\"type\": \"xy\"}]],\n",
    "                          subplot_titles=('Daily Sales Trend', 'Monthly Sales Comparison', \n",
    "                                          'Weekday vs Weekend Sales', 'Quantity vs Net Sales', \n",
    "                                          'Gross Profit Margin Over Time', 'Top 10 Days by Sales'),\n",
    "                          vertical_spacing=0.1, horizontal_spacing=0.05)\n",
    "\n",
    "dashboard.add_trace(fig1.data[0], row=1, col=1)\n",
    "dashboard.add_trace(fig2.data[0], row=1, col=2)\n",
    "dashboard.add_trace(fig3.data[0], row=2, col=1)\n",
    "dashboard.add_trace(fig4.data[0], row=2, col=2)\n",
    "dashboard.add_trace(fig5.data[0], row=3, col=1)\n",
    "dashboard.add_trace(fig6.data[0], row=3, col=2)\n",
    "\n",
    "dashboard.update_layout(height=1800, width=1000, title_text=\"Sales Data Analysis Dashboard\")\n",
    "dashboard.show()"
   ]
  },
  {
   "cell_type": "code",
   "execution_count": 33,
   "metadata": {},
   "outputs": [
    {
     "name": "stderr",
     "output_type": "stream",
     "text": [
      "C:\\Users\\nasef\\AppData\\Local\\Temp\\ipykernel_23748\\4118351591.py:21: SettingWithCopyWarning:\n",
      "\n",
      "\n",
      "A value is trying to be set on a copy of a slice from a DataFrame.\n",
      "Try using .loc[row_indexer,col_indexer] = value instead\n",
      "\n",
      "See the caveats in the documentation: https://pandas.pydata.org/pandas-docs/stable/user_guide/indexing.html#returning-a-view-versus-a-copy\n",
      "\n"
     ]
    }
   ],
   "source": [
    "import pandas as pd\n",
    "import numpy as np\n",
    "\n",
    "# Assuming your DataFrame is named df_IcedTea\n",
    "# If it's named differently, replace df_IcedTea with your actual DataFrame name\n",
    "\n",
    "# Calculate the 10th and 90th percentiles of the Quantity column\n",
    "low_threshold = df_IcedTea['Quantity'].quantile(0.05)\n",
    "high_threshold = df_IcedTea['Quantity'].quantile(0.95)\n",
    "\n",
    "# Define a function to categorize demand\n",
    "def categorize_demand(quantity):\n",
    "    if quantity >= high_threshold:\n",
    "        return 2\n",
    "    elif quantity <= low_threshold:\n",
    "        return 1\n",
    "    else:\n",
    "        return 0\n",
    "\n",
    "# Add the new 'demand' column\n",
    "df_IcedTea['demand'] = df_IcedTea['Quantity'].apply(categorize_demand)\n"
   ]
  },
  {
   "cell_type": "code",
   "execution_count": 37,
   "metadata": {},
   "outputs": [],
   "source": [
    "df_IcedTea.to_csv(\"IcedTea.csv\")"
   ]
  },
  {
   "cell_type": "markdown",
   "metadata": {},
   "source": [
    "# 6- FBProphet for Modeling the Data"
   ]
  },
  {
   "cell_type": "code",
   "execution_count": 35,
   "metadata": {},
   "outputs": [
    {
     "name": "stderr",
     "output_type": "stream",
     "text": [
      "18:59:24 - cmdstanpy - INFO - Chain [1] start processing\n",
      "18:59:24 - cmdstanpy - INFO - Chain [1] done processing\n"
     ]
    },
    {
     "name": "stdout",
     "output_type": "stream",
     "text": [
      "\n",
      "RMSE on test set: 12.29099727501236\n"
     ]
    },
    {
     "data": {
      "image/png": "[encoded data removed]",
      "text/plain": [
       "<Figure size 1200x600 with 1 Axes>"
      ]
     },
     "metadata": {},
     "output_type": "display_data"
    },
    {
     "data": {
      "text/plain": [
       "<Figure size 1200x600 with 0 Axes>"
      ]
     },
     "metadata": {},
     "output_type": "display_data"
    },
    {
     "data": {
      "image/png": "[encoded data removed]",
      "text/plain": [
       "<Figure size 1000x600 with 1 Axes>"
      ]
     },
     "metadata": {},
     "output_type": "display_data"
    },
    {
     "data": {
      "image/png": "[encoded data removed]",
      "text/plain": [
       "<Figure size 900x900 with 3 Axes>"
      ]
     },
     "metadata": {},
     "output_type": "display_data"
    },
    {
     "name": "stdout",
     "output_type": "stream",
     "text": [
      "No regressor coefficients found. This might indicate that the regressors were not properly incorporated into the model.\n"
     ]
    }
   ],
   "source": [
    "import pandas as pd\n",
    "import numpy as np\n",
    "from prophet import Prophet\n",
    "from sklearn.metrics import mean_squared_error\n",
    "from math import sqrt\n",
    "import matplotlib.pyplot as plt\n",
    "\n",
    "# Assuming df_IcedTea is your DataFrame\n",
    "df = df_IcedTea.copy()\n",
    "\n",
    "# Prepare data for Prophet\n",
    "df['ds'] = pd.to_datetime(df['Date'])\n",
    "df['y'] = df['Quantity']\n",
    "\n",
    "# Define additional regressors with their mode (additive or multiplicative)\n",
    "regressors = {\n",
    "    'WeekDay': 'additive',\n",
    "    'Is_Weekend': 'additive',\n",
    "\n",
    "}\n",
    "\n",
    "# Ensure all regressors are present in the dataframe\n",
    "for regressor in regressors.keys():\n",
    "    if regressor not in df.columns:\n",
    "        raise ValueError(f\"Regressor '{regressor}' not found in the dataframe.\")\n",
    "\n",
    "# Function to create future dataframe with regressor values\n",
    "def create_future_with_regressors(model, periods, df):\n",
    "    future = model.make_future_dataframe(periods=periods)\n",
    "    \n",
    "    # Add regressor values for the future period\n",
    "    for regressor in regressors.keys():\n",
    "        if regressor == 'WeekDay':\n",
    "            future['WeekDay'] = future['ds'].dt.dayofweek\n",
    "        elif regressor == 'Is_Weekend':\n",
    "            future['Is_Weekend'] = future['ds'].dt.dayofweek.isin([5, 6]).astype(int)\n",
    "        elif regressor == 'demand':\n",
    "            # You may want to implement a more sophisticated method to predict future demand\n",
    "            future['demand'] = df['demand'].mean()\n",
    "        else:\n",
    "            # For any other regressors, you can add custom logic here\n",
    "            future[regressor] = df[regressor].iloc[-1]  # Using the last known value as a placeholder\n",
    "    \n",
    "    return future\n",
    "\n",
    "# Split data into train and test sets\n",
    "test_start = df['ds'].max() - pd.Timedelta(days=7)\n",
    "train = df[df['ds'] < test_start]\n",
    "test = df[df['ds'] >= test_start]\n",
    "\n",
    "# Fit the Prophet model with regressors\n",
    "model = Prophet(yearly_seasonality=False, \n",
    "                weekly_seasonality=True, \n",
    "                daily_seasonality=False,\n",
    "                n_changepoints=25,\n",
    "                changepoint_prior_scale=0.05,\n",
    "                seasonality_prior_scale=10,\n",
    "                mcmc_samples=0,\n",
    "                interval_width=0.9)\n",
    "\n",
    "# Add each regressor to the model with specified mode\n",
    "for regressor, mode in regressors.items():\n",
    "    model.add_regressor(regressor, mode=mode)\n",
    "\n",
    "# Fit the model including regressors\n",
    "model.fit(train[['ds', 'y'] + list(regressors.keys())])\n",
    "\n",
    "# Make predictions on the test set, include regressors\n",
    "test_forecast = model.predict(test[['ds'] + list(regressors.keys())])\n",
    "\n",
    "# Calculate RMSE on the test set\n",
    "test_rmse = sqrt(mean_squared_error(test['y'], test_forecast['yhat']))\n",
    "print(f'\\nRMSE on test set: {test_rmse}')\n",
    "\n",
    "# Plot forecast vs actual for the test set\n",
    "plt.figure(figsize=(12, 6))\n",
    "plt.plot(test['ds'], test['y'], label='Actual')\n",
    "plt.plot(test_forecast['ds'], test_forecast['yhat'], label='Forecast')\n",
    "plt.fill_between(test_forecast['ds'], test_forecast['yhat_lower'], test_forecast['yhat_upper'], alpha=0.3)\n",
    "plt.legend()\n",
    "plt.title('Forecast vs Actual (Test Set)')\n",
    "plt.show()\n",
    "\n",
    "# Future predictions (next 30 days)\n",
    "future = create_future_with_regressors(model, 30, df)\n",
    "\n",
    "# Make future predictions\n",
    "future_forecast = model.predict(future)\n",
    "\n",
    "# Plot future forecast\n",
    "plt.figure(figsize=(12, 6))\n",
    "model.plot(future_forecast)\n",
    "plt.title('Future Forecast (Next 30 Days)')\n",
    "plt.show()\n",
    "\n",
    "# Plot components\n",
    "model.plot_components(future_forecast)\n",
    "plt.show()\n",
    "\n",
    "# Feature importance\n",
    "def get_regressor_coeffs(model):\n",
    "    coeff_dict = {}\n",
    "    for name, param in model.params.items():\n",
    "        if name.startswith('beta_'):\n",
    "            coeff_dict[name[5:]] = param[0]\n",
    "    return coeff_dict\n",
    "\n",
    "regressor_coeffs = get_regressor_coeffs(model)\n",
    "\n",
    "if not regressor_coeffs:\n",
    "    print(\"No regressor coefficients found. This might indicate that the regressors were not properly incorporated into the model.\")\n",
    "else:\n",
    "    feature_importance = pd.DataFrame({\n",
    "        'feature': list(regressor_coeffs.keys()),\n",
    "        'importance': np.abs(list(regressor_coeffs.values())),\n",
    "        'mode': [regressors.get(feat, 'unknown') for feat in regressor_coeffs.keys()]\n",
    "    })\n",
    "    feature_importance = feature_importance.sort_values('importance', ascending=False)\n",
    "    print(\"\\nFeature Importance:\")\n",
    "    print(feature_importance)\n",
    "\n",
    "    # Plot feature importance\n",
    "    plt.figure(figsize=(12, 6))\n",
    "    bars = plt.bar(feature_importance['feature'], feature_importance['importance'])\n",
    "    plt.title('Feature Importance')\n",
    "    plt.xlabel('Features')\n",
    "    plt.ylabel('Absolute Coefficient Value')\n",
    "    plt.xticks(rotation=45)\n",
    "\n",
    "    # Add mode labels to the bars\n",
    "    for bar, mode in zip(bars, feature_importance['mode']):\n",
    "        height = bar.get_height()\n",
    "        plt.text(bar.get_x() + bar.get_width()/2., height,\n",
    "                 mode,\n",
    "                 ha='center', va='bottom', rotation=0)\n",
    "\n",
    "    plt.tight_layout()\n",
    "    plt.show()"
   ]
  },
  {
   "cell_type": "code",
   "execution_count": null,
   "metadata": {},
   "outputs": [],
   "source": []
  }
 ],
 "metadata": {
  "kernelspec": {
   "display_name": "Python 3",
   "language": "python",
   "name": "python3"
  },
  "language_info": {
   "codemirror_mode": {
    "name": "ipython",
    "version": 3
   },
   "file_extension": ".py",
   "mimetype": "text/x-python",
   "name": "python",
   "nbconvert_exporter": "python",
   "pygments_lexer": "ipython3",
   "version": "3.10.11"
  }
 },
 "nbformat": 4,
 "nbformat_minor": 2
}
